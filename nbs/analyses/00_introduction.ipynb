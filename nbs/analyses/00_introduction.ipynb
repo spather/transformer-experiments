{
 "cells": [
  {
   "cell_type": "markdown",
   "metadata": {},
   "source": [
    "# Introduction\n",
    "\n",
    "> An introduction to the TinyShakespeare transformer. "
   ]
  },
  {
   "cell_type": "code",
   "execution_count": null,
   "metadata": {},
   "outputs": [],
   "source": [
    "# | hide\n",
    "%load_ext autoreload\n",
    "%autoreload 2"
   ]
  },
  {
   "cell_type": "code",
   "execution_count": null,
   "metadata": {},
   "outputs": [],
   "source": [
    "#| hide\n",
    "from nbdev.showdoc import *"
   ]
  },
  {
   "cell_type": "code",
   "execution_count": null,
   "metadata": {},
   "outputs": [],
   "source": [
    "#| hide\n",
    "from fastcore.test import *"
   ]
  },
  {
   "cell_type": "code",
   "execution_count": null,
   "metadata": {},
   "outputs": [],
   "source": [
    "import numpy as np\n",
    "import torch"
   ]
  },
  {
   "cell_type": "code",
   "execution_count": null,
   "metadata": {},
   "outputs": [],
   "source": [
    "# Set a manual seed so output is deterministic (used same value as @karpathy)\n",
    "_ = torch.manual_seed(1337)"
   ]
  },
  {
   "cell_type": "code",
   "execution_count": null,
   "metadata": {},
   "outputs": [],
   "source": [
    "from transformer_experiments.datasets.tinyshakespeare import (\n",
    "    TinyShakespeareDataSet,\n",
    ")\n",
    "from transformer_experiments.models.transformer import TransformerLanguageModel\n",
    "from transformer_experiments.models.transformer_helpers import EncodingHelpers\n",
    "from transformer_experiments.trained_models.tinyshakespeare_transformer import (\n",
    "    create_model_and_tokenizer\n",
    ")"
   ]
  },
  {
   "cell_type": "code",
   "execution_count": null,
   "metadata": {},
   "outputs": [],
   "source": [
    "device = 'cuda' if torch.cuda.is_available() else 'cpu'\n",
    "ts = TinyShakespeareDataSet(cache_file='../artifacts/input.txt')\n",
    "m, tokenizer = create_model_and_tokenizer(\n",
    "    saved_model_filename='../artifacts/shakespeare-20231109.pt',\n",
    "    dataset=ts,\n",
    "    device=device,\n",
    ")\n",
    "encoding_helpers = EncodingHelpers(tokenizer, device)"
   ]
  },
  {
   "cell_type": "code",
   "execution_count": null,
   "metadata": {},
   "outputs": [
    {
     "name": "stdout",
     "output_type": "stream",
     "text": [
      "device is cpu\n"
     ]
    }
   ],
   "source": [
    "print(f\"device is {device}\")"
   ]
  },
  {
   "cell_type": "code",
   "execution_count": null,
   "metadata": {},
   "outputs": [
    {
     "data": {
      "text/plain": [
       "10788929"
      ]
     },
     "execution_count": null,
     "metadata": {},
     "output_type": "execute_result"
    }
   ],
   "source": [
    "# Peek at the model size\n",
    "trainable_params = [p for p in m.parameters() if p.requires_grad]\n",
    "nparams = sum([np.prod(p.size()) for p in trainable_params])\n",
    "nparams"
   ]
  },
  {
   "cell_type": "code",
   "execution_count": null,
   "metadata": {},
   "outputs": [],
   "source": [
    "# Helper function to generate text\n",
    "\n",
    "def generate(m: TransformerLanguageModel, initial_text: str, max_new_tokens=100):\n",
    "    input = encoding_helpers.tokenize_string(initial_text)\n",
    "    return tokenizer.decode(m.generate(input, max_new_tokens=max_new_tokens)[0].tolist())\n"
   ]
  },
  {
   "cell_type": "code",
   "execution_count": null,
   "metadata": {},
   "outputs": [
    {
     "name": "stdout",
     "output_type": "stream",
     "text": [
      "Hellow, themselves, and make honey my husband,\n",
      "I'll rest the base of beauty and true.\n",
      "Peter's knowledge! \n"
     ]
    }
   ],
   "source": [
    "print(generate(m, 'Hello'))"
   ]
  },
  {
   "cell_type": "code",
   "execution_count": null,
   "metadata": {},
   "outputs": [
    {
     "name": "stdout",
     "output_type": "stream",
     "text": [
      "\n",
      "And that where 'twixt he must sees from the ventains\n",
      "Were prey means, to account it on.\n",
      "\n",
      "BENVOLIO:\n",
      "Be ready to believe them; bow how now, how I do purbosom!\n",
      "Most advantage, lord! madam, much until\n",
      "Is it between true forth.\n",
      "\n",
      "BENVOLIO:\n",
      "What, what say you?\n",
      "\n",
      "ROMEO:\n",
      "Where hath, affection?\n",
      "\n",
      "MERCUTIO:\n",
      "These devil spirit?\n",
      "\n",
      "MERCUTIO:\n",
      "Thou hast heardst a woman well betray,\n",
      "A little strill thou wilt sworn on our sufferance.\n",
      "What bless Romeo, back we'll quick you our face;\n",
      "Which I meant this assembly defended, saw his lady?\n",
      "Drop of his lates, to the manage of night;\n",
      "For whoe were spenteous barr'd to Rosaline,\n",
      "Should have discharge the heavens to\n",
      "A sebbrance danging so wring; and it is always\n",
      "To be denied in praying tears for a sea,\n",
      "Which bsent with those prince a noble glorious\n",
      "Of the laster-boy, and that's no remainsolution\n",
      "With bewitched by the envy.\n",
      "3 KING RICHARD III:\n",
      "Do receive young England's heir,\n",
      "When it doth command this butcher hand,\n",
      "I must confess a lap of said,\n",
      "And so victory shortly k\n"
     ]
    }
   ],
   "source": [
    "#| eval: false\n",
    "# Generate some longer text\n",
    "print(generate(m, '\\n', max_new_tokens=1000))"
   ]
  },
  {
   "cell_type": "code",
   "execution_count": null,
   "metadata": {},
   "outputs": [
    {
     "name": "stdout",
     "output_type": "stream",
     "text": [
      "There once was a man from Nantucket.\n",
      "Now, for the hardeds for him that I were deserved\n",
      "At God speed to London, for I am put in a\n",
      "king of worth to have strange? Draw with himself against him!\n",
      "Must I need him, for the physicians are\n",
      "To l\n"
     ]
    }
   ],
   "source": [
    "#| eval: false\n",
    "print(generate(m, 'There once was a man from Nantucket', max_new_tokens=200))"
   ]
  }
 ],
 "metadata": {
  "kernelspec": {
   "display_name": "python3",
   "language": "python",
   "name": "python3"
  }
 },
 "nbformat": 4,
 "nbformat_minor": 2
}
