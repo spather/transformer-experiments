{
 "cells": [
  {
   "cell_type": "raw",
   "metadata": {},
   "source": [
    "---\n",
    "skip_exec: true\n",
    "---"
   ]
  },
  {
   "cell_type": "markdown",
   "metadata": {},
   "source": [
    "# Approximation Interpretation\n",
    "\n",
    "> In this notebook, I try to demonstrate an explanation for the approximation."
   ]
  },
  {
   "cell_type": "code",
   "execution_count": null,
   "metadata": {},
   "outputs": [],
   "source": [
    "# | hide\n",
    "%load_ext autoreload\n",
    "%autoreload 2"
   ]
  },
  {
   "cell_type": "code",
   "execution_count": null,
   "metadata": {},
   "outputs": [],
   "source": [
    "# | hide\n",
    "import gc\n",
    "from pathlib import Path\n",
    "from typing import Callable, Dict, List, Optional, Iterable, Sequence, Tuple"
   ]
  },
  {
   "cell_type": "code",
   "execution_count": null,
   "metadata": {},
   "outputs": [],
   "source": [
    "#| hide\n",
    "from fastcore.test import *\n",
    "import math\n",
    "from matplotlib.axes import Axes\n",
    "import matplotlib.pyplot as plt\n",
    "import numpy as np\n",
    "import torch\n",
    "from torch.nn import functional as F\n",
    "from tqdm.auto import tqdm"
   ]
  },
  {
   "cell_type": "code",
   "execution_count": null,
   "metadata": {},
   "outputs": [],
   "source": [
    "# | hide\n",
    "\n",
    "from transformer_experiments.common.substring_generator import all_unique_substrings\n",
    "from transformer_experiments.common.svd_helpers import projection_matrix_for_rank_k_approximation\n",
    "from transformer_experiments.common.text_analysis import (\n",
    "    build_next_token_map,\n",
    ")\n",
    "from transformer_experiments.dataset_split import split_text_dataset\n",
    "from transformer_experiments.datasets.tinyshakespeare import (\n",
    "    TinyShakespeareDataSet,\n",
    ")\n",
    "from transformer_experiments.environments import get_environment\n",
    "from transformer_experiments.models.transformer import (\n",
    "    block_size,\n",
    "    n_embed,\n",
    "    n_layer,\n",
    "    TransformerLanguageModel\n",
    ")\n",
    "from transformer_experiments.models.transformer_helpers import (\n",
    "    unsqueeze_emb,\n",
    "    EncodingHelpers,\n",
    "    LogitsWrapper,\n",
    "    TransformerAccessors\n",
    ")\n",
    "from transformer_experiments.trained_models.tinyshakespeare_transformer import (\n",
    "    create_model_and_tokenizer,\n",
    "    FilenameForToken,\n",
    ")\n",
    "from transformer_experiments.experiments.cosine_sims import (\n",
    "    filter_on_prefiltered_results,\n",
    ")\n"
   ]
  },
  {
   "cell_type": "markdown",
   "metadata": {},
   "source": [
    "## Preliminaries\n",
    "Let's instantiate the model, grab the 20,000 strings we used to analyze the quality of the approximation, run them all through the model, and grab the feed-forward network outputs at each layer. "
   ]
  },
  {
   "cell_type": "code",
   "execution_count": null,
   "metadata": {},
   "outputs": [
    {
     "name": "stdout",
     "output_type": "stream",
     "text": [
      "environment is local_mac\n"
     ]
    }
   ],
   "source": [
    "environment = get_environment()\n",
    "print(f\"environment is {environment.name}\")"
   ]
  },
  {
   "cell_type": "code",
   "execution_count": null,
   "metadata": {},
   "outputs": [],
   "source": [
    "device = 'cuda' if torch.cuda.is_available() else 'cpu'\n",
    "ts = TinyShakespeareDataSet(cache_file=environment.code_root / 'nbs/artifacts/input.txt')\n",
    "m, tokenizer = create_model_and_tokenizer(\n",
    "    saved_model_filename=environment.code_root / 'nbs/artifacts/shakespeare-20231112.pt',\n",
    "    dataset=ts,\n",
    "    device=device,\n",
    ")\n",
    "_, val_data = split_text_dataset(ts.text, tokenizer, train_pct=0.9, device=device)\n",
    "encoding_helpers = EncodingHelpers(tokenizer, device)\n",
    "accessors = TransformerAccessors(m, device)"
   ]
  },
  {
   "cell_type": "code",
   "execution_count": null,
   "metadata": {},
   "outputs": [],
   "source": [
    "# Get all the unique substrings of length 10 from the text\n",
    "strings10 = all_unique_substrings(text=ts.text, substring_length=10)"
   ]
  },
  {
   "cell_type": "code",
   "execution_count": null,
   "metadata": {},
   "outputs": [
    {
     "data": {
      "text/plain": [
       "['is dreams,', 'by present', 's eyes may', 'eart of ho', ' man, as I']"
      ]
     },
     "execution_count": null,
     "metadata": {},
     "output_type": "execute_result"
    }
   ],
   "source": [
    "n_prompts = 20000\n",
    "\n",
    "torch.manual_seed(1337)\n",
    "indices = torch.randperm(len(strings10))[:n_prompts]\n",
    "prompts = [strings10[i.item()] for i in indices]\n",
    "prompts[:5]"
   ]
  },
  {
   "cell_type": "code",
   "execution_count": null,
   "metadata": {},
   "outputs": [],
   "source": [
    "# Tokenize the strings\n",
    "tokens = encoding_helpers.tokenize_strings(prompts)\n",
    "\n",
    "# Embed the tokens\n",
    "accessors = TransformerAccessors(m, device)\n",
    "embeddings = accessors.embed_tokens(tokens)\n",
    "\n",
    "# Run them through the model with hooks attached that let us look at\n",
    "# intermediate values\n",
    "_, io_accessors = accessors.run_model(embeddings)"
   ]
  },
  {
   "cell_type": "code",
   "execution_count": null,
   "metadata": {},
   "outputs": [
    {
     "data": {
      "text/plain": [
       "torch.Size([6, 20000, 384])"
      ]
     },
     "execution_count": null,
     "metadata": {},
     "output_type": "execute_result"
    }
   ],
   "source": [
    "# Grab the outputs of the ffwd networks at each layer\n",
    "ffwd_outs = torch.stack([\n",
    "    io_accessors[block_idx].output('ffwd')[:, -1, :].clone()\n",
    "    for block_idx in range(n_layer)\n",
    "])\n",
    "\n",
    "ffwd_outs.shape"
   ]
  },
  {
   "cell_type": "code",
   "execution_count": null,
   "metadata": {},
   "outputs": [],
   "source": [
    "# Free up some memory\n",
    "del io_accessors\n",
    "_ = gc.collect()"
   ]
  },
  {
   "cell_type": "markdown",
   "metadata": {},
   "source": [
    "Now let's set ourselves up to find similar strings based on the pre-filtered cosine similarities."
   ]
  },
  {
   "cell_type": "code",
   "execution_count": null,
   "metadata": {},
   "outputs": [],
   "source": [
    "prefiltered_threshold=0.7\n",
    "prefiltered_results_folder = environment.data_root / 'cosine_sim_results/large_files/slen10' / f'prefiltered_{prefiltered_threshold}'\n",
    "\n",
    "def prefiltered_filename(block_idx: int, q_idx: int) -> Path:\n",
    "    return prefiltered_results_folder / f'cosine_sim_ffwd_out_{q_idx:05d}_{block_idx:02d}.pt'\n",
    "\n",
    "def load_prefiltered_data(block_idx: int, q_idx: int):\n",
    "    return torch.load(prefiltered_filename(block_idx, q_idx))"
   ]
  },
  {
   "cell_type": "code",
   "execution_count": null,
   "metadata": {},
   "outputs": [],
   "source": [
    "similarity_thresholds=[0.95, 0.94, 0.85, 0.76, 0.81, 0.89]"
   ]
  },
  {
   "cell_type": "markdown",
   "metadata": {},
   "source": [
    "Lastly, let's define some basic building blocks we'll need."
   ]
  },
  {
   "cell_type": "code",
   "execution_count": null,
   "metadata": {},
   "outputs": [],
   "source": [
    "next_token_map10 = build_next_token_map(\n",
    "    text=ts.text,\n",
    "    prefix_len=10,\n",
    "    vocab_size=tokenizer.vocab_size,\n",
    "    stoi=tokenizer.stoi\n",
    ")"
   ]
  },
  {
   "cell_type": "code",
   "execution_count": null,
   "metadata": {},
   "outputs": [],
   "source": [
    "def hellinger_distance(\n",
    "    p: torch.Tensor,\n",
    "    q: torch.Tensor,\n",
    "):\n",
    "    return ((p.sqrt() - q.sqrt())**2).sum(dim=-1).sqrt() / math.sqrt(2)"
   ]
  },
  {
   "cell_type": "code",
   "execution_count": null,
   "metadata": {},
   "outputs": [],
   "source": [
    "def plot_prob_distribution_for_tokens(\n",
    "    prob_distribution: torch.Tensor,\n",
    "    title: str = \"\",\n",
    "    ax: Optional[Axes] = None,\n",
    "    figsize=(12, 4),\n",
    "):\n",
    "    if ax is None:\n",
    "        _, ax = plt.subplots(figsize=figsize)\n",
    "\n",
    "    x_indices = np.arange(tokenizer.vocab_size)\n",
    "    x_labels = [repr(c)[1:-1] for c in tokenizer.chars]\n",
    "\n",
    "    ax.bar(x_indices, prob_distribution)\n",
    "    ax.set_xticks(x_indices, x_labels, rotation=\"vertical\")\n",
    "    ax.set_title(title)\n",
    "    ax.set_ylim(0.0, 1.0)\n",
    "\n",
    "    return ax"
   ]
  },
  {
   "cell_type": "markdown",
   "metadata": {},
   "source": [
    "## Hypothesis\n"
   ]
  },
  {
   "cell_type": "markdown",
   "metadata": {},
   "source": [
    "Let's think about the transformer model from the end and go backwards. At the end of the sequence of blocks, the model has computed some value in embedding space. It then sends this through a final layer norm and then a final linear layer, which produces a value in logit space. The softmax operation at the very end transforms the logits into probabilities, one for each token. \n",
    "\n",
    "My hypothesis of what's going on is:\n",
    "\n",
    "* There's a subspace of the whole embedding space that corresponds to each token being predicted. \n",
    "* The value computed by the feed forward network provides an \"adjustment\" to the input embedding that orients it towards the subspaces that correspond to the next token probabilities defined by the similar strings. "
   ]
  },
  {
   "cell_type": "markdown",
   "metadata": {},
   "source": [
    "## Approximating Token Subspaces"
   ]
  },
  {
   "cell_type": "code",
   "execution_count": null,
   "metadata": {},
   "outputs": [],
   "source": [
    "def create_token_subspace_projection_matrices(\n",
    "    subspace_dims: int,\n",
    "    load_token_embeddings: Callable[[str], torch.Tensor],\n",
    "    all_tokens: Sequence[str],\n",
    ") -> torch.Tensor:\n",
    "    \"\"\"Returns a tensor of projection matrices that project onto\n",
    "    the `subspace_dims`-dimensional space that approximates the\n",
    "    subspace for each token. Returned tensor is of shape\n",
    "    (vocab_size, n_embed, n_embed).\"\"\"\n",
    "\n",
    "    return torch.stack([\n",
    "        projection_matrix_for_rank_k_approximation(\n",
    "            original_matrix=load_token_embeddings(token),\n",
    "            k=subspace_dims,\n",
    "        )\n",
    "        for token in all_tokens\n",
    "    ])"
   ]
  },
  {
   "cell_type": "code",
   "execution_count": null,
   "metadata": {},
   "outputs": [],
   "source": [
    "def topk_similar_projections(\n",
    "    token_subspace_projection_matrices: torch.Tensor,\n",
    "    embedding: torch.Tensor,\n",
    "    k: int,\n",
    "    all_tokens: Sequence[str],\n",
    ") -> Sequence[Tuple[str, float]]:\n",
    "    \"\"\"Projects `embedding` onto the subspaces for each token and then\n",
    "    calculates the cosine similarity between the projected vector and\n",
    "    `embedding`. Determines the top `k` most similar, and returns a\n",
    "    sequence of tuples of the form (token, cosine_similarity).\"\"\"\n",
    "\n",
    "    assert token_subspace_projection_matrices.ndim == 3\n",
    "    assert token_subspace_projection_matrices.shape[1] == token_subspace_projection_matrices.shape[2]\n",
    "    assert token_subspace_projection_matrices.shape[1] == embedding.shape[0]\n",
    "\n",
    "    projections = token_subspace_projection_matrices @ embedding\n",
    "\n",
    "    values, indices = torch.topk(\n",
    "        F.cosine_similarity(projections, embedding, dim=-1),\n",
    "        k=k,\n",
    "        dim=0,\n",
    "    )\n",
    "    tokens = [all_tokens[i.item()] for i in indices]\n",
    "    return list(zip(tokens, values.tolist()))"
   ]
  },
  {
   "cell_type": "markdown",
   "metadata": {},
   "source": [
    "## Demonstrating the Hypothesis"
   ]
  },
  {
   "cell_type": "markdown",
   "metadata": {},
   "source": [
    "### Setup"
   ]
  },
  {
   "cell_type": "code",
   "execution_count": null,
   "metadata": {},
   "outputs": [],
   "source": [
    "learned_embeddings_dir = environment.data_root / 'learned_embeddings'\n",
    "assert learned_embeddings_dir.exists(), \"Learned embeddings directory doesn't exist. Run the code in experiments/learn-embeddings.ipynb to learn embeddings.\""
   ]
  },
  {
   "cell_type": "code",
   "execution_count": null,
   "metadata": {},
   "outputs": [],
   "source": [
    "filename_for_token = FilenameForToken(tokenizer)"
   ]
  },
  {
   "cell_type": "code",
   "execution_count": null,
   "metadata": {},
   "outputs": [],
   "source": [
    "def perform_approximation(block_idx: int, q_idx: int) -> torch.Tensor:\n",
    "    # Find similar strings\n",
    "    similar_indices = filter_on_prefiltered_results(\n",
    "        load_prefiltered=lambda q_idx: load_prefiltered_data(block_idx, q_idx),\n",
    "        q_idx_start=q_idx,\n",
    "        q_idx_end=q_idx+1,\n",
    "        filter_fn=lambda values: values > similarity_thresholds[block_idx]\n",
    "    )\n",
    "    similar_strings = [\n",
    "        [strings10[i] for i in indices]\n",
    "        for indices in similar_indices\n",
    "    ]\n",
    "\n",
    "    # Compute Probability Distribution from Similar Strings\n",
    "    total_freq_distribution = torch.stack(\n",
    "        [next_token_map10[string] for string in similar_strings[0]]\n",
    "    ).sum(dim=0)\n",
    "    prob_distribution = total_freq_distribution / total_freq_distribution.sum()\n",
    "\n",
    "    return prob_distribution, len(similar_strings[0])"
   ]
  },
  {
   "cell_type": "code",
   "execution_count": null,
   "metadata": {},
   "outputs": [],
   "source": [
    "def perform_approximation_and_plot(block_idx: int, q_idx: int):\n",
    "    prob_distribution, n_strings = perform_approximation(block_idx, q_idx)\n",
    "\n",
    "    print(f\"Found {n_strings} similar strings.\")\n",
    "\n",
    "    # Plot the probability distribution\n",
    "    plot_prob_distribution_for_tokens(\n",
    "        prob_distribution,\n",
    "        title=f\"Probability Distribution from Approximation (block_idx={block_idx}, q_idx={q_idx}, prompt={repr(prompts[q_idx])})\",\n",
    "    )"
   ]
  },
  {
   "cell_type": "markdown",
   "metadata": {},
   "source": [
    "### Examples for the Final Output Head: Output Embedding --> Logits (No Blocks)"
   ]
  },
  {
   "cell_type": "code",
   "execution_count": null,
   "metadata": {},
   "outputs": [
    {
     "data": {
      "text/plain": [
       "torch.Size([65, 384, 384])"
      ]
     },
     "execution_count": null,
     "metadata": {},
     "output_type": "execute_result"
    }
   ],
   "source": [
    "no_blocks_proj_matrices = create_token_subspace_projection_matrices(\n",
    "    subspace_dims=1,\n",
    "    load_token_embeddings=lambda token: torch.load(\n",
    "        learned_embeddings_dir /  'no_blocks' / f\"{filename_for_token(token)}.pt\",\n",
    "        map_location=device,\n",
    "    )[:, 0, :],\n",
    "    all_tokens=tokenizer.chars\n",
    ")\n",
    "no_blocks_proj_matrices.shape"
   ]
  },
  {
   "cell_type": "code",
   "execution_count": null,
   "metadata": {},
   "outputs": [
    {
     "name": "stdout",
     "output_type": "stream",
     "text": [
      "Found 3 similar strings.\n"
     ]
    },
    {
     "data": {
      "image/png": "[encoded data removed]",
      "text/plain": [
       "<Figure size 1200x400 with 1 Axes>"
      ]
     },
     "metadata": {},
     "output_type": "display_data"
    }
   ],
   "source": [
    "block_idx = 5\n",
    "q_idx = 33\n",
    "perform_approximation_and_plot(block_idx, q_idx)"
   ]
  },
  {
   "cell_type": "code",
   "execution_count": null,
   "metadata": {},
   "outputs": [
    {
     "data": {
      "text/plain": [
       "[('o', 0.5074884295463562),\n",
       " ('h', 0.40787822008132935),\n",
       " ('i', 0.26926180720329285),\n",
       " ('u', 0.22823508083820343),\n",
       " ('y', 0.20325089991092682)]"
      ]
     },
     "execution_count": null,
     "metadata": {},
     "output_type": "execute_result"
    }
   ],
   "source": [
    "topk_similar_projections(no_blocks_proj_matrices, ffwd_outs[block_idx, q_idx, :], k=5, all_tokens=tokenizer.chars)"
   ]
  },
  {
   "cell_type": "code",
   "execution_count": null,
   "metadata": {},
   "outputs": [
    {
     "name": "stdout",
     "output_type": "stream",
     "text": [
      "Found 823 similar strings.\n"
     ]
    },
    {
     "data": {
      "image/png": "[encoded data removed]",
      "text/plain": [
       "<Figure size 1200x400 with 1 Axes>"
      ]
     },
     "metadata": {},
     "output_type": "display_data"
    }
   ],
   "source": [
    "block_idx = 5\n",
    "q_idx = 36\n",
    "perform_approximation_and_plot(block_idx, q_idx)"
   ]
  },
  {
   "cell_type": "code",
   "execution_count": null,
   "metadata": {},
   "outputs": [
    {
     "data": {
      "text/plain": [
       "[(' ', 0.5869003534317017),\n",
       " ('s', 0.47689366340637207),\n",
       " ('\\n', 0.38412901759147644),\n",
       " ('$', 0.23048195242881775),\n",
       " ('a', 0.21783535182476044)]"
      ]
     },
     "execution_count": null,
     "metadata": {},
     "output_type": "execute_result"
    }
   ],
   "source": [
    "topk_similar_projections(no_blocks_proj_matrices, ffwd_outs[block_idx, q_idx, :], k=5, all_tokens=tokenizer.chars)"
   ]
  },
  {
   "cell_type": "markdown",
   "metadata": {},
   "source": [
    "### Examples with One Block: Block 5 --> Logits"
   ]
  },
  {
   "cell_type": "code",
   "execution_count": null,
   "metadata": {},
   "outputs": [
    {
     "data": {
      "text/plain": [
       "torch.Size([65, 384, 384])"
      ]
     },
     "execution_count": null,
     "metadata": {},
     "output_type": "execute_result"
    }
   ],
   "source": [
    "block_5_proj_matrices = create_token_subspace_projection_matrices(\n",
    "    subspace_dims=1,\n",
    "    load_token_embeddings=lambda token: torch.load(\n",
    "        learned_embeddings_dir /  'block_5' / f\"{filename_for_token(token)}.pt\",\n",
    "        map_location=device,\n",
    "    )[:, 0, :],\n",
    "    all_tokens=tokenizer.chars\n",
    ")\n",
    "block_5_proj_matrices.shape"
   ]
  },
  {
   "cell_type": "code",
   "execution_count": null,
   "metadata": {},
   "outputs": [
    {
     "name": "stdout",
     "output_type": "stream",
     "text": [
      "Found 3 similar strings.\n"
     ]
    },
    {
     "data": {
      "image/png": "[encoded data removed]",
      "text/plain": [
       "<Figure size 1200x400 with 1 Axes>"
      ]
     },
     "metadata": {},
     "output_type": "display_data"
    }
   ],
   "source": [
    "block_idx = 4\n",
    "q_idx = 22\n",
    "perform_approximation_and_plot(block_idx, q_idx)"
   ]
  },
  {
   "cell_type": "code",
   "execution_count": null,
   "metadata": {},
   "outputs": [
    {
     "data": {
      "text/plain": [
       "[('e', 0.39072519540786743),\n",
       " ('t', 0.22815877199172974),\n",
       " ('w', 0.16565938293933868),\n",
       " ('O', 0.16220779716968536),\n",
       " (\"'\", 0.15983152389526367)]"
      ]
     },
     "execution_count": null,
     "metadata": {},
     "output_type": "execute_result"
    }
   ],
   "source": [
    "topk_similar_projections(block_5_proj_matrices, ffwd_outs[block_idx, q_idx, :], k=5, all_tokens=tokenizer.chars)"
   ]
  },
  {
   "cell_type": "code",
   "execution_count": null,
   "metadata": {},
   "outputs": [
    {
     "name": "stdout",
     "output_type": "stream",
     "text": [
      "Found 13 similar strings.\n"
     ]
    },
    {
     "data": {
      "image/png": "[encoded data removed]",
      "text/plain": [
       "<Figure size 1200x400 with 1 Axes>"
      ]
     },
     "metadata": {},
     "output_type": "display_data"
    }
   ],
   "source": [
    "block_idx = 4\n",
    "q_idx = 55\n",
    "perform_approximation_and_plot(block_idx, q_idx)"
   ]
  },
  {
   "cell_type": "code",
   "execution_count": null,
   "metadata": {},
   "outputs": [
    {
     "data": {
      "text/plain": [
       "[('e', 0.3601665794849396),\n",
       " ('l', 0.19291123747825623),\n",
       " ('O', 0.172983318567276),\n",
       " ('r', 0.15273427963256836),\n",
       " ('V', 0.14703969657421112)]"
      ]
     },
     "execution_count": null,
     "metadata": {},
     "output_type": "execute_result"
    }
   ],
   "source": [
    "topk_similar_projections(block_5_proj_matrices, ffwd_outs[block_idx, q_idx, :], k=5, all_tokens=tokenizer.chars)"
   ]
  },
  {
   "cell_type": "markdown",
   "metadata": {},
   "source": [
    "It doesn't work that well. \n",
    "\n",
    "What if we tried a higher dimensional approximation?"
   ]
  },
  {
   "cell_type": "code",
   "execution_count": null,
   "metadata": {},
   "outputs": [
    {
     "data": {
      "text/plain": [
       "[('e', 0.3763144314289093),\n",
       " ('l', 0.21268059313297272),\n",
       " ('Q', 0.19100935757160187),\n",
       " ('r', 0.1881854087114334),\n",
       " ('p', 0.18020297586917877)]"
      ]
     },
     "execution_count": null,
     "metadata": {},
     "output_type": "execute_result"
    }
   ],
   "source": [
    "topk_similar_projections(\n",
    "    create_token_subspace_projection_matrices(\n",
    "        subspace_dims=3,\n",
    "        load_token_embeddings=lambda token: torch.load(\n",
    "            learned_embeddings_dir /  'block_5' / f\"{filename_for_token(token)}.pt\",\n",
    "            map_location=device,\n",
    "        )[:, 0, :],\n",
    "        all_tokens=tokenizer.chars\n",
    "    ),\n",
    "    ffwd_outs[block_idx, q_idx, :], k=5, all_tokens=tokenizer.chars\n",
    ")"
   ]
  },
  {
   "cell_type": "markdown",
   "metadata": {},
   "source": [
    "Not much changed. What if we try sampling more embeddings, like 1000, instead of 100?"
   ]
  },
  {
   "cell_type": "code",
   "execution_count": null,
   "metadata": {},
   "outputs": [
    {
     "data": {
      "text/plain": [
       "[('e', 0.45469194650650024),\n",
       " ('l', 0.23989447951316833),\n",
       " ('r', 0.2296566665172577),\n",
       " ('Q', 0.22248920798301697),\n",
       " ('u', 0.18954990804195404)]"
      ]
     },
     "execution_count": null,
     "metadata": {},
     "output_type": "execute_result"
    }
   ],
   "source": [
    "topk_similar_projections(\n",
    "    create_token_subspace_projection_matrices(\n",
    "        subspace_dims=3,\n",
    "        load_token_embeddings=lambda token: torch.load(\n",
    "            learned_embeddings_dir /  'block_5_1000' / f\"{filename_for_token(token)}.pt\",\n",
    "            map_location=device,\n",
    "        )[:, 0, :],\n",
    "        all_tokens=tokenizer.chars\n",
    "    ),\n",
    "    ffwd_outs[block_idx, q_idx, :], k=5, all_tokens=tokenizer.chars\n",
    ")"
   ]
  },
  {
   "cell_type": "markdown",
   "metadata": {},
   "source": [
    "Not much changed. What if we try 5000?"
   ]
  },
  {
   "cell_type": "code",
   "execution_count": null,
   "metadata": {},
   "outputs": [
    {
     "data": {
      "text/plain": [
       "[('e', 0.4560593366622925),\n",
       " ('l', 0.2688257694244385),\n",
       " ('r', 0.2324495017528534),\n",
       " ('Q', 0.2060614824295044),\n",
       " ('b', 0.20078855752944946)]"
      ]
     },
     "execution_count": null,
     "metadata": {},
     "output_type": "execute_result"
    }
   ],
   "source": [
    "topk_similar_projections(\n",
    "    create_token_subspace_projection_matrices(\n",
    "        subspace_dims=3,\n",
    "        load_token_embeddings=lambda token: torch.load(\n",
    "            learned_embeddings_dir /  'block_5_5000' / f\"{filename_for_token(token)}.pt\",\n",
    "            map_location=device,\n",
    "        )[:, 0, :],\n",
    "        all_tokens=tokenizer.chars\n",
    "    ),\n",
    "    ffwd_outs[block_idx, q_idx, :], k=5, all_tokens=tokenizer.chars\n",
    ")"
   ]
  },
  {
   "cell_type": "markdown",
   "metadata": {},
   "source": [
    "### Examples with Two Blocks: Block 4 --> Logits"
   ]
  },
  {
   "cell_type": "code",
   "execution_count": null,
   "metadata": {},
   "outputs": [
    {
     "data": {
      "text/plain": [
       "torch.Size([65, 384, 384])"
      ]
     },
     "execution_count": null,
     "metadata": {},
     "output_type": "execute_result"
    }
   ],
   "source": [
    "block_4_proj_matrices = create_token_subspace_projection_matrices(\n",
    "    subspace_dims=1,\n",
    "    load_token_embeddings=lambda token: torch.load(\n",
    "        learned_embeddings_dir /  'block_4' / f\"{filename_for_token(token)}.pt\",\n",
    "        map_location=device,\n",
    "    )[:, 0, :],\n",
    "    all_tokens=tokenizer.chars\n",
    ")\n",
    "block_4_proj_matrices.shape"
   ]
  },
  {
   "cell_type": "code",
   "execution_count": null,
   "metadata": {},
   "outputs": [
    {
     "name": "stdout",
     "output_type": "stream",
     "text": [
      "Found 90 similar strings.\n"
     ]
    },
    {
     "data": {
      "image/png": "[encoded data removed]",
      "text/plain": [
       "<Figure size 1200x400 with 1 Axes>"
      ]
     },
     "metadata": {},
     "output_type": "display_data"
    }
   ],
   "source": [
    "block_idx = 3\n",
    "q_idx = 852\n",
    "perform_approximation_and_plot(block_idx, q_idx)"
   ]
  },
  {
   "cell_type": "code",
   "execution_count": null,
   "metadata": {},
   "outputs": [
    {
     "data": {
      "text/plain": [
       "[('n', 0.21810972690582275),\n",
       " ('R', 0.14459426701068878),\n",
       " ('c', 0.1221529021859169),\n",
       " ('G', 0.11818694323301315),\n",
       " ('U', 0.11376696825027466)]"
      ]
     },
     "execution_count": null,
     "metadata": {},
     "output_type": "execute_result"
    }
   ],
   "source": [
    "topk_similar_projections(block_4_proj_matrices, ffwd_outs[block_idx, q_idx, :], k=5, all_tokens=tokenizer.chars)"
   ]
  },
  {
   "cell_type": "markdown",
   "metadata": {},
   "source": [
    "## Aggregate Performance"
   ]
  },
  {
   "cell_type": "markdown",
   "metadata": {},
   "source": [
    "### Output Embedding --> Logits (No Blocks)"
   ]
  },
  {
   "cell_type": "code",
   "execution_count": null,
   "metadata": {},
   "outputs": [
    {
     "data": {
      "application/vnd.jupyter.widget-view+json": {
       "model_id": "35a2b3101f07474db148b2dfc5ee7978",
       "version_major": 2,
       "version_minor": 0
      },
      "text/plain": [
       "  0%|          | 0/20000 [00:00<?, ?it/s]"
      ]
     },
     "metadata": {},
     "output_type": "display_data"
    }
   ],
   "source": [
    "block_idx = 5\n",
    "approx_tokens = []\n",
    "approx_probs = []\n",
    "subspace_tokens = []\n",
    "prob_threshold = 0.99 # We'll include however many tokens needed to cover this much probability mass\n",
    "for q_idx in tqdm(range(n_prompts)):\n",
    "    distribution, _ = perform_approximation(block_idx, q_idx)\n",
    "\n",
    "    # Find the number of tokens needed to cover `prob_threshold` probability mass\n",
    "    sorted = distribution.sort(descending=True)\n",
    "    n_tokens = distribution.shape[0] - (sorted.values.cumsum(dim=0) > prob_threshold).sum() + 1\n",
    "    approx_tokens.append(\n",
    "        [\n",
    "            tokenizer.itos[i.item()]\n",
    "            for i in sorted.indices[:n_tokens]\n",
    "        ]\n",
    "    )\n",
    "    approx_probs.append(sorted.values[:n_tokens])\n",
    "\n",
    "    tokens, _ = zip(\n",
    "        *topk_similar_projections(\n",
    "            no_blocks_proj_matrices,\n",
    "            ffwd_outs[block_idx, q_idx, :],\n",
    "            k=n_tokens,\n",
    "            all_tokens=tokenizer.chars,\n",
    "        )\n",
    "    )\n",
    "    subspace_tokens.append(tokens)"
   ]
  },
  {
   "cell_type": "code",
   "execution_count": null,
   "metadata": {},
   "outputs": [
    {
     "name": "stdout",
     "output_type": "stream",
     "text": [
      "14877 (74.39%) queries had 90% of the predicted probability mass or top 3 tokens in the list of top token subspaces.\n"
     ]
    }
   ],
   "source": [
    "prob_threshold = 0.90\n",
    "top_n = 3\n",
    "count = 0\n",
    "for i in range(n_prompts):\n",
    "    # Figure out how many tokens we need to look at to get to\n",
    "    # `prob_threshold` cumulative probability.\n",
    "    n_tokens = min(\n",
    "        approx_probs[i].shape[0] - (approx_probs[i].cumsum(dim=0) > prob_threshold).sum() + 1,\n",
    "        min(approx_probs[i].shape[0], top_n)\n",
    "    )\n",
    "\n",
    "\n",
    "    if all([approx_tokens[i][j] in subspace_tokens[i] for j in range(n_tokens)]):\n",
    "        count += 1\n",
    "\n",
    "print(f\"{count:>5} ({count / n_prompts:.2%}) queries had 90% of the predicted probability mass or top {top_n} tokens in the list of top token subspaces.\")\n"
   ]
  },
  {
   "cell_type": "markdown",
   "metadata": {},
   "source": [
    "### Block 5 --> Logits (1 Block)"
   ]
  },
  {
   "cell_type": "code",
   "execution_count": null,
   "metadata": {},
   "outputs": [
    {
     "data": {
      "application/vnd.jupyter.widget-view+json": {
       "model_id": "855f8e3fcea043b69f410b41078c80d9",
       "version_major": 2,
       "version_minor": 0
      },
      "text/plain": [
       "  0%|          | 0/20000 [00:00<?, ?it/s]"
      ]
     },
     "metadata": {},
     "output_type": "display_data"
    }
   ],
   "source": [
    "block_idx = 4\n",
    "approx_tokens = []\n",
    "approx_probs = []\n",
    "subspace_tokens = []\n",
    "prob_threshold = 0.99 # We'll include however many tokens needed to cover this much probability mass\n",
    "for q_idx in tqdm(range(n_prompts)):\n",
    "    distribution, _ = perform_approximation(block_idx, q_idx)\n",
    "\n",
    "    # Find the number of tokens needed to cover `prob_threshold` probability mass\n",
    "    sorted = distribution.sort(descending=True)\n",
    "    n_tokens = distribution.shape[0] - (sorted.values.cumsum(dim=0) > prob_threshold).sum() + 1\n",
    "    approx_tokens.append(\n",
    "        [\n",
    "            tokenizer.itos[i.item()]\n",
    "            for i in sorted.indices[:n_tokens]\n",
    "        ]\n",
    "    )\n",
    "    approx_probs.append(sorted.values[:n_tokens])\n",
    "\n",
    "    tokens, _ = zip(\n",
    "        *topk_similar_projections(\n",
    "            no_blocks_proj_matrices,\n",
    "            ffwd_outs[block_idx, q_idx, :],\n",
    "            k=n_tokens,\n",
    "            all_tokens=tokenizer.chars,\n",
    "        )\n",
    "    )\n",
    "    subspace_tokens.append(tokens)"
   ]
  },
  {
   "cell_type": "code",
   "execution_count": null,
   "metadata": {},
   "outputs": [
    {
     "name": "stdout",
     "output_type": "stream",
     "text": [
      "11045 (55.23%) queries had 90% of the predicted probability mass or top 3 tokens in the list of top token subspaces.\n"
     ]
    }
   ],
   "source": [
    "prob_threshold = 0.90\n",
    "top_n = 3\n",
    "count = 0\n",
    "for i in range(n_prompts):\n",
    "    # Figure out how many tokens we need to look at to get to\n",
    "    # `prob_threshold` cumulative probability.\n",
    "    n_tokens = min(\n",
    "        approx_probs[i].shape[0] - (approx_probs[i].cumsum(dim=0) > prob_threshold).sum() + 1,\n",
    "        min(approx_probs[i].shape[0], top_n)\n",
    "    )\n",
    "\n",
    "\n",
    "    if all([approx_tokens[i][j] in subspace_tokens[i] for j in range(n_tokens)]):\n",
    "        count += 1\n",
    "\n",
    "print(f\"{count:>5} ({count / n_prompts:.2%}) queries had 90% of the predicted probability mass or top {top_n} tokens in the list of top token subspaces.\")"
   ]
  },
  {
   "cell_type": "markdown",
   "metadata": {},
   "source": [
    "### Block 4 --> Logits (2 Block)"
   ]
  },
  {
   "cell_type": "code",
   "execution_count": null,
   "metadata": {},
   "outputs": [
    {
     "data": {
      "application/vnd.jupyter.widget-view+json": {
       "model_id": "43a5cb7ecb424f27ac39ce822288ac20",
       "version_major": 2,
       "version_minor": 0
      },
      "text/plain": [
       "  0%|          | 0/20000 [00:00<?, ?it/s]"
      ]
     },
     "metadata": {},
     "output_type": "display_data"
    }
   ],
   "source": [
    "block_idx = 3\n",
    "approx_tokens = []\n",
    "approx_probs = []\n",
    "subspace_tokens = []\n",
    "prob_threshold = 0.99 # We'll include however many tokens needed to cover this much probability mass\n",
    "for q_idx in tqdm(range(n_prompts)):\n",
    "    distribution, _ = perform_approximation(block_idx, q_idx)\n",
    "\n",
    "    # Find the number of tokens needed to cover `prob_threshold` probability mass\n",
    "    sorted = distribution.sort(descending=True)\n",
    "    n_tokens = distribution.shape[0] - (sorted.values.cumsum(dim=0) > prob_threshold).sum() + 1\n",
    "    approx_tokens.append(\n",
    "        [\n",
    "            tokenizer.itos[i.item()]\n",
    "            for i in sorted.indices[:n_tokens]\n",
    "        ]\n",
    "    )\n",
    "    approx_probs.append(sorted.values[:n_tokens])\n",
    "\n",
    "    tokens, _ = zip(\n",
    "        *topk_similar_projections(\n",
    "            no_blocks_proj_matrices,\n",
    "            ffwd_outs[block_idx, q_idx, :],\n",
    "            k=n_tokens,\n",
    "            all_tokens=tokenizer.chars,\n",
    "        )\n",
    "    )\n",
    "    subspace_tokens.append(tokens)"
   ]
  },
  {
   "cell_type": "code",
   "execution_count": null,
   "metadata": {},
   "outputs": [
    {
     "name": "stdout",
     "output_type": "stream",
     "text": [
      " 8051 (40.26%) queries had 90% of the predicted probability mass or top 3 tokens in the list of top token subspaces.\n"
     ]
    }
   ],
   "source": [
    "prob_threshold = 0.90\n",
    "top_n = 3\n",
    "count = 0\n",
    "for i in range(n_prompts):\n",
    "    # Figure out how many tokens we need to look at to get to\n",
    "    # `prob_threshold` cumulative probability.\n",
    "    n_tokens = min(\n",
    "        approx_probs[i].shape[0] - (approx_probs[i].cumsum(dim=0) > prob_threshold).sum() + 1,\n",
    "        min(approx_probs[i].shape[0], top_n)\n",
    "    )\n",
    "\n",
    "\n",
    "    if all([approx_tokens[i][j] in subspace_tokens[i] for j in range(n_tokens)]):\n",
    "        count += 1\n",
    "\n",
    "print(f\"{count:>5} ({count / n_prompts:.2%}) queries had 90% of the predicted probability mass or top {top_n} tokens in the list of top token subspaces.\")\n"
   ]
  }
 ],
 "metadata": {
  "kernelspec": {
   "display_name": "python3",
   "language": "python",
   "name": "python3"
  }
 },
 "nbformat": 4,
 "nbformat_minor": 2
}
