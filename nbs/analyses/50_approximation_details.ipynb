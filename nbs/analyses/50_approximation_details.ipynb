{
 "cells": [
  {
   "cell_type": "raw",
   "metadata": {},
   "source": [
    "---\n",
    "skip_exec: true\n",
    "---"
   ]
  },
  {
   "cell_type": "markdown",
   "metadata": {},
   "source": [
    "# Approximation Details\n",
    "\n",
    "> In this notebook, I look at some details to validate the approximation hypothesis."
   ]
  },
  {
   "cell_type": "code",
   "execution_count": null,
   "metadata": {},
   "outputs": [],
   "source": [
    "# | hide\n",
    "%load_ext autoreload\n",
    "%autoreload 2"
   ]
  },
  {
   "cell_type": "code",
   "execution_count": null,
   "metadata": {},
   "outputs": [],
   "source": [
    "# | hide\n",
    "from collections import defaultdict\n",
    "from functools import partial\n",
    "import gc\n",
    "from operator import itemgetter\n",
    "from pathlib import Path\n",
    "from typing import Callable, Dict, List, Optional, Iterable, Protocol, Sequence, Tuple, TypeVar, Type"
   ]
  },
  {
   "cell_type": "code",
   "execution_count": null,
   "metadata": {},
   "outputs": [],
   "source": [
    "#| hide\n",
    "from fastcore.test import *\n",
    "import math\n",
    "from matplotlib.axes import Axes\n",
    "import matplotlib.pyplot as plt\n",
    "import numpy as np\n",
    "import seaborn as sns\n",
    "from sklearn.cluster import KMeans\n",
    "import tempfile\n",
    "import torch\n",
    "from torch.nn import functional as F\n",
    "from tqdm.auto import tqdm"
   ]
  },
  {
   "cell_type": "code",
   "execution_count": null,
   "metadata": {},
   "outputs": [],
   "source": [
    "# | hide\n",
    "\n",
    "from transformer_experiments.common.substring_generator import all_unique_substrings\n",
    "from transformer_experiments.common.text_analysis import (\n",
    "    build_next_token_map,\n",
    "    SubstringFrequencyAnalysis,\n",
    "    top_nonzero_tokens\n",
    ")\n",
    "from transformer_experiments.common.utils import (\n",
    "    aggregate_by_string_key,\n",
    "    DataWrapper,\n",
    "    topk_across_batches,\n",
    ")\n",
    "from transformer_experiments.dataset_split import split_text_dataset\n",
    "from transformer_experiments.datasets.tinyshakespeare import (\n",
    "    TinyShakespeareDataSet,\n",
    ")\n",
    "from transformer_experiments.environments import get_environment\n",
    "from transformer_experiments.models.transformer import (\n",
    "    block_size,\n",
    "    n_embed,\n",
    "    n_layer,\n",
    "    TransformerLanguageModel\n",
    ")\n",
    "from transformer_experiments.models.transformer_helpers import (\n",
    "    unsqueeze_emb,\n",
    "    EncodingHelpers,\n",
    "    LogitsWrapper,\n",
    "    TransformerAccessors\n",
    ")\n",
    "from transformer_experiments.trained_models.tinyshakespeare_transformer import (\n",
    "    create_model_and_tokenizer,\n",
    "    FilenameForToken,\n",
    ")\n",
    "from transformer_experiments.training_utils import CheckPointer, GetBatchFunction, Trainer\n",
    "from transformer_experiments.experiments.block_internals import (\n",
    "    BlockInternalsAccessors,\n",
    "    BlockInternalsExperiment,\n",
    "    BatchedBlockInternalsExperiment,\n",
    "    BlockInternalsAnalysis,\n",
    "    batch_cosine_sim,\n",
    ")\n",
    "from transformer_experiments.experiments.cosine_sims import (\n",
    "    filter_on_prefiltered_results,\n",
    "    pre_filter_cosine_sim_results,\n",
    ")\n",
    "from transformer_experiments.experiments.final_ffwd import FinalFFWDExperiment\n",
    "from transformer_experiments.experiments.similar_strings import (\n",
    "    SimilarStringsData,\n",
    "    SimilarStringsExperiment,\n",
    "    SimilarStringsResult\n",
    ")\n",
    "from transformer_experiments.experiments.logit_lens import LogitLens"
   ]
  },
  {
   "cell_type": "code",
   "execution_count": null,
   "metadata": {},
   "outputs": [
    {
     "name": "stdout",
     "output_type": "stream",
     "text": [
      "environment is local_mac\n"
     ]
    }
   ],
   "source": [
    "environment = get_environment()\n",
    "print(f\"environment is {environment.name}\")"
   ]
  },
  {
   "cell_type": "code",
   "execution_count": null,
   "metadata": {},
   "outputs": [],
   "source": [
    "device = 'cuda' if torch.cuda.is_available() else 'cpu'\n",
    "ts = TinyShakespeareDataSet(cache_file=environment.code_root / 'nbs/artifacts/input.txt')\n",
    "m, tokenizer = create_model_and_tokenizer(\n",
    "    saved_model_filename=environment.code_root / 'nbs/artifacts/shakespeare-20231112.pt',\n",
    "    dataset=ts,\n",
    "    device=device,\n",
    ")\n",
    "_, val_data = split_text_dataset(ts.text, tokenizer, train_pct=0.9, device=device)\n",
    "encoding_helpers = EncodingHelpers(tokenizer, device)\n",
    "accessors = TransformerAccessors(m, device)"
   ]
  },
  {
   "cell_type": "code",
   "execution_count": null,
   "metadata": {},
   "outputs": [],
   "source": [
    "# Get all the unique substrings of length 10 from the text\n",
    "strings10 = all_unique_substrings(text=ts.text, substring_length=10)"
   ]
  },
  {
   "cell_type": "code",
   "execution_count": null,
   "metadata": {},
   "outputs": [
    {
     "data": {
      "text/plain": [
       "['is dreams,', 'by present', 's eyes may', 'eart of ho', ' man, as I']"
      ]
     },
     "execution_count": null,
     "metadata": {},
     "output_type": "execute_result"
    }
   ],
   "source": [
    "torch.manual_seed(1442)\n",
    "n_prompts = 20000\n",
    "\n",
    "torch.manual_seed(1337)\n",
    "indices = torch.randperm(len(strings10))[:n_prompts]\n",
    "prompts = [strings10[i.item()] for i in indices]\n",
    "prompts[:5]"
   ]
  },
  {
   "cell_type": "code",
   "execution_count": null,
   "metadata": {},
   "outputs": [],
   "source": [
    "# Tokenize the strings\n",
    "tokens = encoding_helpers.tokenize_strings(prompts)\n",
    "\n",
    "# Embed the tokens\n",
    "accessors = TransformerAccessors(m, device)\n",
    "embeddings = accessors.embed_tokens(tokens)\n",
    "\n",
    "# Run them through the model with hooks attached that let us look at\n",
    "# intermediate values\n",
    "_, io_accessors = accessors.run_model(embeddings)"
   ]
  },
  {
   "cell_type": "code",
   "execution_count": null,
   "metadata": {},
   "outputs": [],
   "source": [
    "# Grab the outputs of the ffwd networks at each layer\n",
    "ffwd_outs = []\n",
    "for block_idx in range(n_layer):\n",
    "    ffwd_outs.append(io_accessors[block_idx].output('ffwd')[:, -1, :].clone())"
   ]
  },
  {
   "cell_type": "code",
   "execution_count": null,
   "metadata": {},
   "outputs": [
    {
     "data": {
      "text/plain": [
       "(6, 20000)"
      ]
     },
     "execution_count": null,
     "metadata": {},
     "output_type": "execute_result"
    }
   ],
   "source": [
    "len(ffwd_outs), len(ffwd_outs[0])"
   ]
  },
  {
   "cell_type": "code",
   "execution_count": null,
   "metadata": {},
   "outputs": [],
   "source": [
    "# Free up some memory\n",
    "del io_accessors\n",
    "_ = gc.collect()"
   ]
  },
  {
   "cell_type": "code",
   "execution_count": null,
   "metadata": {},
   "outputs": [],
   "source": [
    "prefiltered_threshold=0.7\n",
    "prefiltered_results_folder = environment.data_root / 'cosine_sim_results/large_files/slen10' / f'prefiltered_{prefiltered_threshold}'\n",
    "\n",
    "def prefiltered_filename(block_idx: int, q_idx: int) -> Path:\n",
    "    return prefiltered_results_folder / f'cosine_sim_ffwd_out_{q_idx:05d}_{block_idx:02d}.pt'\n",
    "\n",
    "def load_prefiltered_data(block_idx: int, q_idx: int):\n",
    "    return torch.load(prefiltered_filename(block_idx, q_idx))"
   ]
  },
  {
   "cell_type": "code",
   "execution_count": null,
   "metadata": {},
   "outputs": [],
   "source": [
    "similarity_thresholds=[0.95, 0.94, 0.85, 0.76, 0.81, 0.89]"
   ]
  },
  {
   "cell_type": "code",
   "execution_count": null,
   "metadata": {},
   "outputs": [],
   "source": [
    "next_token_map10 = build_next_token_map(\n",
    "    text=ts.text,\n",
    "    prefix_len=10,\n",
    "    vocab_size=tokenizer.vocab_size,\n",
    "    stoi=tokenizer.stoi\n",
    ")"
   ]
  },
  {
   "cell_type": "code",
   "execution_count": null,
   "metadata": {},
   "outputs": [],
   "source": [
    "def hellinger_distance(\n",
    "    p: torch.Tensor,\n",
    "    q: torch.Tensor,\n",
    "):\n",
    "    return ((p.sqrt() - q.sqrt())**2).sum(dim=-1).sqrt() / math.sqrt(2)"
   ]
  },
  {
   "cell_type": "code",
   "execution_count": null,
   "metadata": {},
   "outputs": [
    {
     "data": {
      "text/plain": [
       "57"
      ]
     },
     "execution_count": null,
     "metadata": {},
     "output_type": "execute_result"
    }
   ],
   "source": [
    "block_idx = 0\n",
    "q_idx = 40\n",
    "similar_indices = filter_on_prefiltered_results(\n",
    "    load_prefiltered=lambda q_idx: load_prefiltered_data(block_idx, q_idx),\n",
    "    q_idx_start=q_idx,\n",
    "    q_idx_end=q_idx+1,\n",
    "    filter_fn=lambda values: values > similarity_thresholds[block_idx]\n",
    ")\n",
    "similar_strings = [\n",
    "    [strings10[i] for i in indices]\n",
    "    for indices in similar_indices\n",
    "]\n",
    "len(similar_strings[0])"
   ]
  },
  {
   "cell_type": "code",
   "execution_count": null,
   "metadata": {},
   "outputs": [],
   "source": [
    "total_freq_distribution = torch.stack([\n",
    "    next_token_map10[string] for string in similar_strings[0]\n",
    "]).sum(dim=0)\n",
    "prob_distribution = total_freq_distribution / total_freq_distribution.sum()"
   ]
  },
  {
   "cell_type": "code",
   "execution_count": null,
   "metadata": {},
   "outputs": [],
   "source": [
    "def plot_prob_distribution_for_tokens(\n",
    "    prob_distribution: torch.Tensor,\n",
    "    title: str = \"\",\n",
    "    ax: Optional[Axes] = None,\n",
    "    figsize=(12, 4),\n",
    "):\n",
    "    if ax is None:\n",
    "        _, ax = plt.subplots(figsize=figsize)\n",
    "\n",
    "    x_indices = np.arange(tokenizer.vocab_size)\n",
    "    x_labels = [repr(c)[1:-1] for c in tokenizer.chars]\n",
    "\n",
    "    ax.bar(x_indices, prob_distribution)\n",
    "    ax.set_xticks(x_indices, x_labels, rotation=\"vertical\")\n",
    "    ax.set_title(title)\n",
    "    ax.set_ylim(0.0, 1.0)\n",
    "\n",
    "    return ax"
   ]
  },
  {
   "cell_type": "code",
   "execution_count": null,
   "metadata": {},
   "outputs": [
    {
     "data": {
      "text/plain": [
       "<Axes: title={'center': 'Probability distribution from approximation'}>"
      ]
     },
     "execution_count": null,
     "metadata": {},
     "output_type": "execute_result"
    },
    {
     "data": {
      "image/png": "[encoded data removed]",
      "text/plain": [
       "<Figure size 1200x400 with 1 Axes>"
      ]
     },
     "metadata": {},
     "output_type": "display_data"
    }
   ],
   "source": [
    "plot_prob_distribution_for_tokens(prob_distribution, title=\"Probability distribution from approximation\")"
   ]
  },
  {
   "cell_type": "code",
   "execution_count": null,
   "metadata": {},
   "outputs": [
    {
     "data": {
      "text/plain": [
       "torch.Size([384])"
      ]
     },
     "execution_count": null,
     "metadata": {},
     "output_type": "execute_result"
    }
   ],
   "source": [
    "ffwd_outs[block_idx][q_idx].shape"
   ]
  },
  {
   "cell_type": "code",
   "execution_count": null,
   "metadata": {},
   "outputs": [],
   "source": [
    "logits = accessors.logits_from_embedding(ffwd_outs[block_idx][q_idx])\n",
    "logits = LogitsWrapper(\n",
    "    unsqueeze_emb(logits, expected_last_dim_size=tokenizer.vocab_size),\n",
    "    tokenizer,\n",
    ")"
   ]
  },
  {
   "cell_type": "code",
   "execution_count": null,
   "metadata": {},
   "outputs": [
    {
     "data": {
      "image/png": "[encoded data removed]",
      "text/plain": [
       "<Figure size 1200x400 with 1 Axes>"
      ]
     },
     "metadata": {},
     "output_type": "display_data"
    }
   ],
   "source": [
    "logits.plot_probs()"
   ]
  },
  {
   "cell_type": "code",
   "execution_count": null,
   "metadata": {},
   "outputs": [
    {
     "data": {
      "text/plain": [
       "tensor(0.5305)"
      ]
     },
     "execution_count": null,
     "metadata": {},
     "output_type": "execute_result"
    }
   ],
   "source": [
    "hellinger_distance(prob_distribution, logits.probs()[0, 0])"
   ]
  },
  {
   "cell_type": "code",
   "execution_count": null,
   "metadata": {},
   "outputs": [
    {
     "data": {
      "image/png": "[encoded data removed]",
      "text/plain": [
       "<Figure size 1200x400 with 1 Axes>"
      ]
     },
     "metadata": {},
     "output_type": "display_data"
    }
   ],
   "source": [
    "block_out = io_accessors[block_idx].output('.')[q_idx, -1, :]\n",
    "logits = accessors.logits_from_embedding(unsqueeze_emb(block_out))\n",
    "logits = LogitsWrapper(logits, tokenizer)\n",
    "logits.plot_probs()"
   ]
  },
  {
   "cell_type": "code",
   "execution_count": null,
   "metadata": {},
   "outputs": [
    {
     "data": {
      "text/plain": [
       "tensor(0.5681)"
      ]
     },
     "execution_count": null,
     "metadata": {},
     "output_type": "execute_result"
    }
   ],
   "source": [
    "hellinger_distance(prob_distribution, logits.probs()[0, 0])"
   ]
  },
  {
   "cell_type": "code",
   "execution_count": null,
   "metadata": {},
   "outputs": [],
   "source": [
    "blocks, _ = zip(\n",
    "    *[\n",
    "        accessors.copy_block_from_model(block_idx=i)\n",
    "        for i in range(1, n_layer)\n",
    "    ]\n",
    ")\n",
    "blocks_module = torch.nn.Sequential(*blocks)\n",
    "\n",
    "run_rest_of_model = lambda x: accessors.logits_from_embedding(blocks_module(x)).detach()\n"
   ]
  },
  {
   "cell_type": "code",
   "execution_count": null,
   "metadata": {},
   "outputs": [],
   "source": [
    "logits1 = run_rest_of_model(unsqueeze_emb(block_out))\n",
    "logits1 = LogitsWrapper(logits1, tokenizer)\n",
    "\n",
    "logits2 = run_rest_of_model(unsqueeze_emb(block_out - ffwd_outs[block_idx][q_idx]))\n",
    "logits2 = LogitsWrapper(logits2, tokenizer)"
   ]
  },
  {
   "cell_type": "code",
   "execution_count": null,
   "metadata": {},
   "outputs": [],
   "source": [
    "logits_diff = (logits1.logits - logits2.logits)[0, 0]"
   ]
  },
  {
   "cell_type": "code",
   "execution_count": null,
   "metadata": {},
   "outputs": [
    {
     "data": {
      "text/plain": [
       "torch.Size([65])"
      ]
     },
     "execution_count": null,
     "metadata": {},
     "output_type": "execute_result"
    }
   ],
   "source": [
    "logits_diff.shape"
   ]
  },
  {
   "cell_type": "code",
   "execution_count": null,
   "metadata": {},
   "outputs": [],
   "source": [
    "prob_diff = (logits1.probs() - logits2.probs())[0, 0]"
   ]
  },
  {
   "cell_type": "code",
   "execution_count": null,
   "metadata": {},
   "outputs": [
    {
     "data": {
      "text/plain": [
       "torch.Size([65])"
      ]
     },
     "execution_count": null,
     "metadata": {},
     "output_type": "execute_result"
    }
   ],
   "source": [
    "prob_diff.shape"
   ]
  },
  {
   "cell_type": "code",
   "execution_count": null,
   "metadata": {},
   "outputs": [
    {
     "data": {
      "text/plain": [
       "(-1.0, 1.0)"
      ]
     },
     "execution_count": null,
     "metadata": {},
     "output_type": "execute_result"
    },
    {
     "data": {
      "image/png": "[encoded data removed]",
      "text/plain": [
       "<Figure size 1200x400 with 1 Axes>"
      ]
     },
     "metadata": {},
     "output_type": "display_data"
    }
   ],
   "source": [
    "ax = plot_prob_distribution_for_tokens(prob_diff, title=\"Probability distribution difference\")\n",
    "ax.set_ylim(-1.0, 1.0)"
   ]
  },
  {
   "cell_type": "markdown",
   "metadata": {},
   "source": [
    "## Analysis Using Learned Embeddings"
   ]
  },
  {
   "cell_type": "markdown",
   "metadata": {},
   "source": [
    "### Compute Singular Vectors"
   ]
  },
  {
   "cell_type": "code",
   "execution_count": null,
   "metadata": {},
   "outputs": [],
   "source": [
    "learned_embeddings_dir = environment.data_root / 'learned_embeddings'\n",
    "assert learned_embeddings_dir.exists()"
   ]
  },
  {
   "cell_type": "code",
   "execution_count": null,
   "metadata": {},
   "outputs": [],
   "source": [
    "filename_for_token = FilenameForToken(tokenizer)"
   ]
  },
  {
   "cell_type": "code",
   "execution_count": null,
   "metadata": {},
   "outputs": [],
   "source": [
    "def top_right_singular_vector(multi_embs: torch.Tensor) -> Tuple[torch.Tensor, torch.Tensor]:\n",
    "    U, S, V = torch.linalg.svd(multi_embs[:, 0, :], full_matrices=True)\n",
    "    sign = 1 if F.cosine_similarity(V[0], multi_embs[0, 0, :], dim=-1) > 0 else -1\n",
    "    return sign*V[0], S # top right singular vector and singular values"
   ]
  },
  {
   "cell_type": "markdown",
   "metadata": {},
   "source": [
    "#### No Blocks"
   ]
  },
  {
   "cell_type": "code",
   "execution_count": null,
   "metadata": {},
   "outputs": [],
   "source": [
    "no_blocks_dir = learned_embeddings_dir / 'no_blocks'\n",
    "assert no_blocks_dir.exists()\n"
   ]
  },
  {
   "cell_type": "code",
   "execution_count": null,
   "metadata": {},
   "outputs": [],
   "source": [
    "no_blocks_embeddings = {}\n",
    "for char in tokenizer.chars:\n",
    "    multi_embs = torch.load(no_blocks_dir / f\"{filename_for_token(char)}.pt\", map_location=torch.device('cpu'))\n",
    "    no_blocks_embeddings[char] = top_right_singular_vector(multi_embs)\n"
   ]
  },
  {
   "cell_type": "markdown",
   "metadata": {},
   "source": [
    "#### 1 Block"
   ]
  },
  {
   "cell_type": "code",
   "execution_count": null,
   "metadata": {},
   "outputs": [],
   "source": [
    "block5_dir = learned_embeddings_dir / 'block_5'\n",
    "assert block5_dir.exists()"
   ]
  },
  {
   "cell_type": "code",
   "execution_count": null,
   "metadata": {},
   "outputs": [],
   "source": [
    "block5_embeddings = {}\n",
    "for char in tokenizer.chars:\n",
    "    multi_embs = torch.load(block5_dir / f\"{filename_for_token(char)}.pt\", map_location=torch.device('cpu'))\n",
    "    block5_embeddings[char] = top_right_singular_vector(multi_embs)"
   ]
  },
  {
   "cell_type": "code",
   "execution_count": null,
   "metadata": {},
   "outputs": [],
   "source": [
    "block5_1000_dir = learned_embeddings_dir / 'block_5_1000'\n",
    "assert block5_dir.exists()"
   ]
  },
  {
   "cell_type": "code",
   "execution_count": null,
   "metadata": {},
   "outputs": [],
   "source": [
    "block5_1000_embeddings = {}\n",
    "for char in tokenizer.chars:\n",
    "    multi_embs = torch.load(block5_1000_dir / f\"{filename_for_token(char)}.pt\", map_location=torch.device('cpu'))\n",
    "    block5_1000_embeddings[char] = top_right_singular_vector(multi_embs)"
   ]
  },
  {
   "cell_type": "code",
   "execution_count": null,
   "metadata": {},
   "outputs": [],
   "source": [
    "block5_5000_dir = learned_embeddings_dir / 'block_5_5000'\n",
    "assert block5_dir.exists()"
   ]
  },
  {
   "cell_type": "code",
   "execution_count": null,
   "metadata": {},
   "outputs": [],
   "source": [
    "block5_5000_embeddings = {}\n",
    "for char in tokenizer.chars:\n",
    "    multi_embs = torch.load(block5_5000_dir / f\"{filename_for_token(char)}.pt\", map_location=torch.device('cpu'))\n",
    "    block5_5000_embeddings[char] = top_right_singular_vector(multi_embs)"
   ]
  },
  {
   "cell_type": "markdown",
   "metadata": {},
   "source": [
    "#### 2 Block"
   ]
  },
  {
   "cell_type": "code",
   "execution_count": null,
   "metadata": {},
   "outputs": [],
   "source": [
    "block4_dir = learned_embeddings_dir / 'block_4'\n",
    "assert block4_dir.exists()"
   ]
  },
  {
   "cell_type": "code",
   "execution_count": null,
   "metadata": {},
   "outputs": [],
   "source": [
    "block4_embeddings = {}\n",
    "for char in tokenizer.chars:\n",
    "    multi_embs = torch.load(block4_dir / f\"{filename_for_token(char)}.pt\", map_location=torch.device('cpu'))\n",
    "    block4_embeddings[char] = top_right_singular_vector(multi_embs)"
   ]
  },
  {
   "cell_type": "markdown",
   "metadata": {},
   "source": [
    "#### Examples"
   ]
  },
  {
   "cell_type": "code",
   "execution_count": null,
   "metadata": {},
   "outputs": [
    {
     "data": {
      "text/plain": [
       "823"
      ]
     },
     "execution_count": null,
     "metadata": {},
     "output_type": "execute_result"
    }
   ],
   "source": [
    "block_idx = 5\n",
    "q_idx = 36\n",
    "similar_indices = filter_on_prefiltered_results(\n",
    "    load_prefiltered=lambda q_idx: load_prefiltered_data(block_idx, q_idx),\n",
    "    q_idx_start=q_idx,\n",
    "    q_idx_end=q_idx+1,\n",
    "    filter_fn=lambda values: values > similarity_thresholds[block_idx]\n",
    ")\n",
    "similar_strings = [\n",
    "    [strings10[i] for i in indices]\n",
    "    for indices in similar_indices\n",
    "]\n",
    "len(similar_strings[0])"
   ]
  },
  {
   "cell_type": "code",
   "execution_count": null,
   "metadata": {},
   "outputs": [],
   "source": [
    "total_freq_distribution = torch.stack([\n",
    "    next_token_map10[string] for string in similar_strings[0]\n",
    "]).sum(dim=0)\n",
    "prob_distribution = total_freq_distribution / total_freq_distribution.sum()"
   ]
  },
  {
   "cell_type": "code",
   "execution_count": null,
   "metadata": {},
   "outputs": [
    {
     "data": {
      "image/png": "[encoded data removed]",
      "text/plain": [
       "<Figure size 1200x400 with 1 Axes>"
      ]
     },
     "metadata": {},
     "output_type": "display_data"
    }
   ],
   "source": [
    "_ = plot_prob_distribution_for_tokens(prob_distribution, title=\"Probability distribution from approximation\")"
   ]
  },
  {
   "cell_type": "code",
   "execution_count": null,
   "metadata": {},
   "outputs": [],
   "source": [
    "cosine_sims = torch.tensor([\n",
    "    F.cosine_similarity(\n",
    "        no_blocks_embeddings[char][0],\n",
    "        ffwd_outs[block_idx][q_idx],\n",
    "        dim=-1\n",
    "    )\n",
    "    for char in tokenizer.chars\n",
    "])\n"
   ]
  },
  {
   "cell_type": "code",
   "execution_count": null,
   "metadata": {},
   "outputs": [
    {
     "data": {
      "text/plain": [
       "(tensor([0.5869, 0.4769, 0.3841, 0.1046, 0.0988, 0.0976, 0.0962, 0.0938, 0.0870,\n",
       "         0.0818]),\n",
       " tensor([ 1, 57,  0,  7, 58,  5, 47,  8, 51, 31]))"
      ]
     },
     "execution_count": null,
     "metadata": {},
     "output_type": "execute_result"
    }
   ],
   "source": [
    "values, indices = torch.topk(cosine_sims, k=10)\n",
    "values, indices"
   ]
  },
  {
   "cell_type": "code",
   "execution_count": null,
   "metadata": {},
   "outputs": [
    {
     "data": {
      "text/plain": [
       "[' ', 's', '\\n', '-', 't', \"'\", 'i', '.', 'm', 'S']"
      ]
     },
     "execution_count": null,
     "metadata": {},
     "output_type": "execute_result"
    }
   ],
   "source": [
    "[tokenizer.itos[i.item()] for i in indices]"
   ]
  },
  {
   "cell_type": "code",
   "execution_count": null,
   "metadata": {},
   "outputs": [
    {
     "data": {
      "text/plain": [
       "torch.Size([384])"
      ]
     },
     "execution_count": null,
     "metadata": {},
     "output_type": "execute_result"
    }
   ],
   "source": [
    "no_blocks_embeddings['a'][0].shape"
   ]
  },
  {
   "cell_type": "code",
   "execution_count": null,
   "metadata": {},
   "outputs": [
    {
     "data": {
      "text/plain": [
       "torch.Size([384])"
      ]
     },
     "execution_count": null,
     "metadata": {},
     "output_type": "execute_result"
    }
   ],
   "source": [
    "ffwd_outs[block_idx][q_idx].shape"
   ]
  },
  {
   "cell_type": "code",
   "execution_count": null,
   "metadata": {},
   "outputs": [
    {
     "data": {
      "text/plain": [
       "11"
      ]
     },
     "execution_count": null,
     "metadata": {},
     "output_type": "execute_result"
    }
   ],
   "source": [
    "block_idx = 4\n",
    "q_idx = 72\n",
    "similar_indices = filter_on_prefiltered_results(\n",
    "    load_prefiltered=lambda q_idx: load_prefiltered_data(block_idx, q_idx),\n",
    "    q_idx_start=q_idx,\n",
    "    q_idx_end=q_idx+1,\n",
    "    filter_fn=lambda values: values > similarity_thresholds[block_idx]\n",
    ")\n",
    "similar_strings = [\n",
    "    [strings10[i] for i in indices]\n",
    "    for indices in similar_indices\n",
    "]\n",
    "len(similar_strings[0])"
   ]
  },
  {
   "cell_type": "code",
   "execution_count": null,
   "metadata": {},
   "outputs": [],
   "source": [
    "total_freq_distribution = torch.stack([\n",
    "    next_token_map10[string] for string in similar_strings[0]\n",
    "]).sum(dim=0)\n",
    "prob_distribution = total_freq_distribution / total_freq_distribution.sum()"
   ]
  },
  {
   "cell_type": "code",
   "execution_count": null,
   "metadata": {},
   "outputs": [
    {
     "data": {
      "image/png": "[encoded data removed]",
      "text/plain": [
       "<Figure size 1200x400 with 1 Axes>"
      ]
     },
     "metadata": {},
     "output_type": "display_data"
    }
   ],
   "source": [
    "_ = plot_prob_distribution_for_tokens(prob_distribution, title=\"Probability distribution from approximation\")"
   ]
  },
  {
   "cell_type": "code",
   "execution_count": null,
   "metadata": {},
   "outputs": [],
   "source": [
    "cosine_sims = torch.tensor([\n",
    "    F.cosine_similarity(\n",
    "        block5_embeddings[char][0],\n",
    "        ffwd_outs[block_idx][q_idx],\n",
    "        dim=-1\n",
    "    )\n",
    "    for char in tokenizer.chars\n",
    "])"
   ]
  },
  {
   "cell_type": "code",
   "execution_count": null,
   "metadata": {},
   "outputs": [
    {
     "data": {
      "text/plain": [
       "(tensor([0.2572, 0.2508, 0.1864, 0.1667, 0.1653, 0.1064, 0.1052, 0.0974, 0.0948,\n",
       "         0.0750]),\n",
       " tensor([ 2, 41,  6, 39, 11, 62, 12, 36,  8, 54]))"
      ]
     },
     "execution_count": null,
     "metadata": {},
     "output_type": "execute_result"
    }
   ],
   "source": [
    "values, indices = torch.topk(cosine_sims, k=10)\n",
    "values, indices"
   ]
  },
  {
   "cell_type": "code",
   "execution_count": null,
   "metadata": {},
   "outputs": [
    {
     "data": {
      "text/plain": [
       "['!', 'c', ',', 'a', ';', 'x', '?', 'X', '.', 'p']"
      ]
     },
     "execution_count": null,
     "metadata": {},
     "output_type": "execute_result"
    }
   ],
   "source": [
    "[tokenizer.itos[i.item()] for i in indices]"
   ]
  },
  {
   "cell_type": "code",
   "execution_count": null,
   "metadata": {},
   "outputs": [],
   "source": [
    "cosine_sims = torch.tensor([\n",
    "    F.cosine_similarity(\n",
    "        block5_1000_embeddings[char][0],\n",
    "        ffwd_outs[block_idx][q_idx],\n",
    "        dim=-1\n",
    "    )\n",
    "    for char in tokenizer.chars\n",
    "])"
   ]
  },
  {
   "cell_type": "code",
   "execution_count": null,
   "metadata": {},
   "outputs": [
    {
     "data": {
      "text/plain": [
       "(tensor([0.2614, 0.2589, 0.1958, 0.1935, 0.1618, 0.1106, 0.1100, 0.1007, 0.0906,\n",
       "         0.0814]),\n",
       " tensor([ 2, 41,  6, 39, 11, 36, 62,  8, 49, 12]),\n",
       " ['!', 'c', ',', 'a', ';', 'X', 'x', '.', 'k', '?'])"
      ]
     },
     "execution_count": null,
     "metadata": {},
     "output_type": "execute_result"
    }
   ],
   "source": [
    "values, indices = torch.topk(cosine_sims, k=10)\n",
    "values, indices, [tokenizer.itos[i.item()] for i in indices]"
   ]
  },
  {
   "cell_type": "code",
   "execution_count": null,
   "metadata": {},
   "outputs": [],
   "source": [
    "cosine_sims = torch.tensor([\n",
    "    F.cosine_similarity(\n",
    "        block5_5000_embeddings[char][0],\n",
    "        ffwd_outs[block_idx][q_idx],\n",
    "        dim=-1\n",
    "    )\n",
    "    for char in tokenizer.chars\n",
    "])"
   ]
  },
  {
   "cell_type": "code",
   "execution_count": null,
   "metadata": {},
   "outputs": [
    {
     "data": {
      "text/plain": [
       "(tensor([0.2635, 0.2621, 0.2016, 0.1848, 0.1595, 0.1087, 0.1087, 0.1022, 0.0885,\n",
       "         0.0876]),\n",
       " tensor([41,  2,  6, 39, 11, 62, 36,  8, 12, 49]),\n",
       " ['c', '!', ',', 'a', ';', 'x', 'X', '.', '?', 'k'])"
      ]
     },
     "execution_count": null,
     "metadata": {},
     "output_type": "execute_result"
    }
   ],
   "source": [
    "values, indices = torch.topk(cosine_sims, k=10)\n",
    "values, indices, [tokenizer.itos[i.item()] for i in indices]"
   ]
  },
  {
   "cell_type": "code",
   "execution_count": null,
   "metadata": {},
   "outputs": [],
   "source": [
    "def plot_singular_values(singular_values: Iterable[torch.Tensor], title: str=''):\n",
    "    fig = plt.figure(figsize=(12, 4))\n",
    "\n",
    "    x_indices = np.arange(len(singular_values[0]))\n",
    "    ax = fig.add_subplot(1, 1, 1)\n",
    "    width = 1.0 / len(singular_values)\n",
    "    for i, s in enumerate(singular_values):\n",
    "        ax.bar(x_indices + i*width, s)\n",
    "\n",
    "    ax.set_title(title)\n",
    "    return ax"
   ]
  },
  {
   "cell_type": "code",
   "execution_count": null,
   "metadata": {},
   "outputs": [
    {
     "data": {
      "text/plain": [
       "<Axes: title={'center': 'No Blocks Singular values for l'}>"
      ]
     },
     "execution_count": null,
     "metadata": {},
     "output_type": "execute_result"
    },
    {
     "data": {
      "image/png": "[encoded data removed]",
      "text/plain": [
       "<Figure size 1200x400 with 1 Axes>"
      ]
     },
     "metadata": {},
     "output_type": "display_data"
    }
   ],
   "source": [
    "char = 'l'\n",
    "plot_singular_values(\n",
    "    [no_blocks_embeddings[char][1], block5_embeddings[char][1]],\n",
    "    title=f\"No Blocks Singular values for {char}\"\n",
    ")\n"
   ]
  },
  {
   "cell_type": "markdown",
   "metadata": {},
   "source": [
    "My suspicion is that for the block 5 case, just the first singular vector is not a good approximation of the subspace of the embedding space that produces the target character. Maybe we need to use more of the singular vectors. "
   ]
  },
  {
   "cell_type": "code",
   "execution_count": null,
   "metadata": {},
   "outputs": [],
   "source": [
    "def projection_matrix_from_multi_emb(multi_embs: torch.Tensor, k: int) -> torch.Tensor:\n",
    "    _, _, V = torch.linalg.svd(multi_embs[:, 0, :], full_matrices=True)\n",
    "    basis_vectors = []\n",
    "    for i in range(k):\n",
    "        basis_vectors.append(V[i])\n",
    "\n",
    "    A = torch.stack(basis_vectors).T\n",
    "\n",
    "    return A @ (A.T @ A).inverse() @ A.T\n"
   ]
  },
  {
   "cell_type": "code",
   "execution_count": null,
   "metadata": {},
   "outputs": [],
   "source": [
    "def multi_embs_for_char(char: str, embeddings_dir: Path) -> torch.Tensor:\n",
    "    return torch.load(embeddings_dir / f\"{filename_for_token(char)}.pt\", map_location=torch.device('cpu'))"
   ]
  },
  {
   "cell_type": "code",
   "execution_count": null,
   "metadata": {},
   "outputs": [
    {
     "data": {
      "text/plain": [
       "tensor([[1., 4.],\n",
       "        [2., 5.],\n",
       "        [3., 6.]])"
      ]
     },
     "execution_count": null,
     "metadata": {},
     "output_type": "execute_result"
    }
   ],
   "source": [
    "v1 = torch.tensor([1.0, 2.0, 3.0])\n",
    "v2 = torch.tensor([4.0, 5.0, 6.0])\n",
    "torch.stack([v1, v2]).T"
   ]
  },
  {
   "cell_type": "code",
   "execution_count": null,
   "metadata": {},
   "outputs": [
    {
     "data": {
      "text/plain": [
       "torch.Size([100, 1, 384])"
      ]
     },
     "execution_count": null,
     "metadata": {},
     "output_type": "execute_result"
    }
   ],
   "source": [
    "multi_emb_l = multi_embs_for_char('l', block5_dir)\n",
    "multi_emb_l.shape"
   ]
  },
  {
   "cell_type": "code",
   "execution_count": null,
   "metadata": {},
   "outputs": [],
   "source": [
    "p = projection_matrix_from_multi_emb(multi_emb_l, k=2)"
   ]
  },
  {
   "cell_type": "code",
   "execution_count": null,
   "metadata": {},
   "outputs": [
    {
     "data": {
      "text/plain": [
       "torch.Size([384, 384])"
      ]
     },
     "execution_count": null,
     "metadata": {},
     "output_type": "execute_result"
    }
   ],
   "source": [
    "p.shape"
   ]
  },
  {
   "cell_type": "code",
   "execution_count": null,
   "metadata": {},
   "outputs": [
    {
     "data": {
      "text/plain": [
       "torch.Size([384])"
      ]
     },
     "execution_count": null,
     "metadata": {},
     "output_type": "execute_result"
    }
   ],
   "source": [
    "proj = p @ ffwd_outs[block_idx][q_idx]\n",
    "proj.shape"
   ]
  },
  {
   "cell_type": "code",
   "execution_count": null,
   "metadata": {},
   "outputs": [
    {
     "data": {
      "text/plain": [
       "tensor(4.7440)"
      ]
     },
     "execution_count": null,
     "metadata": {},
     "output_type": "execute_result"
    }
   ],
   "source": [
    "(ffwd_outs[block_idx][q_idx] - proj).norm()"
   ]
  },
  {
   "cell_type": "code",
   "execution_count": null,
   "metadata": {},
   "outputs": [
    {
     "data": {
      "text/plain": [
       "tensor(5.3079)"
      ]
     },
     "execution_count": null,
     "metadata": {},
     "output_type": "execute_result"
    }
   ],
   "source": [
    "compare_char = '$'\n",
    "p = projection_matrix_from_multi_emb(multi_embs_for_char(compare_char, block5_dir), k=2)\n",
    "proj = p @ ffwd_outs[block_idx][q_idx]\n",
    "(ffwd_outs[block_idx][q_idx] - proj).norm()"
   ]
  },
  {
   "cell_type": "code",
   "execution_count": null,
   "metadata": {},
   "outputs": [
    {
     "data": {
      "text/plain": [
       "(tensor([5.0757, 5.0769, 5.0839, 5.0950, 5.0962, 5.0977, 5.1026, 5.1049, 5.1082,\n",
       "         5.1091]),\n",
       " tensor([56, 46,  1,  9, 50, 25, 23,  8, 54, 62]),\n",
       " ['r', 'h', ' ', '3', 'l', 'M', 'K', '.', 'p', 'x'])"
      ]
     },
     "execution_count": null,
     "metadata": {},
     "output_type": "execute_result"
    }
   ],
   "source": [
    "k=3\n",
    "distances = []\n",
    "for char in tokenizer.chars:\n",
    "    p = projection_matrix_from_multi_emb(multi_embs_for_char(char, block5_dir), k=3)\n",
    "    proj = p @ ffwd_outs[block_idx][q_idx]\n",
    "    distances.append((ffwd_outs[block_idx][q_idx] - proj).norm())\n",
    "distances = torch.tensor(distances)\n",
    "values, indices = torch.topk(distances, k=10, largest=False)\n",
    "values, indices, [tokenizer.itos[i.item()] for i in indices]"
   ]
  },
  {
   "cell_type": "code",
   "execution_count": null,
   "metadata": {},
   "outputs": [
    {
     "data": {
      "text/plain": [
       "(tensor([1.1238, 1.0957, 0.8145, 0.7285, 0.7222, 0.6194, 0.4649, 0.4595, 0.4380,\n",
       "         0.4272]),\n",
       " tensor([ 2, 41,  6, 39, 11, 21, 62, 12, 35, 27]),\n",
       " ['!', 'c', ',', 'a', ';', 'I', 'x', '?', 'W', 'O'])"
      ]
     },
     "execution_count": null,
     "metadata": {},
     "output_type": "execute_result"
    }
   ],
   "source": [
    "k=1\n",
    "norms = []\n",
    "for char in tokenizer.chars:\n",
    "    p = projection_matrix_from_multi_emb(multi_embs_for_char(char, block5_dir), k=k)\n",
    "    proj = p @ ffwd_outs[block_idx][q_idx]\n",
    "    norms.append(proj.norm())\n",
    "norms = torch.tensor(norms)\n",
    "values, indices = torch.topk(norms, k=10)\n",
    "values, indices, [tokenizer.itos[i.item()] for i in indices]"
   ]
  },
  {
   "cell_type": "code",
   "execution_count": null,
   "metadata": {},
   "outputs": [
    {
     "data": {
      "text/plain": [
       "(tensor([1.1559, 1.0963, 1.0274, 0.8432, 0.8290, 0.8286, 0.8207, 0.7537, 0.6604,\n",
       "         0.6285, 0.6125, 0.5953, 0.5893, 0.5789, 0.5750, 0.5671, 0.5521, 0.5327,\n",
       "         0.5221, 0.5150, 0.4902, 0.4888, 0.4858, 0.4847, 0.4805, 0.4743, 0.4590,\n",
       "         0.4517, 0.4470, 0.4421, 0.4419, 0.4396, 0.4363, 0.4298, 0.4124, 0.4047,\n",
       "         0.3980, 0.3940, 0.3810, 0.3764, 0.3715, 0.3552, 0.3517, 0.3413, 0.3364,\n",
       "         0.3346, 0.3338, 0.3138, 0.3085, 0.2962, 0.2953, 0.2792, 0.2736, 0.2721,\n",
       "         0.2709, 0.2653, 0.2204, 0.2120, 0.1994, 0.1870, 0.1676, 0.1610, 0.1509,\n",
       "         0.0991, 0.0770]),\n",
       " tensor([ 2, 41,  8, 29, 11,  6, 39, 21, 51, 46, 54, 10, 38, 55, 36, 43, 30, 12,\n",
       "         32, 62, 40, 61,  3, 45, 16,  4,  9, 35, 60, 52, 24, 22, 49, 27, 47, 31,\n",
       "         14, 48, 23, 17, 13, 53, 44, 26, 18, 37, 20, 57, 28, 59, 64, 15, 63,  7,\n",
       "         42, 58, 25, 19,  1, 50,  0, 33, 56,  5, 34]),\n",
       " ['!',\n",
       "  'c',\n",
       "  '.',\n",
       "  'Q',\n",
       "  ';',\n",
       "  ',',\n",
       "  'a',\n",
       "  'I',\n",
       "  'm',\n",
       "  'h',\n",
       "  'p',\n",
       "  ':',\n",
       "  'Z',\n",
       "  'q',\n",
       "  'X',\n",
       "  'e',\n",
       "  'R',\n",
       "  '?',\n",
       "  'T',\n",
       "  'x',\n",
       "  'b',\n",
       "  'w',\n",
       "  '$',\n",
       "  'g',\n",
       "  'D',\n",
       "  '&',\n",
       "  '3',\n",
       "  'W',\n",
       "  'v',\n",
       "  'n',\n",
       "  'L',\n",
       "  'J',\n",
       "  'k',\n",
       "  'O',\n",
       "  'i',\n",
       "  'S',\n",
       "  'B',\n",
       "  'j',\n",
       "  'K',\n",
       "  'E',\n",
       "  'A',\n",
       "  'o',\n",
       "  'f',\n",
       "  'N',\n",
       "  'F',\n",
       "  'Y',\n",
       "  'H',\n",
       "  's',\n",
       "  'P',\n",
       "  'u',\n",
       "  'z',\n",
       "  'C',\n",
       "  'y',\n",
       "  '-',\n",
       "  'd',\n",
       "  't',\n",
       "  'M',\n",
       "  'G',\n",
       "  ' ',\n",
       "  'l',\n",
       "  '\\n',\n",
       "  'U',\n",
       "  'r',\n",
       "  \"'\",\n",
       "  'V'])"
      ]
     },
     "execution_count": null,
     "metadata": {},
     "output_type": "execute_result"
    }
   ],
   "source": [
    "k=3\n",
    "norms = []\n",
    "for char in tokenizer.chars:\n",
    "    p = projection_matrix_from_multi_emb(multi_embs_for_char(char, block5_dir)[:100, :, :], k=k)\n",
    "    proj = p @ ffwd_outs[block_idx][q_idx]\n",
    "    norms.append(proj.norm())\n",
    "norms = torch.tensor(norms)\n",
    "values, indices = torch.topk(norms, k=65)\n",
    "values, indices, [tokenizer.itos[i.item()] for i in indices]"
   ]
  },
  {
   "cell_type": "code",
   "execution_count": null,
   "metadata": {},
   "outputs": [
    {
     "data": {
      "text/plain": [
       "(tensor([2.3661, 1.7985, 1.7774, 1.6871, 1.6380, 1.6304, 1.6047, 1.4994, 1.4495,\n",
       "         1.4171, 1.3473, 1.3419, 1.3260, 1.2587, 1.2499, 1.1820, 1.1239, 1.1118,\n",
       "         1.0701, 1.0608, 1.0531, 1.0465, 1.0444, 1.0211, 1.0078, 1.0045, 0.9660,\n",
       "         0.9489, 0.9380, 0.9242, 0.9043, 0.8980, 0.8724, 0.8324, 0.8271, 0.8117,\n",
       "         0.7984, 0.7797, 0.7726, 0.7489, 0.7341, 0.7202, 0.6846, 0.6711, 0.5837,\n",
       "         0.5641, 0.5489, 0.5488, 0.5348, 0.5309, 0.4719, 0.4555, 0.4500, 0.4090,\n",
       "         0.3959, 0.3957, 0.3921, 0.3512, 0.3416, 0.3167, 0.3082, 0.2975, 0.2243,\n",
       "         0.2238, 0.0750]),\n",
       " tensor([39,  1, 56, 33, 43,  6, 47, 15, 64, 13,  8,  9, 21,  0, 22, 48, 12, 41,\n",
       "         62, 61, 29, 10,  2, 37, 52, 24,  3, 59, 16, 25,  5,  4, 49, 14, 30, 23,\n",
       "         51, 54, 19, 18, 27, 63, 38, 57, 34, 20, 36, 17, 44,  7, 58, 45, 31, 55,\n",
       "         60, 50, 53, 40, 46, 26, 35, 42, 32, 11, 28]),\n",
       " ['a',\n",
       "  ' ',\n",
       "  'r',\n",
       "  'U',\n",
       "  'e',\n",
       "  ',',\n",
       "  'i',\n",
       "  'C',\n",
       "  'z',\n",
       "  'A',\n",
       "  '.',\n",
       "  '3',\n",
       "  'I',\n",
       "  '\\n',\n",
       "  'J',\n",
       "  'j',\n",
       "  '?',\n",
       "  'c',\n",
       "  'x',\n",
       "  'w',\n",
       "  'Q',\n",
       "  ':',\n",
       "  '!',\n",
       "  'Y',\n",
       "  'n',\n",
       "  'L',\n",
       "  '$',\n",
       "  'u',\n",
       "  'D',\n",
       "  'M',\n",
       "  \"'\",\n",
       "  '&',\n",
       "  'k',\n",
       "  'B',\n",
       "  'R',\n",
       "  'K',\n",
       "  'm',\n",
       "  'p',\n",
       "  'G',\n",
       "  'F',\n",
       "  'O',\n",
       "  'y',\n",
       "  'Z',\n",
       "  's',\n",
       "  'V',\n",
       "  'H',\n",
       "  'X',\n",
       "  'E',\n",
       "  'f',\n",
       "  '-',\n",
       "  't',\n",
       "  'g',\n",
       "  'S',\n",
       "  'q',\n",
       "  'v',\n",
       "  'l',\n",
       "  'o',\n",
       "  'b',\n",
       "  'h',\n",
       "  'N',\n",
       "  'W',\n",
       "  'd',\n",
       "  'T',\n",
       "  ';',\n",
       "  'P'])"
      ]
     },
     "execution_count": null,
     "metadata": {},
     "output_type": "execute_result"
    }
   ],
   "source": [
    "k=3\n",
    "target=ffwd_outs[block_idx][q_idx]\n",
    "results_dir=block5_dir\n",
    "use_n_embs=100\n",
    "norms = []\n",
    "for char in tokenizer.chars:\n",
    "    p = projection_matrix_from_multi_emb(multi_embs_for_char(char, results_dir)[:use_n_embs, :, :], k=k)\n",
    "    proj = p @ target\n",
    "    norms.append(proj.norm())\n",
    "norms = torch.tensor(norms)\n",
    "values, indices = torch.topk(norms, k=65)\n",
    "values, indices, [tokenizer.itos[i.item()] for i in indices]"
   ]
  },
  {
   "cell_type": "code",
   "execution_count": null,
   "metadata": {},
   "outputs": [],
   "source": [
    "io_accessors[block_idx].output('.')[q_idx, -1, :].shape"
   ]
  },
  {
   "cell_type": "code",
   "execution_count": null,
   "metadata": {},
   "outputs": [],
   "source": [
    "block5_1000_dir = learned_embeddings_dir / 'block_5_1000'\n",
    "assert block5_1000_dir.exists()"
   ]
  },
  {
   "cell_type": "code",
   "execution_count": null,
   "metadata": {},
   "outputs": [
    {
     "data": {
      "text/plain": [
       "torch.Size([1000, 1, 384])"
      ]
     },
     "execution_count": null,
     "metadata": {},
     "output_type": "execute_result"
    }
   ],
   "source": [
    "multi_emb_G_1000 = multi_embs_for_char('G', block5_1000_dir)\n",
    "multi_emb_G_1000.shape"
   ]
  },
  {
   "cell_type": "code",
   "execution_count": null,
   "metadata": {},
   "outputs": [
    {
     "data": {
      "text/plain": [
       "<Axes: title={'center': 'Block 5 1000 Singular values for G'}>"
      ]
     },
     "execution_count": null,
     "metadata": {},
     "output_type": "execute_result"
    },
    {
     "data": {
      "image/png": "[encoded data removed]",
      "text/plain": [
       "<Figure size 1200x400 with 1 Axes>"
      ]
     },
     "metadata": {},
     "output_type": "display_data"
    }
   ],
   "source": [
    "_, S, V = torch.linalg.svd(multi_emb_G_1000[:, 0, :], full_matrices=True)\n",
    "plot_singular_values(\n",
    "    [S],\n",
    "    title=f\"Block 5 1000 Singular values for G\"\n",
    ")"
   ]
  },
  {
   "cell_type": "code",
   "execution_count": null,
   "metadata": {},
   "outputs": [
    {
     "data": {
      "text/plain": [
       "<Axes: title={'center': 'Block 5 100 Singular values for G'}>"
      ]
     },
     "execution_count": null,
     "metadata": {},
     "output_type": "execute_result"
    },
    {
     "data": {
      "image/png": "[encoded data removed]",
      "text/plain": [
       "<Figure size 1200x400 with 1 Axes>"
      ]
     },
     "metadata": {},
     "output_type": "display_data"
    }
   ],
   "source": [
    "_, S, V = torch.linalg.svd(multi_embs_for_char('G', block5_dir)[:, 0, :], full_matrices=True)\n",
    "plot_singular_values(\n",
    "    [S],\n",
    "    title=f\"Block 5 100 Singular values for G\"\n",
    ")"
   ]
  },
  {
   "cell_type": "code",
   "execution_count": null,
   "metadata": {},
   "outputs": [
    {
     "data": {
      "text/plain": [
       "<Axes: title={'center': 'No Blocks Singular values for G'}>"
      ]
     },
     "execution_count": null,
     "metadata": {},
     "output_type": "execute_result"
    },
    {
     "data": {
      "image/png": "[encoded data removed]",
      "text/plain": [
       "<Figure size 1200x400 with 1 Axes>"
      ]
     },
     "metadata": {},
     "output_type": "display_data"
    }
   ],
   "source": [
    "token = 'L'\n",
    "s1 = torch.linalg.svd(multi_embs_for_char(token, block5_1000_dir)[:, 0, :], full_matrices=True)[1]\n",
    "s2 = torch.linalg.svd(multi_embs_for_char(token, block5_dir)[:, 0, :], full_matrices=True)[1]\n",
    "\n",
    "if s2.shape[0] < s1.shape[0]:\n",
    "    padded = torch.zeros_like(s1)\n",
    "    padded[:s2.shape[0]] = s2\n",
    "    s2 = padded\n",
    "\n",
    "plot_singular_values(\n",
    "    [\n",
    "        s1 / s1.sum(), s2 / s2.sum()\n",
    "    ],\n",
    "    title=f\"No Blocks Singular values for G\"\n",
    ")"
   ]
  },
  {
   "cell_type": "code",
   "execution_count": null,
   "metadata": {},
   "outputs": [
    {
     "data": {
      "text/plain": [
       "<matplotlib.legend.Legend>"
      ]
     },
     "execution_count": null,
     "metadata": {},
     "output_type": "execute_result"
    },
    {
     "data": {
      "image/png": "[encoded data removed]",
      "text/plain": [
       "<Figure size 1200x400 with 1 Axes>"
      ]
     },
     "metadata": {},
     "output_type": "display_data"
    }
   ],
   "source": [
    "norm_s1 = s1 / s1.sum()\n",
    "norm_s2 = s2 / s2.sum()\n",
    "\n",
    "# plot the cumulative sums of norm_s1 and norm_s2\n",
    "fig = plt.figure(figsize=(12, 4))\n",
    "\n",
    "x_indices = np.arange(len(norm_s1))\n",
    "ax = fig.add_subplot(1, 1, 1)\n",
    "ax.plot(x_indices, norm_s1.cumsum(dim=0))\n",
    "ax.plot(x_indices, norm_s2.cumsum(dim=0))\n",
    "ax.legend(['1000', '100'])\n"
   ]
  },
  {
   "cell_type": "code",
   "execution_count": null,
   "metadata": {},
   "outputs": [
    {
     "data": {
      "text/plain": [
       "(torch.Size([100]), torch.Size([384]))"
      ]
     },
     "execution_count": null,
     "metadata": {},
     "output_type": "execute_result"
    }
   ],
   "source": [
    "torch.linalg.svd(multi_embs_for_char(token, block5_dir)[:, 0, :], full_matrices=True)[1].shape, torch.linalg.svd(multi_embs_for_char(token, block5_1000_dir)[:, 0, :], full_matrices=True)[1].shape"
   ]
  },
  {
   "cell_type": "code",
   "execution_count": null,
   "metadata": {},
   "outputs": [
    {
     "data": {
      "text/plain": [
       "torch.Size([100, 100])"
      ]
     },
     "execution_count": null,
     "metadata": {},
     "output_type": "execute_result"
    }
   ],
   "source": [
    "U, S, V = torch.linalg.svd(multi_embs_for_char(token, block5_dir)[:, 0, :], full_matrices=True)\n",
    "U.shape"
   ]
  },
  {
   "cell_type": "code",
   "execution_count": null,
   "metadata": {},
   "outputs": [],
   "source": [
    "block4_dir = learned_embeddings_dir / 'block_4'\n",
    "assert block4_dir.exists()"
   ]
  },
  {
   "cell_type": "code",
   "execution_count": null,
   "metadata": {},
   "outputs": [
    {
     "data": {
      "text/plain": [
       "<Axes: title={'center': 'Block 4 100 Singular values for G'}>"
      ]
     },
     "execution_count": null,
     "metadata": {},
     "output_type": "execute_result"
    },
    {
     "data": {
      "image/png": "[encoded data removed]",
      "text/plain": [
       "<Figure size 1200x400 with 1 Axes>"
      ]
     },
     "metadata": {},
     "output_type": "display_data"
    }
   ],
   "source": [
    "_, S, V = torch.linalg.svd(multi_embs_for_char('l', block4_dir)[:, 0, :], full_matrices=True)\n",
    "plot_singular_values(\n",
    "    [S],\n",
    "    title=f\"Block 4 100 Singular values for G\"\n",
    ")"
   ]
  },
  {
   "cell_type": "code",
   "execution_count": null,
   "metadata": {},
   "outputs": [
    {
     "data": {
      "text/plain": [
       "<Axes: title={'center': 'Block 4 100 Singular values for G'}>"
      ]
     },
     "execution_count": null,
     "metadata": {},
     "output_type": "execute_result"
    },
    {
     "data": {
      "image/png": "[encoded data removed]",
      "text/plain": [
       "<Figure size 1200x400 with 1 Axes>"
      ]
     },
     "metadata": {},
     "output_type": "display_data"
    }
   ],
   "source": [
    "_, S, V = torch.linalg.svd(multi_embs_for_char('l', block4_dir)[:, 0, :], full_matrices=True)\n",
    "plot_singular_values(\n",
    "    [\n",
    "        torch.linalg.svd(multi_embs_for_char('l', no_blocks_dir)[:, 0, :], full_matrices=True)[1],\n",
    "        torch.linalg.svd(multi_embs_for_char('l', block5_dir)[:, 0, :], full_matrices=True)[1],\n",
    "        torch.linalg.svd(multi_embs_for_char('l', block4_dir)[:, 0, :], full_matrices=True)[1],\n",
    "    ],\n",
    "    title=f\"Block 4 100 Singular values for G\"\n",
    ")"
   ]
  },
  {
   "cell_type": "code",
   "execution_count": null,
   "metadata": {},
   "outputs": [
    {
     "data": {
      "text/plain": [
       "54"
      ]
     },
     "execution_count": null,
     "metadata": {},
     "output_type": "execute_result"
    }
   ],
   "source": [
    "block_idx = 3\n",
    "q_idx = 88\n",
    "similar_indices = filter_on_prefiltered_results(\n",
    "    load_prefiltered=lambda q_idx: load_prefiltered_data(block_idx, q_idx),\n",
    "    q_idx_start=q_idx,\n",
    "    q_idx_end=q_idx+1,\n",
    "    filter_fn=lambda values: values > similarity_thresholds[block_idx]\n",
    ")\n",
    "similar_strings = [\n",
    "    [strings10[i] for i in indices]\n",
    "    for indices in similar_indices\n",
    "]\n",
    "len(similar_strings[0])"
   ]
  },
  {
   "cell_type": "code",
   "execution_count": null,
   "metadata": {},
   "outputs": [],
   "source": [
    "total_freq_distribution = torch.stack([\n",
    "    next_token_map10[string] for string in similar_strings[0]\n",
    "]).sum(dim=0)\n",
    "prob_distribution = total_freq_distribution / total_freq_distribution.sum()"
   ]
  },
  {
   "cell_type": "code",
   "execution_count": null,
   "metadata": {},
   "outputs": [
    {
     "data": {
      "image/png": "[encoded data removed]",
      "text/plain": [
       "<Figure size 1200x400 with 1 Axes>"
      ]
     },
     "metadata": {},
     "output_type": "display_data"
    }
   ],
   "source": [
    "_ = plot_prob_distribution_for_tokens(prob_distribution, title=\"Probability distribution from approximation\")"
   ]
  },
  {
   "cell_type": "code",
   "execution_count": null,
   "metadata": {},
   "outputs": [],
   "source": [
    "cosine_sims = torch.tensor([\n",
    "    F.cosine_similarity(\n",
    "        block5_embeddings[char][0],\n",
    "        ffwd_outs[block_idx][q_idx],\n",
    "        dim=-1\n",
    "    )\n",
    "    for char in tokenizer.chars\n",
    "])"
   ]
  },
  {
   "cell_type": "code",
   "execution_count": null,
   "metadata": {},
   "outputs": [
    {
     "data": {
      "text/plain": [
       "(tensor([0.1375, 0.0951, 0.0912, 0.0865, 0.0840, 0.0793, 0.0791, 0.0757, 0.0640,\n",
       "         0.0571]),\n",
       " tensor([25, 18, 15, 20, 40, 17, 19, 14, 51, 32]),\n",
       " ['M', 'F', 'C', 'H', 'b', 'E', 'G', 'B', 'm', 'T'])"
      ]
     },
     "execution_count": null,
     "metadata": {},
     "output_type": "execute_result"
    }
   ],
   "source": [
    "values, indices = torch.topk(cosine_sims, k=10)\n",
    "values, indices, [tokenizer.itos[i.item()] for i in indices]"
   ]
  },
  {
   "cell_type": "code",
   "execution_count": null,
   "metadata": {},
   "outputs": [],
   "source": []
  }
 ],
 "metadata": {
  "kernelspec": {
   "display_name": "python3",
   "language": "python",
   "name": "python3"
  }
 },
 "nbformat": 4,
 "nbformat_minor": 2
}
