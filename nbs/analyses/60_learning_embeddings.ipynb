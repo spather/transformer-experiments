{
 "cells": [
  {
   "cell_type": "raw",
   "metadata": {},
   "source": [
    "---\n",
    "skip_exec: true\n",
    "---"
   ]
  },
  {
   "cell_type": "markdown",
   "metadata": {},
   "source": [
    "# Learning Embeddings\n",
    "\n",
    "> This notebook contains the code for learning embeddings at various stages of the pipeline."
   ]
  },
  {
   "cell_type": "code",
   "execution_count": null,
   "metadata": {},
   "outputs": [],
   "source": [
    "# | hide\n",
    "%load_ext autoreload\n",
    "%autoreload 2"
   ]
  },
  {
   "cell_type": "code",
   "execution_count": null,
   "metadata": {},
   "outputs": [],
   "source": [
    "# | hide\n",
    "from collections import defaultdict\n",
    "from functools import partial\n",
    "import gc\n",
    "from operator import itemgetter\n",
    "from pathlib import Path\n",
    "from typing import Callable, Dict, List, Optional, Iterable, Protocol, Sequence, Tuple, TypeVar, Type"
   ]
  },
  {
   "cell_type": "code",
   "execution_count": null,
   "metadata": {},
   "outputs": [],
   "source": [
    "#| hide\n",
    "from fastcore.test import *\n",
    "import math\n",
    "from matplotlib.axes import Axes\n",
    "import matplotlib.pyplot as plt\n",
    "import numpy as np\n",
    "import seaborn as sns\n",
    "from sklearn.cluster import KMeans\n",
    "import tempfile\n",
    "import torch\n",
    "from torch import nn\n",
    "from torch.nn import functional as F\n",
    "from tqdm.auto import tqdm"
   ]
  },
  {
   "cell_type": "code",
   "execution_count": null,
   "metadata": {},
   "outputs": [],
   "source": [
    "# | hide\n",
    "\n",
    "from transformer_experiments.common.substring_generator import all_unique_substrings\n",
    "from transformer_experiments.common.text_analysis import (\n",
    "    build_next_token_map,\n",
    "    SubstringFrequencyAnalysis,\n",
    "    top_nonzero_tokens\n",
    ")\n",
    "from transformer_experiments.common.utils import (\n",
    "    aggregate_by_string_key,\n",
    "    DataWrapper,\n",
    "    topk_across_batches,\n",
    ")\n",
    "from transformer_experiments.dataset_split import split_text_dataset\n",
    "from transformer_experiments.datasets.tinyshakespeare import (\n",
    "    TinyShakespeareDataSet,\n",
    ")\n",
    "from transformer_experiments.environments import get_environment\n",
    "from transformer_experiments.models.transformer import (\n",
    "    block_size,\n",
    "    n_embed,\n",
    "    n_layer,\n",
    "    TransformerLanguageModel\n",
    ")\n",
    "from transformer_experiments.models.transformer_helpers import (\n",
    "    unsqueeze_emb,\n",
    "    EncodingHelpers,\n",
    "    LogitsWrapper,\n",
    "    TransformerAccessors\n",
    ")\n",
    "from transformer_experiments.trained_models.tinyshakespeare_transformer import (\n",
    "    create_model_and_tokenizer\n",
    ")\n",
    "from transformer_experiments.training_utils import CheckPointer, GetBatchFunction, Trainer\n",
    "from transformer_experiments.experiments.block_internals import (\n",
    "    BlockInternalsAccessors,\n",
    "    BlockInternalsExperiment,\n",
    "    BatchedBlockInternalsExperiment,\n",
    "    BlockInternalsAnalysis,\n",
    "    batch_cosine_sim,\n",
    ")\n",
    "from transformer_experiments.experiments.cosine_sims import (\n",
    "    filter_on_prefiltered_results,\n",
    "    pre_filter_cosine_sim_results,\n",
    ")\n",
    "from transformer_experiments.experiments.final_ffwd import FinalFFWDExperiment\n",
    "from transformer_experiments.experiments.similar_strings import (\n",
    "    SimilarStringsData,\n",
    "    SimilarStringsExperiment,\n",
    "    SimilarStringsResult\n",
    ")\n",
    "from transformer_experiments.experiments.logit_lens import LogitLens"
   ]
  },
  {
   "cell_type": "code",
   "execution_count": null,
   "metadata": {},
   "outputs": [
    {
     "name": "stdout",
     "output_type": "stream",
     "text": [
      "environment is paperspace\n"
     ]
    }
   ],
   "source": [
    "environment = get_environment()\n",
    "print(f\"environment is {environment.name}\")"
   ]
  },
  {
   "cell_type": "code",
   "execution_count": null,
   "metadata": {},
   "outputs": [],
   "source": [
    "device = 'cuda' if torch.cuda.is_available() else 'cpu'\n",
    "ts = TinyShakespeareDataSet(cache_file=environment.code_root / 'nbs/artifacts/input.txt')\n",
    "m, tokenizer = create_model_and_tokenizer(\n",
    "    saved_model_filename=environment.code_root / 'nbs/artifacts/shakespeare-20231112.pt',\n",
    "    dataset=ts,\n",
    "    device=device,\n",
    ")\n",
    "_, val_data = split_text_dataset(ts.text, tokenizer, train_pct=0.9, device=device)\n",
    "encoding_helpers = EncodingHelpers(tokenizer, device)\n",
    "accessors = TransformerAccessors(m, device)"
   ]
  },
  {
   "cell_type": "code",
   "execution_count": null,
   "metadata": {},
   "outputs": [
    {
     "name": "stdout",
     "output_type": "stream",
     "text": [
      "device is cuda\n"
     ]
    }
   ],
   "source": [
    "print(f\"device is {device}\")"
   ]
  },
  {
   "cell_type": "code",
   "execution_count": null,
   "metadata": {},
   "outputs": [],
   "source": [
    "def learn_embedding_for_char(\n",
    "    target_char: str,\n",
    "    embedding_to_logits: Callable[[torch.Tensor], torch.Tensor],\n",
    "    learning_rate: float = 3e-4,\n",
    "    max_iters: int = 50000,\n",
    "    device: str = device,\n",
    ") -> torch.Tensor:\n",
    "    \"\"\"Given a character, learns the embedding that,\n",
    "    when given as input to the `embedding_to_logits`\n",
    "    function, produces the logits select that character\n",
    "    with probability almost 1.\"\"\"\n",
    "    assert len(target_char) == 1\n",
    "    target = torch.tensor(tokenizer.encode(target_char), device=device)\n",
    "\n",
    "    lsfm = nn.LogSoftmax(dim=-1)\n",
    "    lsfm.to(device)\n",
    "\n",
    "    x = torch.nn.Parameter(torch.randn(1, 1, n_embed, device=device), requires_grad=True)\n",
    "\n",
    "    optimizer = torch.optim.AdamW([x], lr=learning_rate)\n",
    "    eval_iters = max_iters // 10\n",
    "\n",
    "    print(f\"Optimizing embedding for {repr(target_char)}\")\n",
    "    for step in range(max_iters):\n",
    "\n",
    "        logits = embedding_to_logits(x)\n",
    "        B, T, C = logits.shape\n",
    "\n",
    "        yhat = lsfm(logits.view(B * T, C))\n",
    "        loss = F.nll_loss(yhat, target)\n",
    "\n",
    "        if torch.isclose(loss, torch.tensor(0, dtype=loss.dtype, device=device)).item():\n",
    "            print(f\"ending training at step {step:>5}: loss {loss.item():.6f}\")\n",
    "            break\n",
    "\n",
    "        if step % eval_iters == 0:\n",
    "            print(f\"step {step:>5}: loss {loss.item():.6f}\")\n",
    "\n",
    "        optimizer.zero_grad(set_to_none=True)\n",
    "        loss.backward()\n",
    "        optimizer.step()\n",
    "\n",
    "    return x.data.detach(), loss"
   ]
  },
  {
   "cell_type": "code",
   "execution_count": null,
   "metadata": {},
   "outputs": [],
   "source": [
    "def transformer_output_head_function(m: TransformerLanguageModel) -> Callable[[torch.Tensor], torch.Tensor]:\n",
    "    ln_f = nn.LayerNorm(n_embed)\n",
    "    lm_head = nn.Linear(n_embed, tokenizer.vocab_size)\n",
    "\n",
    "    ln_f.load_state_dict(m.ln_f.state_dict())\n",
    "    lm_head.load_state_dict(m.lm_head.state_dict())\n",
    "\n",
    "    ln_f.to(device)\n",
    "    lm_head.to(device)\n",
    "\n",
    "    return lambda x: lm_head(ln_f(x))\n"
   ]
  },
  {
   "cell_type": "code",
   "execution_count": null,
   "metadata": {},
   "outputs": [
    {
     "name": "stdout",
     "output_type": "stream",
     "text": [
      "Optimizing embedding for 'a'\n",
      "step     0: loss 2.809722\n",
      "step  5000: loss 0.009828\n",
      "step 10000: loss 0.000751\n",
      "step 15000: loss 0.000073\n",
      "step 20000: loss 0.000008\n",
      "step 25000: loss 0.000001\n",
      "step 30000: loss 0.000000\n",
      "step 35000: loss 0.000000\n",
      "step 40000: loss 0.000000\n",
      "step 45000: loss 0.000000\n"
     ]
    }
   ],
   "source": [
    "torch.manual_seed(42)\n",
    "emb_a, _ = learn_embedding_for_char('a', transformer_output_head_function(m))"
   ]
  },
  {
   "cell_type": "code",
   "execution_count": null,
   "metadata": {},
   "outputs": [
    {
     "data": {
      "image/png": "[encoded data removed]",
      "text/plain": [
       "<Figure size 1200x400 with 1 Axes>"
      ]
     },
     "metadata": {},
     "output_type": "display_data"
    }
   ],
   "source": [
    "logits = LogitsWrapper(accessors.logits_from_embedding(unsqueeze_emb(emb_a)), tokenizer)\n",
    "logits.plot_probs()"
   ]
  },
  {
   "cell_type": "code",
   "execution_count": null,
   "metadata": {},
   "outputs": [],
   "source": [
    "def block_n_on_function(m: TransformerLanguageModel, n: int) -> Callable[[torch.Tensor], torch.Tensor]:\n",
    "    assert n >= 0 and n < n_layer, \"n must be in [0, n_layer)\"\n",
    "\n",
    "    blocks, _ = zip(\n",
    "        *[\n",
    "            accessors.copy_block_from_model(block_idx=i)\n",
    "            for i in range(n, n_layer)\n",
    "        ]\n",
    "    )\n",
    "    blocks_module = torch.nn.Sequential(*blocks)\n",
    "    output_head = transformer_output_head_function(m)\n",
    "    return lambda x: output_head(blocks_module(x))"
   ]
  },
  {
   "cell_type": "code",
   "execution_count": null,
   "metadata": {},
   "outputs": [
    {
     "name": "stdout",
     "output_type": "stream",
     "text": [
      "Optimizing embedding for 'a'\n",
      "step     0: loss 6.885742\n",
      "step  5000: loss 0.006737\n",
      "step 10000: loss 0.000552\n",
      "step 15000: loss 0.000055\n",
      "step 20000: loss 0.000009\n",
      "step 25000: loss 0.000002\n",
      "step 30000: loss 0.000001\n",
      "step 35000: loss 0.000000\n",
      "step 40000: loss 0.000000\n",
      "step 45000: loss 0.000000\n"
     ]
    }
   ],
   "source": [
    "torch.manual_seed(42)\n",
    "emb_a, _ = learn_embedding_for_char('a', block_n_on_function(m, n=5))"
   ]
  },
  {
   "cell_type": "code",
   "execution_count": null,
   "metadata": {},
   "outputs": [],
   "source": [
    "torch.manual_seed(42)\n",
    "emb_a, _ = learn_embedding_for_char('a', block_n_on_function(m, n=1))"
   ]
  }
 ],
 "metadata": {
  "kernelspec": {
   "display_name": "transformer-experiments",
   "language": "python",
   "name": "transformer-experiments"
  }
 },
 "nbformat": 4,
 "nbformat_minor": 2
}
