{
 "cells": [
  {
   "cell_type": "markdown",
   "metadata": {},
   "source": [
    "# environments\n",
    "\n",
    "> Utilities that help abstract away the different hosting environments for this codebase."
   ]
  },
  {
   "cell_type": "code",
   "execution_count": null,
   "metadata": {},
   "outputs": [],
   "source": [
    "#| default_exp environments"
   ]
  },
  {
   "cell_type": "code",
   "execution_count": null,
   "metadata": {},
   "outputs": [],
   "source": [
    "#| export\n",
    "from dataclasses import dataclass\n",
    "import os\n",
    "import platform\n",
    "from pathlib import Path"
   ]
  },
  {
   "cell_type": "code",
   "execution_count": null,
   "metadata": {},
   "outputs": [],
   "source": [
    "#| hide\n",
    "from nbdev.showdoc import *"
   ]
  },
  {
   "cell_type": "code",
   "execution_count": null,
   "metadata": {},
   "outputs": [],
   "source": [
    "#| hide\n",
    "from fastcore.test import *"
   ]
  },
  {
   "cell_type": "code",
   "execution_count": null,
   "metadata": {},
   "outputs": [],
   "source": [
    "#| export\n",
    "@dataclass\n",
    "class Environment:\n",
    "    name: str\n",
    "    code_root: Path\n",
    "    data_root: Path"
   ]
  },
  {
   "cell_type": "code",
   "execution_count": null,
   "metadata": {},
   "outputs": [],
   "source": [
    "#| exporti\n",
    "\n",
    "# Heuristics that determine the environment. These are not perfect,\n",
    "# but they do the job for now.\n",
    "def is_running_on_local_mac():\n",
    "    return platform.system() == 'Darwin'\n",
    "\n",
    "def is_running_in_paperspace():\n",
    "    return 'PAPERSPACE_FQDN' in os.environ\n",
    "\n",
    "def is_running_in_github_actions():\n",
    "    return 'GITHUB_ACTIONS' in os.environ"
   ]
  },
  {
   "cell_type": "code",
   "execution_count": null,
   "metadata": {},
   "outputs": [],
   "source": [
    "#| export\n",
    "def get_environment() -> Environment:\n",
    "    if is_running_on_local_mac():\n",
    "        data_root = Path('../../generated_data')\n",
    "        data_root.mkdir(exist_ok=True)\n",
    "        return Environment(\n",
    "            name='local_mac',\n",
    "            code_root=Path('../../').resolve(),\n",
    "            data_root=data_root.resolve(),\n",
    "        )\n",
    "    elif is_running_in_paperspace():\n",
    "        return Environment(\n",
    "            name='paperspace',\n",
    "            code_root=Path('/notebooks/code/transformer-experiments/'),\n",
    "            data_root=Path('/storage/')\n",
    "        )\n",
    "    elif is_running_in_github_actions():\n",
    "        data_root = Path('/home/runner/work/transformer-experiments/transformer-experiments/generated_data')\n",
    "        data_root.mkdir(exist_ok=True)\n",
    "        return Environment(\n",
    "            name='github_actions',\n",
    "            code_root=Path('/home/runner/work/transformer-experiments/transformer-experiments/'),\n",
    "            data_root=data_root\n",
    "        )\n",
    "    else:\n",
    "        raise ValueError('Unknown environment')\n"
   ]
  },
  {
   "cell_type": "code",
   "execution_count": null,
   "metadata": {},
   "outputs": [],
   "source": [
    "#| hide\n",
    "import nbdev; nbdev.nbdev_export()"
   ]
  }
 ],
 "metadata": {
  "kernelspec": {
   "display_name": "python3",
   "language": "python",
   "name": "python3"
  }
 },
 "nbformat": 4,
 "nbformat_minor": 4
}
