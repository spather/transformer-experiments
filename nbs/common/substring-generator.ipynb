{
 "cells": [
  {
   "cell_type": "markdown",
   "metadata": {},
   "source": [
    "# substring-generator\n",
    "\n",
    "> Utilities for generating substrings from a body of text."
   ]
  },
  {
   "cell_type": "code",
   "execution_count": null,
   "metadata": {},
   "outputs": [],
   "source": [
    "#| default_exp common.substring_generator"
   ]
  },
  {
   "cell_type": "code",
   "execution_count": null,
   "metadata": {},
   "outputs": [],
   "source": [
    "# | hide\n",
    "%load_ext autoreload\n",
    "%autoreload 2"
   ]
  },
  {
   "cell_type": "code",
   "execution_count": null,
   "metadata": {},
   "outputs": [],
   "source": [
    "#| hide\n",
    "from nbdev.showdoc import *"
   ]
  },
  {
   "cell_type": "code",
   "execution_count": null,
   "metadata": {},
   "outputs": [],
   "source": [
    "#| hide\n",
    "from fastcore.test import *"
   ]
  },
  {
   "cell_type": "code",
   "execution_count": null,
   "metadata": {},
   "outputs": [],
   "source": [
    "#| export\n",
    "from collections import OrderedDict\n",
    "from typing import Sequence"
   ]
  },
  {
   "cell_type": "code",
   "execution_count": null,
   "metadata": {},
   "outputs": [],
   "source": [
    "#| export\n",
    "class SubstringGenerator:\n",
    "    \"\"\"Iterable that produces all possible substrings of a given\n",
    "    length from a given text.\"\"\"\n",
    "    def __init__(self, text: str, substring_length: int):\n",
    "        if len(text) < substring_length:\n",
    "            raise ValueError(\"Text length must be greater than or equal to substring length.\")\n",
    "\n",
    "        if substring_length < 1:\n",
    "            raise ValueError(\"Substring length must be greater than or equal to 1.\")\n",
    "\n",
    "        self.text = text\n",
    "        self.substring_length = substring_length\n",
    "\n",
    "    def __len__(self):\n",
    "        return len(self.text) - self.substring_length + 1\n",
    "\n",
    "    def __iter__(self):\n",
    "        for i in range(len(self.text) - self.substring_length + 1):\n",
    "            yield self.text[i : i + self.substring_length]"
   ]
  },
  {
   "cell_type": "code",
   "execution_count": null,
   "metadata": {},
   "outputs": [],
   "source": [
    "# Tests for SubstringGenerator\n",
    "\n",
    "# Substring length longer than text\n",
    "with ExceptionExpected(ValueError):\n",
    "    SubstringGenerator(\"abc\", 4)\n",
    "\n",
    "# Invalid substring length\n",
    "with ExceptionExpected(ValueError):\n",
    "    SubstringGenerator(\"abc\", 0)\n",
    "\n",
    "with ExceptionExpected(ValueError):\n",
    "    SubstringGenerator(\"abc\", -1)\n",
    "\n",
    "# Valid substring length\n",
    "sg = SubstringGenerator(\"abcd\", 2)\n",
    "test_eq(len(sg), 3)\n",
    "test_eq(list(sg), [\"ab\", \"bc\", \"cd\"])"
   ]
  },
  {
   "cell_type": "code",
   "execution_count": null,
   "metadata": {},
   "outputs": [],
   "source": [
    "#| export\n",
    "def all_unique_substrings(text: str, substring_length: int) -> Sequence[str]:\n",
    "    \"\"\"Returns all unique substrings of a given length from a given text.\n",
    "    Substrings are returned in the order of first occurrence in the text.\"\"\"\n",
    "    sg = SubstringGenerator(text, substring_length)\n",
    "    od: OrderedDict[str, None] = OrderedDict()\n",
    "    for substring in sg:\n",
    "        # only insert if not already present, which ensures the\n",
    "        # order of first occurrence is preserved\n",
    "        if substring not in od:\n",
    "            od[substring] = None\n",
    "    return list(od.keys())"
   ]
  },
  {
   "cell_type": "code",
   "execution_count": null,
   "metadata": {},
   "outputs": [],
   "source": [
    "# Tests for all_unique_substrings\n",
    "\n",
    "# No duplicates\n",
    "test_eq(all_unique_substrings(\"abc\", 2), [\"ab\", \"bc\"])\n",
    "\n",
    "# Duplicates are removed and appear in order of first occurrence\n",
    "test_eq(all_unique_substrings(\"abcab\", 2), [\"ab\", \"bc\", \"ca\"])"
   ]
  },
  {
   "cell_type": "code",
   "execution_count": null,
   "metadata": {},
   "outputs": [],
   "source": [
    "#| hide\n",
    "import nbdev; nbdev.nbdev_export()"
   ]
  }
 ],
 "metadata": {
  "kernelspec": {
   "display_name": "python3",
   "language": "python",
   "name": "python3"
  }
 },
 "nbformat": 4,
 "nbformat_minor": 4
}
