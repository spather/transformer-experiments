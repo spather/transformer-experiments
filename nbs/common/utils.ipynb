{
 "cells": [
  {
   "cell_type": "markdown",
   "metadata": {},
   "source": [
    "# utils\n",
    "\n",
    "> General-purpose utility functions used throughout the project"
   ]
  },
  {
   "cell_type": "code",
   "execution_count": null,
   "metadata": {},
   "outputs": [],
   "source": [
    "#| default_exp common.utils"
   ]
  },
  {
   "cell_type": "code",
   "execution_count": null,
   "metadata": {},
   "outputs": [],
   "source": [
    "#| hide\n",
    "from nbdev.showdoc import *"
   ]
  },
  {
   "cell_type": "code",
   "execution_count": null,
   "metadata": {},
   "outputs": [],
   "source": [
    "#| export\n",
    "from typing import Callable, Dict, Generic, Iterable, TypeVar "
   ]
  },
  {
   "cell_type": "code",
   "execution_count": null,
   "metadata": {},
   "outputs": [],
   "source": [
    "from fastcore.test import *"
   ]
  },
  {
   "cell_type": "code",
   "execution_count": null,
   "metadata": {},
   "outputs": [],
   "source": [
    "# | export\n",
    "T = TypeVar('T') # Generic type that will be used in many places"
   ]
  },
  {
   "cell_type": "code",
   "execution_count": null,
   "metadata": {},
   "outputs": [],
   "source": [
    "# | export\n",
    "def aggregate_by_string_key(\n",
    "    items: Iterable[T], key: Callable[[T], str]\n",
    ") -> Dict[str, T]:\n",
    "    \"\"\"Aggregates an iterable of items into a dictionary, where the key is the result of\n",
    "    applying the key function to the item. If multiple items have the same key, the\n",
    "    last item is used.\"\"\"\n",
    "    return {key(item): item for item in items}"
   ]
  },
  {
   "cell_type": "code",
   "execution_count": null,
   "metadata": {},
   "outputs": [],
   "source": [
    "# Tests for aggregate_by_string_key\n",
    "items = [('a', 1), ('b', 2), ('a', 3)]\n",
    "test_eq(aggregate_by_string_key(items, lambda x: x[0]), {'a': ('a', 3), 'b': ('b', 2)})"
   ]
  },
  {
   "cell_type": "code",
   "execution_count": null,
   "metadata": {},
   "outputs": [],
   "source": [
    "# | export\n",
    "class DataWrapper(Generic[T]):\n",
    "    def __init__(\n",
    "        self,\n",
    "        data: Iterable[T],\n",
    "        format_item_fn: Callable[[T], str] = repr,\n",
    "    ):\n",
    "        self.data = data\n",
    "        self.format_item_fn = format_item_fn\n",
    "\n",
    "    def __repr__(self):\n",
    "        return f\"DataWrapper({repr(self.data)})\"\n",
    "\n",
    "    def __str__(self):\n",
    "        return ', '.join([self.format_item_fn(d) for d in self.data])\n",
    "\n",
    "    def print(self):\n",
    "        for d in self.data:\n",
    "            print(self.format_item_fn(d))"
   ]
  },
  {
   "cell_type": "code",
   "execution_count": null,
   "metadata": {},
   "outputs": [],
   "source": [
    "# Tests for DataWrapper\n",
    "dw = DataWrapper([1, 2, 3], format_item_fn=lambda x: f\"{x}!\")\n",
    "test_eq(str(dw), '1!, 2!, 3!')"
   ]
  },
  {
   "cell_type": "code",
   "execution_count": null,
   "metadata": {},
   "outputs": [],
   "source": [
    "#| hide\n",
    "import nbdev; nbdev.nbdev_export()"
   ]
  }
 ],
 "metadata": {
  "kernelspec": {
   "display_name": "python3",
   "language": "python",
   "name": "python3"
  }
 },
 "nbformat": 4,
 "nbformat_minor": 4
}
