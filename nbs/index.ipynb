{
 "cells": [
  {
   "cell_type": "markdown",
   "metadata": {},
   "source": [
    "# transformer-experiments"
   ]
  },
  {
   "cell_type": "markdown",
   "metadata": {},
   "source": [
    "[![CI](https://github.com/spather/transformer-experiments/actions/workflows/test.yaml/badge.svg?branch=master)](https://github.com/spather/transformer-experiments/actions/workflows/test.yaml)\n",
    "[![Deploy to GitHub Pages](https://github.com/spather/transformer-experiments/actions/workflows/deploy.yaml/badge.svg?branch=master)](https://github.com/spather/transformer-experiments/actions/workflows/deploy.yaml)"
   ]
  },
  {
   "cell_type": "markdown",
   "metadata": {},
   "source": [
    "This repo contains experiments I did on the simple transformer developed in  [Andrej Karpathy](https://karpathy.ai/)'s excellent video, [Let's build GPT: from scratch, in code, spelled out](https://www.youtube.com/watch?v=kCc8FmEb1nY). The transformer architecture, training, and basic inference code comes from that video. The experiments and analyses are my own. "
   ]
  },
  {
   "cell_type": "markdown",
   "metadata": {},
   "source": [
    "## Dev Environment Setup\n",
    "\n",
    "1. Create a virtual environment\n",
    "\n",
    "```bash\n",
    "python3 -m venv ~/venv/venv-transformer-experiments\n",
    "source ~/venv/venv-transformer-experiments/bin/activate\n",
    "```\n",
    "\n",
    "2. Install dependencies\n",
    "\n",
    "```bash\n",
    "pip install -r requirements.txt\n",
    "pip install -r requirements.dev.txt\n",
    "```\n",
    "\n",
    "### Before committing any changes\n",
    "Run the following to ensure all dependencies are generated from notebooks and notebooks are cleaned:\n",
    "\n",
    "```bash\n",
    "make all\n",
    "```\n"
   ]
  }
 ],
 "metadata": {
  "kernelspec": {
   "display_name": "python3",
   "language": "python",
   "name": "python3"
  }
 },
 "nbformat": 4,
 "nbformat_minor": 4
}
