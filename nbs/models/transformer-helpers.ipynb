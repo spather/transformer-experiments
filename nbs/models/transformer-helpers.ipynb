{
 "cells": [
  {
   "cell_type": "markdown",
   "metadata": {},
   "source": [
    "# transformer-helpers.ipynb\n",
    "\n",
    "> Code that helps run and inspect parts of the transformer model."
   ]
  },
  {
   "cell_type": "code",
   "execution_count": null,
   "metadata": {},
   "outputs": [],
   "source": [
    "#| default_exp models.transformer_helpers"
   ]
  },
  {
   "cell_type": "code",
   "execution_count": null,
   "metadata": {},
   "outputs": [],
   "source": [
    "# | hide\n",
    "%load_ext autoreload\n",
    "%autoreload 2"
   ]
  },
  {
   "cell_type": "code",
   "execution_count": null,
   "metadata": {},
   "outputs": [],
   "source": [
    "#| hide\n",
    "from nbdev.showdoc import *"
   ]
  },
  {
   "cell_type": "code",
   "execution_count": null,
   "metadata": {},
   "outputs": [],
   "source": [
    "#| hide\n",
    "from fastcore.test import *"
   ]
  },
  {
   "cell_type": "code",
   "execution_count": null,
   "metadata": {},
   "outputs": [],
   "source": [
    "#| export\n",
    "from dataclasses import dataclass\n",
    "from typing import Dict, Iterable, Optional, Sequence, Tuple"
   ]
  },
  {
   "cell_type": "code",
   "execution_count": null,
   "metadata": {},
   "outputs": [],
   "source": [
    "#| export\n",
    "import matplotlib.pyplot as plt\n",
    "from matplotlib.axes import Axes\n",
    "import numpy as np\n",
    "import torch\n",
    "import torch.nn as nn\n",
    "from torch.nn import functional as F"
   ]
  },
  {
   "cell_type": "code",
   "execution_count": null,
   "metadata": {},
   "outputs": [],
   "source": [
    "#| export\n",
    "from transformer_experiments.models.transformer import (\n",
    "    block_size,\n",
    "    Block,\n",
    "    n_head,\n",
    "    n_embed,\n",
    "    n_layer,\n",
    "    TransformerLanguageModel\n",
    ")\n",
    "from transformer_experiments.tokenizers.char_tokenizer import CharacterTokenizer\n"
   ]
  },
  {
   "cell_type": "code",
   "execution_count": null,
   "metadata": {},
   "outputs": [],
   "source": [
    "# Not exported because only used for testing within this notebook\n",
    "from transformer_experiments.datasets.tinyshakespeare import (\n",
    "    TinyShakespeareDataSet,\n",
    ")\n",
    "from transformer_experiments.trained_models.tinyshakespeare_transformer import (\n",
    "    create_model_and_tokenizer\n",
    ")"
   ]
  },
  {
   "cell_type": "code",
   "execution_count": null,
   "metadata": {},
   "outputs": [
    {
     "name": "stdout",
     "output_type": "stream",
     "text": [
      "device is cpu\n"
     ]
    }
   ],
   "source": [
    "# Create a model for testing\n",
    "device = 'cuda' if torch.cuda.is_available() else 'cpu'\n",
    "print(f\"device is {device}\")\n",
    "\n",
    "ts = TinyShakespeareDataSet(cache_file='../artifacts/input.txt')\n",
    "m, tokenizer = create_model_and_tokenizer(\n",
    "    saved_model_filename='../artifacts/shakespeare-20231109.pt',\n",
    "    dataset=ts,\n",
    "    device=device,\n",
    ")"
   ]
  },
  {
   "cell_type": "markdown",
   "metadata": {},
   "source": [
    "## Helper functions for encoding/decoding strings"
   ]
  },
  {
   "cell_type": "code",
   "execution_count": null,
   "metadata": {},
   "outputs": [],
   "source": [
    "# | export\n",
    "class EncodingHelpers:\n",
    "    \"\"\"Helper class that wraps a tokenizer and provides methods for encoding\n",
    "    and decoding strings. The tokenizer just deals with regular Python types\n",
    "    whereas this class deals with PyTorch tensors.\"\"\"\n",
    "    def __init__(\n",
    "        self, tokenizer: CharacterTokenizer, device: str\n",
    "    ):\n",
    "        self.tokenizer = tokenizer\n",
    "        self.device = device\n",
    "\n",
    "    def tokenize_string(self, s: str) -> torch.Tensor:\n",
    "        \"\"\"Given a string, returns a tensor representing the tokenized string.\n",
    "        The returned tensor has shape (1, T) where T is the number of tokens,\n",
    "        so it works in situations that expect a batch dimension.\"\"\"\n",
    "        return self.tokenize_strings([s])\n",
    "\n",
    "    def tokenize_strings(self, strings: Sequence[str]) -> torch.Tensor:\n",
    "        \"\"\"Given a sequence of strings, returns a tensor representing the\n",
    "        tokenized strings. The returned tensor has shape (N, T) where N is the\n",
    "        number of strings and T is the number of tokens, so it works in\n",
    "        situations that expect a batch dimension.\"\"\"\n",
    "        return torch.tensor(\n",
    "            [self.tokenizer.encode(s) for s in strings], dtype=torch.long, device=self.device\n",
    "        )\n",
    "\n",
    "    def stringify_tokens(self, tokens: torch.Tensor) -> str:\n",
    "        \"\"\"Given a tensor of tokens, returns a string representing the tokens.\"\"\"\n",
    "        return self.tokenizer.decode(tokens.tolist())\n",
    "\n"
   ]
  },
  {
   "cell_type": "code",
   "execution_count": null,
   "metadata": {},
   "outputs": [],
   "source": [
    "# Tests for encoding helpers\n",
    "encoding_helpers = EncodingHelpers(tokenizer, device)\n",
    "tokenized = encoding_helpers.tokenize_string('hello')\n",
    "test_eq(tokenized.shape, (1, 5))\n",
    "test_eq(tokenized, torch.tensor([[46, 43, 50, 50, 53]]))\n",
    "\n",
    "stringified = encoding_helpers.stringify_tokens(tokenized[0])\n",
    "test_eq(stringified, 'hello')\n",
    "\n",
    "tokenized = encoding_helpers.tokenize_strings(['hello', 'world'])\n",
    "test_eq(tokenized.shape, (2, 5))\n",
    "\n",
    "test_eq(tokenized, torch.tensor([[46, 43, 50, 50, 53], [61, 53, 56, 50, 42]]))"
   ]
  },
  {
   "cell_type": "markdown",
   "metadata": {},
   "source": [
    "## Helpers for dealing with embeddings"
   ]
  },
  {
   "cell_type": "code",
   "execution_count": null,
   "metadata": {},
   "outputs": [],
   "source": [
    "# | export\n",
    "def unsqueeze_emb(\n",
    "    emb: torch.Tensor, expected_last_dim_size: int=n_embed\n",
    ") -> torch.Tensor:\n",
    "    \"\"\"A lot of things expect embedding tensors to have shape (B, T, X) where\n",
    "    X is usually either n_embed or vocab_size. This function takes an embedding\n",
    "    tensor that may be missing some of these dimensions and adds them as\n",
    "    necessary.\"\"\"\n",
    "    ndim = emb.ndim\n",
    "    if ndim > 3:\n",
    "        raise ValueError(f\"Expected embedding tensor to have ndim <= 3, got {ndim}\")\n",
    "\n",
    "    if emb.shape[-1] != expected_last_dim_size:\n",
    "        raise ValueError(\n",
    "            f\"Expected embedding tensor to have last dimension {expected_last_dim_size}, got {emb.shape[-1]}\"\n",
    "        )\n",
    "\n",
    "    if ndim == 1:\n",
    "        return emb.unsqueeze(0).unsqueeze(0)\n",
    "    elif ndim == 2:\n",
    "        return emb.unsqueeze(0)\n",
    "\n",
    "    return emb  # ndim == 3, nothing to change"
   ]
  },
  {
   "cell_type": "code",
   "execution_count": null,
   "metadata": {},
   "outputs": [],
   "source": [
    "# Tests for unsqueeze_emb\n",
    "emb = torch.randn(5) # Wrong last dimension\n",
    "with ExceptionExpected(ex=ValueError):\n",
    "    unsqueeze_emb(emb)\n",
    "\n",
    "emb = torch.randn(n_embed) # missing B and T dimensions\n",
    "emb = unsqueeze_emb(emb)\n",
    "test_eq(emb.shape, (1, 1, n_embed))\n",
    "\n",
    "emb = torch.randn(1, n_embed) # missing B dimension\n",
    "emb = unsqueeze_emb(emb)\n",
    "test_eq(emb.shape, (1, 1, n_embed))\n",
    "\n",
    "emb = torch.randn(3, n_embed) # missing B dimension, T is 3\n",
    "emb = unsqueeze_emb(emb)\n",
    "test_eq(emb.shape, (1, 3, n_embed))\n",
    "\n",
    "emb = torch.randn(2, 3, n_embed) # nothing to change\n",
    "emb = unsqueeze_emb(emb)\n",
    "test_eq(emb.shape, (2, 3, n_embed))\n",
    "\n",
    "# custom expected value for last dim\n",
    "emb = torch.randn(2, 3, 10) # nothing to change\n",
    "emb = unsqueeze_emb(emb, expected_last_dim_size=10)\n",
    "test_eq(emb.shape, (2, 3, 10))\n"
   ]
  },
  {
   "cell_type": "markdown",
   "metadata": {},
   "source": [
    "## Helpers for Running Selective Parts of the Model\n",
    "The functions in this section enable running pieces of the model in isolation and introspecting their intermediate results. This is useful for debugging and understanding the model."
   ]
  },
  {
   "cell_type": "code",
   "execution_count": null,
   "metadata": {},
   "outputs": [],
   "source": [
    "# | export\n",
    "class InputOutputAccessor:\n",
    "    def __init__(self, activations: Dict[str, Tuple]):\n",
    "        self.activations = activations\n",
    "\n",
    "    def inputs(self, name: str) -> Tuple[torch.Tensor]:\n",
    "        return self.activations[name][0]\n",
    "\n",
    "    def input(self, name: str) -> torch.Tensor:\n",
    "        inps = self.inputs(name)\n",
    "        assert len(inps) == 1\n",
    "        return inps[0]\n",
    "\n",
    "    def output(self, name: str) -> torch.Tensor:\n",
    "        return self.activations[name][1]"
   ]
  },
  {
   "cell_type": "code",
   "execution_count": null,
   "metadata": {},
   "outputs": [],
   "source": [
    "# | export\n",
    "class TransformerAccessors:\n",
    "    \"\"\"Class that provides methods for running pieces of a `TransformerLanguageModel`\n",
    "    in isolation and introspecting their intermediate results.\"\"\"\n",
    "\n",
    "    def __init__(self, m: TransformerLanguageModel, device: str):\n",
    "        self.m = m\n",
    "        self.device = device\n",
    "\n",
    "    def embed_tokens(self, tokens: torch.Tensor) -> torch.Tensor:\n",
    "        \"\"\"Given a tensor containing a batch of tokens (shape B, T),\n",
    "        performs the token and positional embeddings done at the beginning of\n",
    "        the model and returns the tensor that would be sent into the stack of\n",
    "        blocks.\"\"\"\n",
    "        idx = tokens[:, -block_size:]\n",
    "\n",
    "        # Logic from the model's forward() function\n",
    "        B, T = idx.shape\n",
    "        token_emb = self.m.token_embedding_table(idx)\n",
    "        pos_emb = self.m.position_embedding_table(\n",
    "            torch.arange(T, device=self.device)\n",
    "        )  # (T, n_embed)\n",
    "        x = token_emb + pos_emb\n",
    "        return x.detach()\n",
    "\n",
    "    def copy_block_from_model(self, block_idx: int):\n",
    "        \"\"\"Given the index of a block in the model [0, n_layer), creates\n",
    "        a new block with identical parameters.\n",
    "\n",
    "        Returns\n",
    "        -------\n",
    "        Tuple\n",
    "            First element is the new block, second is an `InputOutputAccessor` that\n",
    "            provides access to the inputs and outputs of the block itself, it top-level\n",
    "            sub-modules, and children of the self-attention sub-module.\n",
    "        \"\"\"\n",
    "        block = self.m.blocks[block_idx]\n",
    "        new_block = Block(n_embed, n_head)\n",
    "        new_block.load_state_dict(block.state_dict())\n",
    "        new_block.eval()\n",
    "\n",
    "        activations = {}\n",
    "\n",
    "        def log_activation_hook(name):\n",
    "            def hook(_, input, output):\n",
    "                inputs = tuple([inp.detach() for inp in input])\n",
    "                activations[name] = (inputs, output.detach())\n",
    "\n",
    "            return hook\n",
    "\n",
    "        new_block.register_forward_hook(log_activation_hook('.'))\n",
    "        for name, module in new_block.named_children():\n",
    "            module.register_forward_hook(log_activation_hook(name))\n",
    "\n",
    "        # Register the hook for the self-attention layer's children as\n",
    "        # I will need this. Wanted this function to not have to know\n",
    "        # about the internal structure of a block (i.e. not access members\n",
    "        # by a specific name), so this is unfortunate, but the most expedient.\n",
    "        for name, module in new_block.sa.named_children():\n",
    "            module.register_forward_hook(log_activation_hook(f'sa.{name}'))\n",
    "\n",
    "        return new_block, InputOutputAccessor(activations)\n",
    "\n",
    "    def check_valid_input_shape(self, emb):\n",
    "        if emb.ndim != 3:\n",
    "            raise ValueError(\n",
    "                f\"Expected embedding tensor to have ndim 3, got {emb.ndim}\"\n",
    "            )\n",
    "\n",
    "        if emb.shape[-1] != n_embed:\n",
    "            raise ValueError(\n",
    "                f\"Expected embedding tensor to have last dimension {n_embed}, got {emb.shape[-1]}\"\n",
    "            )\n",
    "\n",
    "    def logits_from_embedding(self, emb: torch.Tensor) -> torch.Tensor:\n",
    "        \"\"\"Given embeddings, returns the logits that would be\n",
    "        generated by the model.\"\"\"\n",
    "        x = self.m.ln_f(emb)\n",
    "        logits = self.m.lm_head(x)\n",
    "\n",
    "        return logits.detach()\n",
    "\n",
    "    def run_model(\n",
    "        self, embedded_input: torch.Tensor\n",
    "    ) -> Tuple[torch.Tensor, Sequence[InputOutputAccessor]]:\n",
    "        \"\"\"Given an input (already embedded), runs the model on it and returns a\n",
    "        the logits and a sequence of `InputOutputAccessor` objects that provide\n",
    "        access to the inputs and outputs of each block in the model.\"\"\"\n",
    "        self.check_valid_input_shape(embedded_input)\n",
    "\n",
    "        blocks, io_accessors = zip(\n",
    "            *[  # See https://stackoverflow.com/a/13635074\n",
    "                self.copy_block_from_model(block_idx=i) for i in range(n_layer)\n",
    "            ]\n",
    "        )\n",
    "\n",
    "        blocks_module = nn.Sequential(*blocks)\n",
    "\n",
    "        x = blocks_module(embedded_input)\n",
    "        logits = self.logits_from_embedding(x)\n",
    "\n",
    "        return logits.detach(), io_accessors"
   ]
  },
  {
   "cell_type": "code",
   "execution_count": null,
   "metadata": {},
   "outputs": [],
   "source": [
    "# Test embed tokens\n",
    "encoding_helpers = EncodingHelpers(tokenizer, device)\n",
    "s = 'hello'\n",
    "tokenized = encoding_helpers.tokenize_string(s)\n",
    "\n",
    "accessors = TransformerAccessors(m, device)\n",
    "embedded_from_tokens = accessors.embed_tokens(tokenized)\n",
    "test_eq(embedded_from_tokens.shape, (1, len(s), n_embed))"
   ]
  },
  {
   "cell_type": "code",
   "execution_count": null,
   "metadata": {},
   "outputs": [],
   "source": [
    "# Test check_valid_input_shape\n",
    "accessors = TransformerAccessors(m, device)\n",
    "emb = torch.randn(5) # Wrong last dimension\n",
    "with ExceptionExpected(ex=ValueError):\n",
    "    accessors.check_valid_input_shape(emb)\n",
    "\n",
    "emb = torch.randn(n_embed) # missing B and T dimensions\n",
    "with ExceptionExpected(ex=ValueError):\n",
    "    accessors.check_valid_input_shape(emb)\n",
    "\n",
    "emb = torch.randn(1, n_embed) # missing B dimension\n",
    "with ExceptionExpected(ex=ValueError):\n",
    "    accessors.check_valid_input_shape(emb)\n",
    "\n",
    "emb = torch.randn(3, n_embed) # missing B dimension, T is 3\n",
    "with ExceptionExpected(ex=ValueError):\n",
    "    accessors.check_valid_input_shape(emb)\n",
    "\n",
    "emb = torch.randn(2, 3, n_embed) # all good\n",
    "accessors.check_valid_input_shape(emb)"
   ]
  },
  {
   "cell_type": "code",
   "execution_count": null,
   "metadata": {},
   "outputs": [],
   "source": [
    "# Test block copying\n",
    "accessors = TransformerAccessors(m, device)\n",
    "block_idx = 0\n",
    "old_b = m.blocks[block_idx]\n",
    "new_b, io_accessor = accessors.copy_block_from_model(block_idx)\n",
    "test_eq(new_b is old_b, False)\n",
    "\n",
    "encoding_helpers = EncodingHelpers(tokenizer, device)\n",
    "tokens = encoding_helpers.tokenize_string('Citizen')\n",
    "x = accessors.embed_tokens(tokens)\n",
    "old_result = old_b(x).detach()\n",
    "new_result = new_b(x).detach()\n",
    "test_eq(old_result, new_result)\n",
    "test_eq(io_accessor.input('.'), x)\n",
    "test_eq(io_accessor.output('.'), new_result)"
   ]
  },
  {
   "cell_type": "code",
   "execution_count": null,
   "metadata": {},
   "outputs": [],
   "source": [
    "# Test running the model\n",
    "encoding_helpers = EncodingHelpers(tokenizer, device)\n",
    "accessors = TransformerAccessors(m, device)\n",
    "\n",
    "prompt = 'Citizen'\n",
    "tokens = encoding_helpers.tokenize_string(prompt)\n",
    "x = accessors.embed_tokens(tokens)\n",
    "logits, io_accessors = accessors.run_model(x)\n",
    "\n",
    "test_eq(len(io_accessors), n_layer)\n",
    "\n",
    "# Run the model the normal way and make sure the logits are the same\n",
    "orig_model_logits, _ = m(tokens)\n",
    "test_eq(logits, orig_model_logits.detach())"
   ]
  },
  {
   "cell_type": "markdown",
   "metadata": {},
   "source": [
    "## Helpers for dealing with Logits "
   ]
  },
  {
   "cell_type": "code",
   "execution_count": null,
   "metadata": {},
   "outputs": [],
   "source": [
    "# | export\n",
    "class LogitsWrapper:\n",
    "    \"\"\"A wrapper class around a tensor of logits that provides\n",
    "    convenience methods for interpreting and visualizing them.\"\"\"\n",
    "\n",
    "    def __init__(self, logits: torch.Tensor, tokenizer: CharacterTokenizer):\n",
    "        # For consistency, we always want logits to be of shape (B, T, vocab_size).\n",
    "        # It's up to the calling code to add the B and T dimensions if necessary.\n",
    "        assert logits.dim() == 3\n",
    "        _, _, vocab_size = logits.shape\n",
    "        assert vocab_size == tokenizer.vocab_size\n",
    "\n",
    "        self.logits = logits\n",
    "        self.tokenizer = tokenizer\n",
    "\n",
    "    def probs(self) -> torch.Tensor:\n",
    "        return F.softmax(self.logits, dim=-1)\n",
    "\n",
    "    def topk_tokens(self, k: int) -> Sequence[Sequence[Sequence[Tuple[str, float]]]]:\n",
    "        \"\"\"Returns the top k tokens and their probabilities.\"\"\"\n",
    "        probs = self.probs()\n",
    "        _, topk_indices = torch.topk(probs, k=k, dim=-1)\n",
    "\n",
    "        B, T, _ = self.logits.shape\n",
    "        top_tokens = [\n",
    "            [\n",
    "                [\n",
    "                    (self.tokenizer.itos[i], probs[b_i, t_i, i].item())\n",
    "                    for i in topk_indices[b_i, t_i].tolist()\n",
    "                ]\n",
    "                for t_i in range(T)\n",
    "            ]\n",
    "            for b_i in range(B)\n",
    "        ]\n",
    "\n",
    "        return top_tokens\n",
    "\n",
    "    def plot_probs(\n",
    "        self,\n",
    "        b_i: int = 0,\n",
    "        t_i: int = -1,\n",
    "        title: str = '',\n",
    "        ax: Optional[Axes] = None,\n",
    "        figsize=(12, 4),\n",
    "    ):\n",
    "        \"\"\"Plots the output probabilities for each token based on the logits\"\"\"\n",
    "        if ax is None:\n",
    "            _, ax = plt.subplots(figsize=figsize)\n",
    "\n",
    "        x_indices = np.arange(self.tokenizer.vocab_size)\n",
    "        x_labels = [repr(c)[1:-1] for c in self.tokenizer.chars]\n",
    "\n",
    "        ax.bar(x_indices, self.probs()[b_i, t_i])\n",
    "        ax.set_xticks(x_indices, x_labels, rotation='vertical')\n",
    "        ax.set_title(title)\n",
    "        ax.set_ylim(0.0, 1.0)"
   ]
  },
  {
   "cell_type": "code",
   "execution_count": null,
   "metadata": {},
   "outputs": [],
   "source": [
    "# Tests for LogitsWrapper\n",
    "\n",
    "# Test that creating a LogitsWrapper from a tensor that doesn't have the B and T\n",
    "# dimensions results in an assertion error.\n",
    "\n",
    "logits = torch.randn(tokenizer.vocab_size) # (vocab_size,)\n",
    "with ExceptionExpected(ex=AssertionError):\n",
    "    LogitsWrapper(logits, tokenizer)\n",
    "\n",
    "logits = torch.randn(2, tokenizer.vocab_size) # (2, vocab_size,) - missing B dimension\n",
    "with ExceptionExpected(ex=AssertionError):\n",
    "    LogitsWrapper(logits, tokenizer)\n",
    "\n",
    "# Create a logits tensor where the tokens 'h' and 'm' have\n",
    "# equally high values.\n",
    "logits = torch.zeros(1, 1, tokenizer.vocab_size) # (1, 1, vocab_size)\n",
    "logits[0, 0, tokenizer.stoi['h']] = 100\n",
    "logits[0, 0, tokenizer.stoi['m']] = 100\n",
    "\n",
    "# Create a logits wrapper\n",
    "lw = LogitsWrapper(logits, tokenizer)\n",
    "\n",
    "# Test that probs() returns the right things\n",
    "probs = lw.probs()\n",
    "test_eq(probs.shape, (1, 1, tokenizer.vocab_size))\n",
    "test_close(probs[0, 0, tokenizer.stoi['h']], 0.5)\n",
    "test_close(probs[0, 0, tokenizer.stoi['m']], 0.5)\n",
    "\n",
    "# Test that topk_tokens returns the right things\n",
    "topk = lw.topk_tokens(k=2)[0][0]\n",
    "tokens, probs = zip(*topk)\n",
    "test_eq(len(tokens), 2)\n",
    "test_eq('h' in tokens, True)\n",
    "test_eq('m' in tokens, True)\n",
    "for p in probs:\n",
    "    test_close(p, 0.5)\n"
   ]
  },
  {
   "cell_type": "code",
   "execution_count": null,
   "metadata": {},
   "outputs": [],
   "source": [
    "# \"Integration test\" for logits_from_embedding() and LogitsWrapper. The values\n",
    "# here will change if the model weights change but otherwise should be stable.\n",
    "strings = ['Citizen', 'ANTONIO']\n",
    "\n",
    "tokens_batch = torch.tensor(\n",
    "    [tokenizer.encode(s) for s in strings], dtype=torch.long, device=device\n",
    ")\n",
    "\n",
    "accessors = TransformerAccessors(m, device)\n",
    "\n",
    "embedded = accessors.embed_tokens(tokens_batch)\n",
    "\n",
    "logits = accessors.logits_from_embedding(embedded)\n",
    "lw = LogitsWrapper(logits, tokenizer)\n",
    "\n",
    "expected_top_tokens = ['!', 'z', 'a', 'e', '\\'']\n",
    "topk = lw.topk_tokens(k=5)[0][-1]\n",
    "tokens, probs = zip(*topk)\n",
    "test_eq(tokens, expected_top_tokens)\n",
    "expected_probs = [\n",
    "    0.08952,\n",
    "    0.08505,\n",
    "    0.08317,\n",
    "    0.04933,\n",
    "    0.04017,\n",
    "]\n",
    "for i, p in enumerate(probs):\n",
    "    test_close(p, expected_probs[i], eps=1e-5)\n",
    "\n"
   ]
  },
  {
   "cell_type": "code",
   "execution_count": null,
   "metadata": {},
   "outputs": [
    {
     "data": {
      "image/png": "[encoded data removed]",
      "text/plain": [
       "<Figure size 1200x400 with 1 Axes>"
      ]
     },
     "metadata": {},
     "output_type": "display_data"
    }
   ],
   "source": [
    "# Make a plot - part of the \"integration test\" above\n",
    "b_i = 0\n",
    "lw.plot_probs(b_i=0, t_i=-1, title=f\"Probabilities from {repr(strings[b_i])} embedding\")"
   ]
  },
  {
   "cell_type": "code",
   "execution_count": null,
   "metadata": {},
   "outputs": [],
   "source": [
    "#| hide\n",
    "import nbdev; nbdev.nbdev_export()"
   ]
  }
 ],
 "metadata": {
  "kernelspec": {
   "display_name": "python3",
   "language": "python",
   "name": "python3"
  }
 },
 "nbformat": 4,
 "nbformat_minor": 2
}
