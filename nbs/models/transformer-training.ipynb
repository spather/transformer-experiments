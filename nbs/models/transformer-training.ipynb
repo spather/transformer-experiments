{
 "cells": [
  {
   "cell_type": "markdown",
   "metadata": {},
   "source": [
    "# transformer-training\n",
    "\n",
    "> Notebook that defines the module for transformer training code. "
   ]
  },
  {
   "cell_type": "code",
   "execution_count": null,
   "metadata": {},
   "outputs": [],
   "source": [
    "#| default_exp models.transformer_training"
   ]
  },
  {
   "cell_type": "code",
   "execution_count": null,
   "metadata": {},
   "outputs": [],
   "source": [
    "# | hide\n",
    "%load_ext autoreload\n",
    "%autoreload 2"
   ]
  },
  {
   "cell_type": "code",
   "execution_count": null,
   "metadata": {},
   "outputs": [],
   "source": [
    "#| hide\n",
    "from nbdev.showdoc import *"
   ]
  },
  {
   "cell_type": "code",
   "execution_count": null,
   "metadata": {},
   "outputs": [],
   "source": [
    "#| hide\n",
    "from fastcore.test import *"
   ]
  },
  {
   "cell_type": "code",
   "execution_count": null,
   "metadata": {},
   "outputs": [],
   "source": [
    "#| export\n",
    "\n",
    "import torch\n",
    "\n",
    "from transformer_experiments.models.transformer import TransformerLanguageModel\n",
    "from transformer_experiments.training_utils import GetBatchFunction\n",
    "\n",
    "# For now, there's nothing defined in this module, besides imports.\n",
    "# However, some cells in ./transformer.ipynb export to the module\n",
    "# defined by this notebook. The imports here are the imports needed\n",
    "# by the code in those cells.\n",
    "#\n",
    "# Nbdev requires a dedicated notebook to create a module. For historical\n",
    "# reasons, the code actually lives in the transformer notebook and it seems\n",
    "# like unnecessary work to move it here."
   ]
  },
  {
   "cell_type": "code",
   "execution_count": null,
   "metadata": {},
   "outputs": [],
   "source": [
    "#| hide\n",
    "import nbdev; nbdev.nbdev_export()"
   ]
  }
 ],
 "metadata": {
  "kernelspec": {
   "display_name": "python3",
   "language": "python",
   "name": "python3"
  }
 },
 "nbformat": 4,
 "nbformat_minor": 4
}
