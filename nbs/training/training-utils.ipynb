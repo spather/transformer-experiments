{
 "cells": [
  {
   "cell_type": "markdown",
   "metadata": {},
   "source": [
    "# training-utils.ipynb\n",
    "\n",
    "> Utilities related to model training"
   ]
  },
  {
   "cell_type": "code",
   "execution_count": null,
   "metadata": {},
   "outputs": [],
   "source": [
    "#| default_exp training_utils"
   ]
  },
  {
   "cell_type": "code",
   "execution_count": null,
   "metadata": {},
   "outputs": [],
   "source": [
    "#| export\n",
    "from pathlib import Path\n",
    "import tempfile\n",
    "from typing import Dict, Generic, Protocol, Tuple, TypeVar"
   ]
  },
  {
   "cell_type": "code",
   "execution_count": null,
   "metadata": {},
   "outputs": [],
   "source": [
    "#| export\n",
    "import torch\n",
    "from tqdm.auto import tqdm"
   ]
  },
  {
   "cell_type": "code",
   "execution_count": null,
   "metadata": {},
   "outputs": [],
   "source": [
    "#| hide\n",
    "from nbdev.showdoc import *"
   ]
  },
  {
   "cell_type": "code",
   "execution_count": null,
   "metadata": {},
   "outputs": [],
   "source": [
    "#| hide\n",
    "from fastcore.test import *"
   ]
  },
  {
   "cell_type": "code",
   "execution_count": null,
   "metadata": {},
   "outputs": [],
   "source": [
    "#| export\n",
    "class CheckPointer:\n",
    "    def __init__(self, output_dir: Path, filename_stem: str, start_num: int = 0):\n",
    "        self.output_dir = output_dir\n",
    "        self.filename_stem = filename_stem\n",
    "        self.num = start_num\n",
    "\n",
    "    def filename(self):\n",
    "        return self.output_dir / f'{self.filename_stem}_{self.num:06d}.pt'\n",
    "\n",
    "    def save_checkpoint(\n",
    "        self,\n",
    "        iters: int,\n",
    "        model: torch.nn.Module,\n",
    "        train_loss: float,\n",
    "        val_loss: float\n",
    "    ):\n",
    "        torch.save(\n",
    "            {\n",
    "                \"model_state_dict\": model.state_dict(),\n",
    "                \"iters\": iters,\n",
    "                \"train_loss\": train_loss,\n",
    "                \"val_loss\": val_loss,\n",
    "            },\n",
    "            self.filename(),\n",
    "        )\n",
    "        self.num += 1"
   ]
  },
  {
   "cell_type": "code",
   "execution_count": null,
   "metadata": {},
   "outputs": [],
   "source": [
    "## Tests for CheckPointer\n",
    "class TestModule(torch.nn.Module):\n",
    "    def __init__(self):\n",
    "        super().__init__()\n",
    "        self.some_param = torch.nn.Linear(10, 1)\n",
    "\n",
    "    def forward(self, x):\n",
    "        return self.some_param(x)\n",
    "\n",
    "with tempfile.TemporaryDirectory() as tmpdirname:\n",
    "    output_dir = Path(tmpdirname)\n",
    "    checkpointer = CheckPointer(output_dir, 'test')\n",
    "\n",
    "    test_model = TestModule()\n",
    "    test_train_loss = 0.123\n",
    "    test_val_loss = 0.125\n",
    "\n",
    "    checkpointer.save_checkpoint(10, test_model, test_train_loss, test_val_loss)\n",
    "    test_eq((output_dir / 'test_000000.pt').exists(), True)\n",
    "\n",
    "    checkpoint = torch.load(str(output_dir / 'test_000000.pt'))\n",
    "    test_eq(checkpoint['iters'], 10)\n",
    "    test_eq(checkpoint['train_loss'], test_train_loss)\n",
    "    test_eq(checkpoint['val_loss'], test_val_loss)\n",
    "    test_eq('model_state_dict' in checkpoint, True)\n",
    "\n",
    "    checkpointer.save_checkpoint(11, test_model, test_train_loss, test_val_loss)\n",
    "    test_eq((output_dir / 'test_000001.pt').exists(), True)\n",
    "\n",
    "    # Test start_num\n",
    "    checkpointer = CheckPointer(output_dir, 'test', start_num=14)\n",
    "    checkpointer.save_checkpoint(11, test_model, test_train_loss, test_val_loss)\n",
    "    test_eq((output_dir / 'test_000014.pt').exists(), True)"
   ]
  },
  {
   "cell_type": "code",
   "execution_count": null,
   "metadata": {},
   "outputs": [],
   "source": [
    "# | export\n",
    "TModel = TypeVar(\"TModel\", bound=torch.nn.Module, contravariant=True)\n",
    "\n",
    "\n",
    "class EstimateLossFunction(Protocol[TModel]):\n",
    "    def __call__(self, model: TModel) -> Dict[str, float]:\n",
    "        ...\n",
    "\n",
    "\n",
    "class GetBatchFunction(Protocol):\n",
    "    def __call__(self, split: str) -> Tuple[torch.Tensor, torch.Tensor]:\n",
    "        ...\n",
    "\n",
    "\n",
    "class Trainer(Generic[TModel]):\n",
    "    def __init__(\n",
    "        self,\n",
    "        model: TModel,\n",
    "        checkpointer: CheckPointer,\n",
    "        get_batch_func: GetBatchFunction,\n",
    "        estimate_loss_func: EstimateLossFunction[TModel],\n",
    "        iters_trained: int = 0,\n",
    "    ):\n",
    "        self.model = model\n",
    "        self.checkpointer = checkpointer\n",
    "        self.get_batch_func = get_batch_func\n",
    "        self.estimate_loss_func = estimate_loss_func\n",
    "        self.iters_trained = iters_trained\n",
    "\n",
    "    def train(\n",
    "        self,\n",
    "        n_iters: int,\n",
    "        optimizer: torch.optim.Optimizer,\n",
    "        eval_interval: int = 500,\n",
    "    ):\n",
    "        self.model.train()\n",
    "        for steps in tqdm(range(n_iters)):\n",
    "            xb, yb = self.get_batch_func(split=\"train\")\n",
    "\n",
    "            _, loss = self.model(xb, yb)\n",
    "            optimizer.zero_grad(set_to_none=True)\n",
    "            loss.backward()\n",
    "            optimizer.step()\n",
    "            self.iters_trained += 1\n",
    "\n",
    "            if self.iters_trained % eval_interval == 0:\n",
    "                losses = self.estimate_loss_func(self.model)\n",
    "                print(\n",
    "                    f\"step {steps}: train loss {losses['train']:.4f}, val loss {losses['val']:.4f}\"\n",
    "                )\n",
    "                self.checkpointer.save_checkpoint(\n",
    "                    self.iters_trained,\n",
    "                    self.model,\n",
    "                    losses[\"train\"],\n",
    "                    losses[\"val\"],\n",
    "                )"
   ]
  },
  {
   "cell_type": "code",
   "execution_count": null,
   "metadata": {},
   "outputs": [],
   "source": [
    "#| hide\n",
    "import nbdev; nbdev.nbdev_export()"
   ]
  }
 ],
 "metadata": {
  "kernelspec": {
   "display_name": "python3",
   "language": "python",
   "name": "python3"
  }
 },
 "nbformat": 4,
 "nbformat_minor": 4
}
