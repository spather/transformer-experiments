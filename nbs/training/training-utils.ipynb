{
 "cells": [
  {
   "cell_type": "markdown",
   "metadata": {},
   "source": [
    "# training-utils.ipynb\n",
    "\n",
    "> Utilities related to model training"
   ]
  },
  {
   "cell_type": "code",
   "execution_count": null,
   "metadata": {},
   "outputs": [],
   "source": [
    "#| default_exp training_utils"
   ]
  },
  {
   "cell_type": "code",
   "execution_count": null,
   "metadata": {},
   "outputs": [],
   "source": [
    "#| export\n",
    "from pathlib import Path\n",
    "import tempfile\n",
    "from typing import Dict, Generic, Protocol, Tuple, TypeVar"
   ]
  },
  {
   "cell_type": "code",
   "execution_count": null,
   "metadata": {},
   "outputs": [],
   "source": [
    "#| export\n",
    "import torch\n",
    "from tqdm.auto import tqdm"
   ]
  },
  {
   "cell_type": "code",
   "execution_count": null,
   "metadata": {},
   "outputs": [],
   "source": [
    "#| hide\n",
    "from nbdev.showdoc import *"
   ]
  },
  {
   "cell_type": "code",
   "execution_count": null,
   "metadata": {},
   "outputs": [],
   "source": [
    "#| hide\n",
    "from fastcore.test import *"
   ]
  },
  {
   "cell_type": "code",
   "execution_count": null,
   "metadata": {},
   "outputs": [],
   "source": [
    "#| export\n",
    "class CheckPointer:\n",
    "    def __init__(self, output_dir: Path, filename_stem: str, start_num: int = 0):\n",
    "        self.output_dir = output_dir\n",
    "        self.filename_stem = filename_stem\n",
    "        self.num = start_num\n",
    "\n",
    "    def filename(self):\n",
    "        return self.output_dir / f'{self.filename_stem}_{self.num:06d}.pt'\n",
    "\n",
    "    def save_checkpoint(\n",
    "        self,\n",
    "        iters: int,\n",
    "        model: torch.nn.Module,\n",
    "        train_loss: float,\n",
    "        val_loss: float\n",
    "    ):\n",
    "        torch.save(\n",
    "            {\n",
    "                \"model_state_dict\": model.state_dict(),\n",
    "                \"iters\": iters,\n",
    "                \"train_loss\": train_loss,\n",
    "                \"val_loss\": val_loss,\n",
    "            },\n",
    "            self.filename(),\n",
    "        )\n",
    "        self.num += 1"
   ]
  },
  {
   "cell_type": "code",
   "execution_count": null,
   "metadata": {},
   "outputs": [],
   "source": [
    "## Tests for CheckPointer\n",
    "class TestModule(torch.nn.Module):\n",
    "    def __init__(self):\n",
    "        super().__init__()\n",
    "        self.some_param = torch.nn.Linear(10, 1)\n",
    "\n",
    "    def forward(self, x):\n",
    "        return self.some_param(x)\n",
    "\n",
    "with tempfile.TemporaryDirectory() as tmpdirname:\n",
    "    output_dir = Path(tmpdirname)\n",
    "    checkpointer = CheckPointer(output_dir, 'test')\n",
    "\n",
    "    test_model = TestModule()\n",
    "    test_train_loss = 0.123\n",
    "    test_val_loss = 0.125\n",
    "\n",
    "    checkpointer.save_checkpoint(10, test_model, test_train_loss, test_val_loss)\n",
    "    test_eq((output_dir / 'test_000000.pt').exists(), True)\n",
    "\n",
    "    checkpoint = torch.load(str(output_dir / 'test_000000.pt'))\n",
    "    test_eq(checkpoint['iters'], 10)\n",
    "    test_eq(checkpoint['train_loss'], test_train_loss)\n",
    "    test_eq(checkpoint['val_loss'], test_val_loss)\n",
    "    test_eq('model_state_dict' in checkpoint, True)\n",
    "\n",
    "    checkpointer.save_checkpoint(11, test_model, test_train_loss, test_val_loss)\n",
    "    test_eq((output_dir / 'test_000001.pt').exists(), True)\n",
    "\n",
    "    # Test start_num\n",
    "    checkpointer = CheckPointer(output_dir, 'test', start_num=14)\n",
    "    checkpointer.save_checkpoint(11, test_model, test_train_loss, test_val_loss)\n",
    "    test_eq((output_dir / 'test_000014.pt').exists(), True)"
   ]
  },
  {
   "cell_type": "code",
   "execution_count": null,
   "metadata": {},
   "outputs": [],
   "source": [
    "#| hide\n",
    "import nbdev; nbdev.nbdev_export()"
   ]
  }
 ],
 "metadata": {
  "kernelspec": {
   "display_name": "python3",
   "language": "python",
   "name": "python3"
  }
 },
 "nbformat": 4,
 "nbformat_minor": 4
}
