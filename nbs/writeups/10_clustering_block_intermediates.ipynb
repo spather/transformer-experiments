{
 "cells": [
  {
   "cell_type": "markdown",
   "metadata": {},
   "source": [
    "# Interpreting the Projection and Feed-Forward Layers in a Self-Attention Block\n",
    "\n",
    "> A summary of my experiments to understand the projection layer and feed-forward layer of a self-attention block."
   ]
  },
  {
   "cell_type": "code",
   "execution_count": null,
   "metadata": {},
   "outputs": [],
   "source": [
    "# | hide\n",
    "%load_ext autoreload\n",
    "%autoreload 2"
   ]
  },
  {
   "cell_type": "code",
   "execution_count": null,
   "metadata": {},
   "outputs": [],
   "source": [
    "# | hide\n",
    "\n",
    "from pathlib import Path\n",
    "from typing import Dict, Sequence, Tuple"
   ]
  },
  {
   "cell_type": "code",
   "execution_count": null,
   "metadata": {},
   "outputs": [],
   "source": [
    "# | hide\n",
    "\n",
    "from fastcore.test import *\n",
    "import matplotlib.pyplot as plt \n",
    "import numpy as np\n",
    "from sklearn.cluster import KMeans\n",
    "import torch \n",
    "from tqdm.auto import tqdm"
   ]
  },
  {
   "cell_type": "code",
   "execution_count": null,
   "metadata": {},
   "outputs": [],
   "source": [
    "# Set a manual seed so output is deterministic (used same value as @karpathy)\n",
    "_ = torch.manual_seed(1337)"
   ]
  },
  {
   "cell_type": "code",
   "execution_count": null,
   "metadata": {},
   "outputs": [],
   "source": [
    "# | hide\n",
    "\n",
    "from transformer_experiments.common.text_analysis import SubstringFrequencyAnalysis\n",
    "from transformer_experiments.common.utils import aggregate_by_string_key, DataWrapper\n",
    "from transformer_experiments.dataset_split import split_text_dataset\n",
    "from transformer_experiments.datasets.tinyshakespeare import (\n",
    "    TinyShakespeareDataSet,\n",
    ")\n",
    "from transformer_experiments.models.transformer import (\n",
    "    n_layer,\n",
    "    TransformerLanguageModel\n",
    ")\n",
    "from transformer_experiments.models.transformer_helpers import (\n",
    "    EncodingHelpers,\n",
    "    LogitsWrapper,\n",
    "    TransformerAccessors\n",
    ")\n",
    "from transformer_experiments.trained_models.tinyshakespeare_transformer import (\n",
    "    create_model_and_tokenizer\n",
    ")\n",
    "from transformer_experiments.experiments.block_internals import (\n",
    "    BlockInternalsExperiment,\n",
    "    BlockInternalsResult,\n",
    ")\n",
    "from transformer_experiments.experiments.logit_lens import LogitLens "
   ]
  },
  {
   "cell_type": "code",
   "execution_count": null,
   "metadata": {},
   "outputs": [],
   "source": [
    "device = 'cuda' if torch.cuda.is_available() else 'cpu'\n",
    "ts = TinyShakespeareDataSet(cache_file='../artifacts/input.txt')\n",
    "m, tokenizer = create_model_and_tokenizer(\n",
    "    saved_model_filename='../artifacts/shakespeare.pt',\n",
    "    dataset=ts,\n",
    "    device=device,\n",
    ")\n",
    "_, val_data = split_text_dataset(ts.text, tokenizer, train_pct=0.9)\n",
    "encoding_helpers = EncodingHelpers(m, tokenizer, device)\n",
    "accessors = TransformerAccessors(m)"
   ]
  },
  {
   "cell_type": "code",
   "execution_count": null,
   "metadata": {},
   "outputs": [
    {
     "name": "stdout",
     "output_type": "stream",
     "text": [
      "device is cpu\n"
     ]
    }
   ],
   "source": [
    "print(f\"device is {device}\")"
   ]
  },
  {
   "cell_type": "code",
   "execution_count": null,
   "metadata": {},
   "outputs": [],
   "source": [
    "# Define an experiment for each block\n",
    "block_internals_exps = [\n",
    "    BlockInternalsExperiment(\n",
    "        eh=encoding_helpers,\n",
    "        accessors=accessors,\n",
    "        block_idx=block_idx,\n",
    "        results_folder=Path('../artifacts//block_internals_results'),\n",
    "    )\n",
    "    for block_idx in range(n_layer)\n",
    "]"
   ]
  },
  {
   "cell_type": "code",
   "execution_count": null,
   "metadata": {},
   "outputs": [],
   "source": [
    "# Aggregate the results for each block\n",
    "block_internals_results = [\n",
    "    aggregate_by_string_key(\n",
    "        items=exp.raw_results(), key=lambda result: result.substring\n",
    "    )\n",
    "    for exp in block_internals_exps\n",
    "]"
   ]
  },
  {
   "cell_type": "code",
   "execution_count": null,
   "metadata": {},
   "outputs": [],
   "source": [
    "#| hide\n",
    "# Sanity check\n",
    "# Get the heads output and proj output manually\n",
    "s = 'BAP'\n",
    "block_idx = 0\n",
    "\n",
    "x = encoding_helpers.embed_string(s)\n",
    "for i in range(block_idx):\n",
    "    x = m.blocks[i](x)\n",
    "\n",
    "# Create a copy of the block we're interested in\n",
    "block, io_accessor = accessors.copy_block_from_model(block_idx=block_idx)\n",
    "_ = block(x)  # Run the block\n",
    "\n",
    "# Get the results from the experiment\n",
    "result_bap = block_internals_results[block_idx]['BAP']\n",
    "\n",
    "test_close(result_bap.heads_output, io_accessor.input('sa.proj')[0][-1])\n",
    "test_close(result_bap.proj_output, io_accessor.output('sa.proj')[0][-1])\n",
    "test_close(result_bap.ffwd_output, io_accessor.output('ffwd')[0][-1])"
   ]
  },
  {
   "cell_type": "markdown",
   "metadata": {},
   "source": [
    "## Clustering the Projection Layer Outputs"
   ]
  },
  {
   "cell_type": "code",
   "execution_count": null,
   "metadata": {},
   "outputs": [
    {
     "data": {
      "application/vnd.jupyter.widget-view+json": {
       "model_id": "933a7005418148829c610f456b1c8c20",
       "version_major": 2,
       "version_minor": 0
      },
      "text/plain": [
       "  0%|          | 0/50 [00:00<?, ?it/s]"
      ]
     },
     "metadata": {},
     "output_type": "display_data"
    },
    {
     "data": {
      "image/png": "[encoded data removed]",
      "text/plain": [
       "<Figure size 640x480 with 1 Axes>"
      ]
     },
     "metadata": {},
     "output_type": "display_data"
    }
   ],
   "source": [
    "#| eval: false\n",
    "# Try kmeans clustering the proj outputs with a range of k values to determine where the inertia levels off\n",
    "block_idx = 0\n",
    "s_len = 3\n",
    "\n",
    "substrs, proj_outputs = zip(*[\n",
    "    (result.substring, result.proj_output)\n",
    "    for result in block_internals_results[block_idx].values()\n",
    "    if len(result.substring) == s_len\n",
    "])\n",
    "\n",
    "inertias = []\n",
    "ks = range(1, 500, 10)\n",
    "for k in tqdm(ks):\n",
    "    kmeans = KMeans(n_clusters=k, random_state=0, n_init='auto').fit(proj_outputs)\n",
    "    inertias.append(kmeans.inertia_)\n",
    "\n",
    "# Plot the intertias\n",
    "plt.plot(ks, inertias, '-o')\n",
    "_ = plt.title(\"Number of clusters vs. inertia for Proj Matrix Outputs\")\n"
   ]
  },
  {
   "cell_type": "markdown",
   "metadata": {},
   "source": [
    "Eyeballing this, it looks like the elbow is around 50 clusters. We'll go with that. "
   ]
  },
  {
   "cell_type": "code",
   "execution_count": null,
   "metadata": {},
   "outputs": [],
   "source": [
    "#| code-fold: true\n",
    "#| code-summary: Helper code for clustering\n",
    "class Cluster:\n",
    "    \"\"\"A cluster of substrings.\"\"\"\n",
    "\n",
    "    def __init__(self, center: torch.Tensor):\n",
    "        self.center = center\n",
    "        self.substrs: Sequence[str] = []\n",
    "\n",
    "    def append(self, substr: str):\n",
    "        self.substrs.append(substr)\n",
    "\n",
    "    def __iter__(self):\n",
    "        return iter(self.substrs)\n",
    "\n",
    "    def __len__(self):\n",
    "        return len(self.substrs)\n",
    "    \n",
    "    def __str__(self):\n",
    "        return f'Cluster(center={self.center}, substrs={self.substrs})'\n",
    "\n",
    "\n",
    "StrToClusterMap = Dict[str, Cluster]  # Map from substring to cluster\n",
    "\n",
    "\n",
    "def cluster_data_for_substrings(\n",
    "    substrs: Sequence[str], data: torch.Tensor, n_clusters: int\n",
    ") -> Tuple[Sequence[Cluster], StrToClusterMap]:\n",
    "    \"\"\"Given a set of substrings and a data tensor in which the element\n",
    "    at index i corresponds to the substring at index i, clusters the data\n",
    "    into `n_clusters` clusters. Returns the clusters and a map from\n",
    "    substrings to clusters.\"\"\"\n",
    "    assert len(substrs) == len(data)\n",
    "\n",
    "    kmeans = KMeans(n_clusters=n_clusters, random_state=0, n_init='auto').fit(data)\n",
    "\n",
    "    clusters = [Cluster(torch.tensor(c)) for c in kmeans.cluster_centers_]\n",
    "    substr_to_cluster = {}\n",
    "    for i, label in enumerate(kmeans.labels_):\n",
    "        cluster = clusters[label]\n",
    "        cluster.append(substrs[i])\n",
    "        substr_to_cluster[substrs[i]] = cluster\n",
    "\n",
    "    # Sort the clusters by length\n",
    "    clusters = sorted(clusters, key=lambda cluster: len(cluster), reverse=True)\n",
    "\n",
    "    return clusters, substr_to_cluster\n"
   ]
  },
  {
   "cell_type": "code",
   "execution_count": null,
   "metadata": {},
   "outputs": [
    {
     "data": {
      "application/vnd.jupyter.widget-view+json": {
       "model_id": "29410713a7df4e54aea8399fe668dd46",
       "version_major": 2,
       "version_minor": 0
      },
      "text/plain": [
       "  0%|          | 0/6 [00:00<?, ?it/s]"
      ]
     },
     "metadata": {},
     "output_type": "display_data"
    }
   ],
   "source": [
    "# Run clustering on the proj outputs for all blocks\n",
    "s_len = 3\n",
    "n_clusters_proj_out = 50 # Based on the elbow analysis above\n",
    "\n",
    "all_kmeans_results_proj_out = []\n",
    "for block_idx in tqdm(range(n_layer)):\n",
    "    substrs, proj_outputs = zip(*[\n",
    "        (result.substring, result.proj_output)\n",
    "        for result in block_internals_results[block_idx].values()\n",
    "        if len(result.substring) == s_len\n",
    "    ])\n",
    "    clusters, substr_to_cluster = cluster_data_for_substrings(\n",
    "        substrs=substrs, data=torch.stack(proj_outputs), n_clusters=n_clusters_proj_out\n",
    "    )\n",
    "    all_kmeans_results_proj_out.append((clusters, substr_to_cluster))\n"
   ]
  },
  {
   "cell_type": "code",
   "execution_count": null,
   "metadata": {},
   "outputs": [],
   "source": [
    "#| code-fold: true\n",
    "#| code-summary: Helper function for getting the all the other strings in a cluster given a string\n",
    "def clusters_for_substring(s: str, str_to_cluster_maps: Sequence[StrToClusterMap]):\n",
    "    return DataWrapper(\n",
    "        data=[\n",
    "            str_to_cluster_maps[block_idx][s]\n",
    "            for block_idx in range(n_layer)\n",
    "        ],\n",
    "        format_item_fn=lambda item: \", \".join([repr(substr) for substr in item]),\n",
    "    )"
   ]
  },
  {
   "cell_type": "code",
   "execution_count": null,
   "metadata": {},
   "outputs": [
    {
     "name": "stdout",
     "output_type": "stream",
     "text": [
      "'hat', ' a ', '\\nAs', ' as', 'ian', 'BAP', 'har', 'fat', 'Was', 'tak', 'ear', 'pav', 'dam', 'mad', 'NA:', 'cal', 'NAT', 'Kat', 'ray', ' af', \"ta'\", 'eat', 'lav', 'way', 'pal', 'mak', 'rav', 'eak', 'hal', 'ran', 'par', ' an', '\\nAn', 'mas', 'say', 'dau', ' ar', 'nap', 'tam', 'cab', 'hav', '-al', 'ead', 'rat', 'may', 'han', 'lab', 'eas', 'lan'\n",
      "'be ', 'ble', 'BAP', 've ', 'ven', 'Bia', 'but', 'bit', 'bli', 'bes', 'bed', 'bet', 'Bio', 'bro', 'blo', 'ver'\n",
      "'BAP', 'Bia', 'BIA', 'Bio', 'BIO'\n",
      "'be ', 'ble', 'BAP', 'Bia', 'but', 'bit', 'bli', 'bes', 'bed', 'bet', 'Bio', 'bro', 'blo'\n",
      "'ARI', 'ATH', 'BAP', 'Ay,', 'ANI', 'And', 'A:\\n', 'Abs', 'A g', 'ALO', 'ANT'\n",
      "'BAP', 'Bia', 'BIA', 'Bio', 'Din', 'TIA'\n"
     ]
    }
   ],
   "source": [
    "# Print proj output clustering\n",
    "clusters_for_substring('BAP', [str_to_cluster for _, str_to_cluster in all_kmeans_results_proj_out]).print()"
   ]
  },
  {
   "cell_type": "markdown",
   "metadata": {},
   "source": [
    "## Clustering the FFWD Layer Outputs"
   ]
  },
  {
   "cell_type": "code",
   "execution_count": null,
   "metadata": {},
   "outputs": [
    {
     "data": {
      "application/vnd.jupyter.widget-view+json": {
       "model_id": "3b111b7de7ef40c69dde17028e640961",
       "version_major": 2,
       "version_minor": 0
      },
      "text/plain": [
       "  0%|          | 0/50 [00:00<?, ?it/s]"
      ]
     },
     "metadata": {},
     "output_type": "display_data"
    },
    {
     "data": {
      "image/png": "[encoded data removed]",
      "text/plain": [
       "<Figure size 640x480 with 1 Axes>"
      ]
     },
     "metadata": {},
     "output_type": "display_data"
    }
   ],
   "source": [
    "#| eval: false\n",
    "# Try kmeans clustering the ffwd outputs with a range of k values to determine where the inertia levels off\n",
    "block_idx = 0\n",
    "s_len = 3\n",
    "\n",
    "substrs, ffwd_outputs = zip(*[\n",
    "    (result.substring, result.ffwd_output)\n",
    "    for result in block_internals_results[block_idx].values()\n",
    "    if len(result.substring) == s_len\n",
    "])\n",
    "\n",
    "inertias = []\n",
    "ks = range(1, 500, 10)\n",
    "for k in tqdm(ks):\n",
    "    kmeans = KMeans(n_clusters=k, random_state=0, n_init='auto').fit(ffwd_outputs)\n",
    "    inertias.append(kmeans.inertia_)\n",
    "\n",
    "# Plot the intertias\n",
    "plt.plot(ks, inertias, '-o')\n",
    "_ = plt.title(\"Number of clusters vs. inertia for FFWD Network Outputs\")\n"
   ]
  },
  {
   "cell_type": "markdown",
   "metadata": {},
   "source": [
    "This one looks like the elbow is a little higher. Let's pick 60."
   ]
  },
  {
   "cell_type": "code",
   "execution_count": null,
   "metadata": {},
   "outputs": [
    {
     "data": {
      "application/vnd.jupyter.widget-view+json": {
       "model_id": "c84f2747723d4fcc8d71cca097cebdd3",
       "version_major": 2,
       "version_minor": 0
      },
      "text/plain": [
       "  0%|          | 0/6 [00:00<?, ?it/s]"
      ]
     },
     "metadata": {},
     "output_type": "display_data"
    }
   ],
   "source": [
    "# Run clustering on the proj outputs for all blocks\n",
    "s_len = 3\n",
    "n_clusters_ffwd_out = 60 # Based on the elbow analysis above\n",
    "\n",
    "all_kmeans_results_ffwd_out = []\n",
    "for block_idx in tqdm(range(n_layer)):\n",
    "    substrs, ffwd_outputs = zip(*[\n",
    "        (result.substring, result.ffwd_output)\n",
    "        for result in block_internals_results[block_idx].values()\n",
    "        if len(result.substring) == s_len\n",
    "    ])\n",
    "    clusters, substr_to_cluster = cluster_data_for_substrings(\n",
    "        substrs=substrs, data=torch.stack(ffwd_outputs), n_clusters=n_clusters_ffwd_out\n",
    "    )\n",
    "    all_kmeans_results_ffwd_out.append((clusters, substr_to_cluster))"
   ]
  },
  {
   "cell_type": "code",
   "execution_count": null,
   "metadata": {},
   "outputs": [
    {
     "name": "stdout",
     "output_type": "stream",
     "text": [
      "'BAP', '\\n\\nP'\n",
      "'ATH', 'RIN', 'TRU', 'UCH', 'BAP', 'IST', 'REM', 'NAT', 'IEL', 'PET', 'ENT', 'CEN', 'TON', 'ERO', 'ROS', 'ALO', 'SEB', 'ANT', 'LON'\n",
      "'STA', 'ATH', 'RIN', 'TRU', 'UCH', 'BAP', 'REM', 'd G', 'TRA', 'LUC', 'RUC', 'ETR', 'CEN', 'INA', '\\nPE', 'ERO', 'SPE', '\\nPR', 'ROS', 'ALO', 'NZA'\n",
      "'ond', '\\nYo', ' wo', \"\\nI'\", 'iss', 'BAP', ' mi', 'irt', '\\nOf', 'tir', ', J', ' yo', 'ANI', \"ta'\", 'all', '\\nOr', 'ing', '\\n\\nP', ' sk', 'RUC', 'son', 'tio', 'ors', 'dau', 'TON', 'inc', 'ati', 'rit', 'ous', 'thi', 'ROS', 'end', 'ALO', 'ONI', 'ort'\n",
      "'ATH', 'cuf', 'sho', 'TRU', 'UCH', 'hus', 'BAP', 'tak', 'wet', 'aus', 'omi', 'Som', 'REM', 'com', 'cal', 'NAT', 'Kat', ' af', 'ANI', \"ta'\", 'ang', 'mak', 'PET', ' ow', 'ath', 'Bio', 'dou', 'som', 'dau', ' ar', 'tam', 'tim', 'ois', 'ous', 'rom', 'ali', 'SEB', 'ONI', 'ANT'\n",
      "'BAP', 'PET', 'RUC', 'CEN', 'ROS', 'LON'\n"
     ]
    }
   ],
   "source": [
    "# Print ffwd output clustering\n",
    "clusters_for_substring('BAP', [str_to_cluster for _, str_to_cluster in all_kmeans_results_ffwd_out]).print()"
   ]
  },
  {
   "cell_type": "markdown",
   "metadata": {},
   "source": [
    "## Frequency analysis\n",
    "Let's see what we can learn about how these clusters relate to the input text. "
   ]
  },
  {
   "cell_type": "code",
   "execution_count": null,
   "metadata": {},
   "outputs": [
    {
     "name": "stdout",
     "output_type": "stream",
     "text": [
      "Block 0 Proj Outputs\n",
      "--------------------\n",
      "\n",
      "Substrings: 'hat', ' a ', '\\nAs', ' as', 'ian', 'BAP', 'har', 'fat', 'Was', 'tak', 'ear', 'pav', 'dam', 'mad', 'NA:', 'cal', 'NAT', 'Kat', 'ray', ' af', \"ta'\", 'eat', 'lav', 'way', 'pal', 'mak', 'rav', 'eak', 'hal', 'ran', 'par', ' an', '\\nAn', 'mas', 'say', 'dau', ' ar', 'nap', 'tam', 'cab', 'hav', '-al', 'ead', 'rat', 'may', 'han', 'lab', 'eas', 'lan'\n",
      "Top Tokens for each substring:\n",
      "   'hat':  ' ' (3326),  'h' ( 378),  ',' ( 228),  \"'\" ( 173),  'e' (  99), '\\n' (  68),  '?' (  43),  '!' (  21),  '.' (  14),  ';' (  13),  ':' (  12),  'r' (  12),  's' (   8),  'c' (   7),  't' (   3),  'i' (   2)\n",
      "   ' a ':  's' ( 273),  'm' ( 238),  'p' ( 203),  'w' ( 193),  'b' ( 188),  't' ( 187),  'f' ( 172),  'c' ( 166),  'd' ( 148),  'g' ( 143),  'l' ( 139),  'h' ( 118),  'k' (  73),  'v' (  68),  'r' (  54),  'n' (  50),  'j' (  21),  'q' (  17),  'C' (  14),  'R' (  11),  'y' (  10),  'o' (   6),  'J' (   6),  'M' (   5),  'V' (   3),  'u' (   3),  'F' (   2),  'G' (   1),  'K' (   1),  'a' (   1),  'H' (   1),  'S' (   1),  'T' (   1)\n",
      "  '\\nAs':  ' ' ( 373),  's' (   6),  ',' (   3),  'c' (   2),  'k' (   2),  'i' (   1)\n",
      "   ' as':  ' ' ( 991),  's' (  72),  'k' (  51), '\\n' (  23),  'i' (  22),  'h' (  16),  'l' (  14),  'p' (  11),  ',' (   3),  'c' (   3),  'u' (   2),  \"'\" (   1)\n",
      "   'ian':  'c' (  58),  ' ' (  39),  't' (  37),  's' (  34),  ':' (  19),  ',' (  10),  'a' (   8),  \"'\" (   4),  ';' (   3),  '?' (   2),  'd' (   2),  '.' (   1), '\\n' (   1),  '-' (   1)\n",
      "   'BAP':  'T' (  68)\n",
      "   'har':  'd' ( 165),  'g' (  78),  'm' (  54),  'i' (  53),  'p' (  18),  'e' (  16),  'k' (  12),  'a' (  10),  's' (   8),  't' (   6),  'v' (   5),  'b' (   5),  'l' (   5),  'n' (   2),  'r' (   1)\n",
      "   'fat':  'h' ( 349),  'a' (  15),  ' ' (   5),  'e' (   4),  't' (   1),  'i' (   1)\n",
      "   'Was':  ' ' (  56),  'h' (   2),  't' (   1),  \"'\" (   1)\n",
      "   'tak':  'e' ( 310),  'i' (  12)\n",
      "   'ear':  ' ' ( 659),  't' ( 423),  's' ( 271),  'd' ( 113),  ',' (  99),  'n' (  69),  'i' (  68), '\\n' (  55),  'l' (  47),  '.' (  44),  'f' (  43),  'e' (  42),  \"'\" (  41),  ';' (  30),  '?' (  21),  'y' (  21),  ':' (  16),  '-' (  13),  '!' (   7),  'c' (   7),  'k' (   4),  'a' (   3)\n",
      "   'pav':  'i' (   1),  'e' (   1)\n",
      "   'dam':  ',' (  74),  'n' (  27),  '.' (  11),  ' ' (  11),  ':' (  10),  'e' (   9),  ';' (   8),  '?' (   6),  \"'\" (   3),  'a' (   3),  '!' (   3), '\\n' (   3)\n",
      "   'mad':  'e' ( 218),  'a' (  61),  ' ' (  20),  ',' (   7),  'n' (   7),  'm' (   6),  '-' (   5),  'l' (   4),  '.' (   4),  '?' (   3),  ':' (   3),  ';' (   2),  's' (   2),  '!' (   1), '\\n' (   1)\n",
      "   'NA:': '\\n' ( 169)\n",
      "   'cal':  'l' ( 189),  'm' (  12),  'u' (  11),  ' ' (  10),  'e' (   6),  'a' (   5),  's' (   4),  ',' (   3),  'i' (   3),  'f' (   3),  ';' (   3),  ':' (   2), '\\n' (   1),  '.' (   1),  '-' (   1),  'v' (   1),  '!' (   1),  'd' (   1),  'p' (   1)\n",
      "   'NAT':  'H' (   4)\n",
      "   'Kat':  'e' (  65),  'h' (  26)\n",
      "   'ray':  ' ' ( 136),  ',' (  48),  'e' (  48),  \"'\" (  13),  '?' (  10),  ';' (   7),  's' (   7),  '.' (   6),  'i' (   4), '\\n' (   2),  'b' (   2),  ':' (   1),  'm' (   1)\n",
      "   ' af':  'f' (  90),  't' (  84),  'o' (   8),  'r' (   8),  'e' (   5),  'i' (   2),  'a' (   1)\n",
      "   \"ta'\":  'e' (  29),  's' (   7)\n",
      "   'eat':  'h' ( 477),  ' ' ( 254),  'e' (  84),  ',' (  33),  'u' (  23),  'i' (  22),  's' (  20),  '.' (  12), '\\n' (   8),  'y' (   8),  ';' (   8),  'n' (   8),  'l' (   5),  ':' (   4),  '-' (   4),  \"'\" (   4),  '!' (   4),  '?' (   3),  'r' (   1),  'o' (   1)\n",
      "   'lav':  'e' (  40),  'i' (   5)\n",
      "   'way':  ' ' ( 156),  ',' (  63),  '.' (  41),  's' (  33),  '!' (  25), '\\n' (  20),  ';' (  19),  ':' (  15),  '?' (  13),  \"'\" (   4),  'w' (   4),  'e' (   1),  '-' (   1),  'a' (   1)\n",
      "   'pal':  'e' (  39),  'a' (  15),  'm' (   8),  's' (   3),  't' (   2),  'p' (   1),  ',' (   1),  'l' (   1),  ' ' (   1),  'y' (   1)\n",
      "   'mak':  'e' ( 455),  'i' (  12)\n",
      "   'rav':  'e' ( 180),  'i' (   9),  'a' (   1)\n",
      "   'eak':  ' ' ( 242),  ',' (  45),  '.' (  40),  's' (  30),  ':' (  12),  \"'\" (  11),  'i' (  11),  ';' (  10),  'n' (   9),  '?' (   9), '\\n' (   7),  'e' (   7),  '!' (   4),  '-' (   4),  'l' (   2),  'a' (   2),  'y' (   1),  'f' (   1)\n",
      "   'hal':  'l' ( 874),  't' (  76),  'f' (  52),  ',' (  13),  '.' (  12),  ':' (  11),  ' ' (  10), '\\n' (   7),  'e' (   4),  ';' (   2),  '?' (   2),  'b' (   2),  '!' (   1),  \"'\" (   1),  'v' (   1)\n",
      "   'ran':  't' ( 140),  'c' ( 134),  'g' (  79),  'd' (  44),  'i' (  34),  's' (  23),  'k' (  20),  'n' (  17),  ' ' (   7),  'e' (   1),  '.' (   1),  ';' (   1), '\\n' (   1),  'a' (   1)\n",
      "   'par':  't' ( 227),  'd' (  97),  'e' (  94),  'a' (  24),  'l' (  19),  'k' (  13),  'i' (  10),  'c' (   9),  's' (   2),  'r' (   1)\n",
      "   ' an':  'd' (3703),  ' ' ( 301),  'y' ( 181),  'o' (  94),  's' (  84),  'g' (  58),  'c' (  40), '\\n' (   9),  \"'\" (   7),  't' (   7),  'n' (   5),  '-' (   1),  'v' (   1),  'a' (   1)\n",
      "  '\\nAn':  'd' (1909),  ' ' (  45),  'o' (  16),  'y' (   4),  'g' (   4),  't' (   3),  's' (   2),  \"'\" (   2),  'c' (   2)\n",
      "   'mas':  't' ( 132),  ' ' (  17),  'k' (  10),  'q' (   3),  's' (   3),  ',' (   3),  '-' (   3),  ':' (   1)\n",
      "   'say':  ' ' ( 238),  ',' (  85),  's' (  49),  '.' (  24), '\\n' (  17),  \"'\" (  13),  'i' (  11),  ';' (  10),  '!' (   8),  '?' (   7),  ':' (   7),  'e' (   4),  '-' (   1)\n",
      "   'dau':  'g' ( 141),  'n' (   2),  'b' (   2),  'p' (   1)\n",
      "   ' ar':  'e' ( 703),  't' ( 213),  'm' ( 151),  'r' (  36),  'g' (  17),  'i' (   7),  'c' (   5),  'b' (   4)\n",
      "   'nap':  'k' (   4),  'p' (   2),  't' (   2),  'l' (   1),  'e' (   1),  '.' (   1),  ',' (   1)\n",
      "   'tam':  'e' (  16),  'p' (  13),  'i' (   2)\n",
      "   'cab':  'i' (   6),  'l' (   3),  's' (   1)\n",
      "   'hav':  'e' (1347),  'i' (  40),  'o' (   1)\n",
      "   '-al':  'a' (   1)\n",
      "   'ead':  ' ' ( 190),  'y' (  83),  ',' (  75),  's' (  57),  '.' (  42),  ';' (  33), '\\n' (  25),  'l' (  22),  'e' (  21),  '?' (  20),  '!' (  17),  'i' (  17),  'f' (  15),  ':' (  10),  '-' (   6),  \"'\" (   5)\n",
      "   'rat':  'e' (  96),  'h' (  83),  'i' (  36),  'o' (  21),  'c' (   8),  's' (   6),  ' ' (   5),  't' (   4),  'a' (   3),  ',' (   3),  'u' (   3),  \"'\" (   1),  '?' (   1),  'f' (   1),  '-' (   1)\n",
      "   'may':  ' ' ( 324),  ',' (  20),  's' (  17),  'o' (  15), '\\n' (   8),  '.' (   5),  \"'\" (   3),  ':' (   3),  ';' (   2),  '-' (   2),  'e' (   1)\n",
      "   'han':  ' ' ( 469),  'd' ( 289),  'g' ( 153),  'k' ( 129),  'c' (  46),  't' (  17), '\\n' (   9),  ',' (   9),  'i' (   4),  's' (   3),  'n' (   2),  \"'\" (   1)\n",
      "   'lab':  'o' (  26),  'l' (   6),  'y' (   1),  'r' (   1),  'e' (   1),  'a' (   1)\n",
      "   'eas':  'e' ( 182),  't' ( 135),  'o' ( 107),  'u' (  89),  'i' (  21),  'y' (  20),  'a' (  18),  ' ' (   3),  ',' (   3), '\\n' (   2),  'h' (   2),  '.' (   2),  '?' (   1),  'l' (   1),  ':' (   1),  \"'\" (   1),  ';' (   1)\n",
      "   'lan':  'd' ( 257),  't' (  62),  'u' (  32),  'c' (  31),  'g' (  17),  'e' (   9),  'y' (   4),  'k' (   4),  'o' (   3),  ',' (   2),  ' ' (   2), '\\n' (   2),  '!' (   1),  '.' (   1),  ';' (   1)\n",
      "Cumulative Top Tokens:\n",
      " ' ' (0.25),  'd' (0.21),  'e' (0.13),  't' (0.06),  'h' (0.05),  'l' (0.04),  's' (0.03),  ',' (0.03),  'g' (0.02),  'c' (0.02),  'm' (0.01), '\\n' (0.01),  'i' (0.01),  'f' (0.01),  'y' (0.01),  'k' (0.01),  'o' (0.01),  \"'\" (0.01),  '.' (0.01),  'p' (0.01),  'b' (0.01),  'n' (0.01),  'w' (0.01),  'a' (0.01),  'u' (0.01),  ';' (0.00),  '?' (0.00),  ':' (0.00),  'r' (0.00),  '!' (0.00),  'v' (0.00),  'T' (0.00),  '-' (0.00),  'j' (0.00),  'q' (0.00),  'C' (0.00),  'R' (0.00),  'J' (0.00),  'M' (0.00),  'H' (0.00),  'V' (0.00),  'F' (0.00),  'S' (0.00),  'G' (0.00),  'K' (0.00)\n",
      "\n",
      "Block 1 Proj Outputs\n",
      "--------------------\n",
      "\n",
      "Substrings: 'be ', 'ble', 'BAP', 've ', 'ven', 'Bia', 'but', 'bit', 'bli', 'bes', 'bed', 'bet', 'Bio', 'bro', 'blo', 'ver'\n",
      "Top Tokens for each substring:\n",
      "   'be ':  's' ( 176),  't' ( 166),  'a' ( 132),  'm' ( 101),  'c' (  80),  'h' (  73),  'p' (  73),  'g' (  67),  'n' (  67),  'd' (  66),  'b' (  61),  'i' (  50),  'w' (  50),  'r' (  47),  'f' (  47),  'o' (  39),  'y' (  35),  'l' (  32),  'e' (  18),  'k' (  16),  'u' (  12),  'q' (   9),  'v' (   9),  'E' (   4),  'j' (   4),  \"'\" (   3),  'I' (   3),  'R' (   3),  'D' (   2),  'K' (   2),  'L' (   2),  'S' (   1),  'M' (   1),  'P' (   1),  'V' (   1)\n",
      "   'ble':  ' ' ( 375),  's' ( 107),  ',' (  45),  '.' (  35), '\\n' (  24),  'd' (  20),  'e' (  16),  'm' (  13),  ':' (  11),  ';' (  11),  'n' (  10),  'r' (   8),  't' (   6),  '?' (   6),  'a' (   5),  '!' (   3),  '-' (   3),  \"'\" (   2),  'w' (   1)\n",
      "   'BAP':  'T' (  68)\n",
      "   've ':  't' ( 385),  'm' ( 317),  'a' ( 224),  's' ( 188),  'h' ( 179),  'y' ( 174),  'b' ( 147),  'n' ( 111),  'i' ( 108),  'w' ( 104),  'd' (  97),  'I' (  81),  'f' (  76),  'o' (  74),  'l' (  67),  'p' (  62),  'c' (  49),  'u' (  48),  'r' (  32),  'g' (  29),  'e' (  25),  'k' (  13),  'v' (  12),  'K' (   7),  'G' (   5),  'j' (   5),  'M' (   4),  'E' (   4),  'H' (   4),  'P' (   3),  'R' (   3),  \"'\" (   3),  'L' (   2),  'W' (   2),  'B' (   1),  'O' (   1),  'q' (   1),  'Y' (   1),  'J' (   1),  'T' (   1)\n",
      "   'ven':  ' ' ( 278),  'g' (  83),  't' (  70),  's' (  49),  ',' (  48), '\\n' (  13),  'o' (  12),  '.' (  11),  'u' (   9),  'e' (   9),  'i' (   8),  'l' (   8),  '!' (   7),  ';' (   6),  \"'\" (   6),  ':' (   3),  '?' (   2),  'a' (   2),  'd' (   1),  '-' (   1)\n",
      "   'Bia':  'n' (  37)\n",
      "   'but':  ' ' ( 844),  ',' (  32), '\\n' (  24),  'c' (  19),  't' (  15),  'e' (   6),  'l' (   1),  'i' (   1),  'o' (   1),  's' (   1),  'a' (   1)\n",
      "   'bit':  't' (  32),  'e' (  21),  'i' (  15),  ',' (   6),  ' ' (   4),  'r' (   4),  'a' (   3),  's' (   3),  '.' (   1), '\\n' (   1),  ';' (   1)\n",
      "   'bli':  'n' (  45),  's' (  14),  'c' (  13),  'v' (   3),  'e' (   1),  'u' (   1)\n",
      "   'bes':  't' ( 119),  'e' (  69),  'i' (  17),  ' ' (   6), '\\n' (   3),  'h' (   3),  ':' (   2),  'p' (   2),  ';' (   2),  'c' (   1),  ',' (   1),  '!' (   1),  '?' (   1)\n",
      "   'bed':  ' ' (  32),  'i' (  26),  ',' (  24),  ';' (  11),  '.' (   7), '\\n' (   6),  ':' (   5),  '-' (   4),  '?' (   3),  'a' (   3),  '!' (   2),  'e' (   2),  'r' (   1),  'f' (   1),  'w' (   1),  's' (   1)\n",
      "   'bet':  't' ( 126),  'w' (  46),  'i' (  16),  'h' (  15),  'r' (  11),  'a' (   2),  ' ' (   1),  'o' (   1)\n",
      "   'Bio':  'n' (  13)\n",
      "   'bro':  't' ( 252),  'k' (  93),  'u' (  44),  'w' (  42),  'a' (  27),  'o' (  18),  'i' (   7)\n",
      "   'blo':  'o' ( 252),  'w' (  56),  'c' (  11),  't' (   9),  'u' (   4),  's' (   2)\n",
      "   'ver':  ' ' ( 401),  'y' ( 279),  'e' ( 109),  's' (  71), '\\n' (  33),  'n' (  33),  't' (  31),  \"'\" (  31),  ',' (  25),  'i' (  22),  '-' (  19),  'a' (  18),  '.' (  17),  ':' (  10),  'd' (   8),  'l' (   7),  'b' (   6),  'm' (   6),  'g' (   5),  ';' (   3),  '!' (   3),  'h' (   3),  'w' (   3),  'f' (   2),  'o' (   2),  '?' (   1),  'c' (   1),  'j' (   1),  'p' (   1)\n",
      "Cumulative Top Tokens:\n",
      " ' ' (0.21),  't' (0.13),  's' (0.07),  'y' (0.05),  'm' (0.05),  'a' (0.05),  'o' (0.04),  'n' (0.03),  'w' (0.03),  'e' (0.03),  'h' (0.03),  'i' (0.03),  'b' (0.02),  'd' (0.02),  'g' (0.02),  ',' (0.02),  'c' (0.02),  'p' (0.01),  'f' (0.01),  'k' (0.01),  'u' (0.01),  'l' (0.01), '\\n' (0.01),  'r' (0.01),  'I' (0.01),  '.' (0.01),  'T' (0.01),  \"'\" (0.00),  ';' (0.00),  ':' (0.00),  '-' (0.00),  'v' (0.00),  '!' (0.00),  '?' (0.00),  'q' (0.00),  'j' (0.00),  'K' (0.00),  'E' (0.00),  'R' (0.00),  'M' (0.00),  'G' (0.00),  'L' (0.00),  'P' (0.00),  'H' (0.00),  'W' (0.00),  'D' (0.00),  'O' (0.00),  'S' (0.00),  'J' (0.00),  'V' (0.00),  'B' (0.00),  'Y' (0.00)\n",
      "\n",
      "Block 2 Proj Outputs\n",
      "--------------------\n",
      "\n",
      "Substrings: 'BAP', 'Bia', 'BIA', 'Bio', 'BIO'\n",
      "Top Tokens for each substring:\n",
      "   'BAP':  'T' (  68)\n",
      "   'Bia':  'n' (  37)\n",
      "   'BIA':  'N' (  29)\n",
      "   'Bio':  'n' (  13)\n",
      "   'BIO':  'N' (  40)\n",
      "Cumulative Top Tokens:\n",
      " 'N' (0.37),  'T' (0.36),  'n' (0.27)\n",
      "\n",
      "Block 3 Proj Outputs\n",
      "--------------------\n",
      "\n",
      "Substrings: 'be ', 'ble', 'BAP', 'Bia', 'but', 'bit', 'bli', 'bes', 'bed', 'bet', 'Bio', 'bro', 'blo'\n",
      "Top Tokens for each substring:\n",
      "   'be ':  's' ( 176),  't' ( 166),  'a' ( 132),  'm' ( 101),  'c' (  80),  'h' (  73),  'p' (  73),  'g' (  67),  'n' (  67),  'd' (  66),  'b' (  61),  'i' (  50),  'w' (  50),  'r' (  47),  'f' (  47),  'o' (  39),  'y' (  35),  'l' (  32),  'e' (  18),  'k' (  16),  'u' (  12),  'q' (   9),  'v' (   9),  'E' (   4),  'j' (   4),  \"'\" (   3),  'I' (   3),  'R' (   3),  'D' (   2),  'K' (   2),  'L' (   2),  'S' (   1),  'M' (   1),  'P' (   1),  'V' (   1)\n",
      "   'ble':  ' ' ( 375),  's' ( 107),  ',' (  45),  '.' (  35), '\\n' (  24),  'd' (  20),  'e' (  16),  'm' (  13),  ':' (  11),  ';' (  11),  'n' (  10),  'r' (   8),  't' (   6),  '?' (   6),  'a' (   5),  '!' (   3),  '-' (   3),  \"'\" (   2),  'w' (   1)\n",
      "   'BAP':  'T' (  68)\n",
      "   'Bia':  'n' (  37)\n",
      "   'but':  ' ' ( 844),  ',' (  32), '\\n' (  24),  'c' (  19),  't' (  15),  'e' (   6),  'l' (   1),  'i' (   1),  'o' (   1),  's' (   1),  'a' (   1)\n",
      "   'bit':  't' (  32),  'e' (  21),  'i' (  15),  ',' (   6),  ' ' (   4),  'r' (   4),  'a' (   3),  's' (   3),  '.' (   1), '\\n' (   1),  ';' (   1)\n",
      "   'bli':  'n' (  45),  's' (  14),  'c' (  13),  'v' (   3),  'e' (   1),  'u' (   1)\n",
      "   'bes':  't' ( 119),  'e' (  69),  'i' (  17),  ' ' (   6), '\\n' (   3),  'h' (   3),  ':' (   2),  'p' (   2),  ';' (   2),  'c' (   1),  ',' (   1),  '!' (   1),  '?' (   1)\n",
      "   'bed':  ' ' (  32),  'i' (  26),  ',' (  24),  ';' (  11),  '.' (   7), '\\n' (   6),  ':' (   5),  '-' (   4),  '?' (   3),  'a' (   3),  '!' (   2),  'e' (   2),  'r' (   1),  'f' (   1),  'w' (   1),  's' (   1)\n",
      "   'bet':  't' ( 126),  'w' (  46),  'i' (  16),  'h' (  15),  'r' (  11),  'a' (   2),  ' ' (   1),  'o' (   1)\n",
      "   'Bio':  'n' (  13)\n",
      "   'bro':  't' ( 252),  'k' (  93),  'u' (  44),  'w' (  42),  'a' (  27),  'o' (  18),  'i' (   7)\n",
      "   'blo':  'o' ( 252),  'w' (  56),  'c' (  11),  't' (   9),  'u' (   4),  's' (   2)\n",
      "Cumulative Top Tokens:\n",
      " ' ' (0.26),  't' (0.15),  'o' (0.07),  's' (0.06),  'w' (0.04),  'a' (0.04),  'n' (0.04),  'e' (0.03),  'i' (0.03),  'c' (0.03),  'm' (0.02),  'k' (0.02),  ',' (0.02),  'h' (0.02),  'd' (0.02),  'p' (0.02),  'r' (0.01),  'T' (0.01),  'g' (0.01),  'b' (0.01),  'u' (0.01), '\\n' (0.01),  'f' (0.01),  '.' (0.01),  'y' (0.01),  'l' (0.01),  ';' (0.01),  ':' (0.00),  'v' (0.00),  '?' (0.00),  'q' (0.00),  '-' (0.00),  '!' (0.00),  \"'\" (0.00),  'j' (0.00),  'E' (0.00),  'I' (0.00),  'R' (0.00),  'D' (0.00),  'K' (0.00),  'L' (0.00),  'V' (0.00),  'P' (0.00),  'S' (0.00),  'M' (0.00)\n",
      "\n",
      "Block 4 Proj Outputs\n",
      "--------------------\n",
      "\n",
      "Substrings: 'ARI', 'ATH', 'BAP', 'Ay,', 'ANI', 'And', 'A:\\n', 'Abs', 'A g', 'ALO', 'ANT'\n",
      "Top Tokens for each substring:\n",
      "   'ARI':  'N' (  82),  'A' (  24),  'S' (  23),  'E' (  21)\n",
      "   'ATH':  'A' (  85)\n",
      "   'BAP':  'T' (  68)\n",
      "   'Ay,':  ' ' ( 153),  \"'\" (   2)\n",
      "   'ANI':  'O' (  90),  'E' (   4)\n",
      "   'And':  ' ' (1801),  ',' ( 126)\n",
      "  'A:\\n':  'I' ( 103),  'W' (  57),  'A' (  53),  'T' (  49),  'O' (  49),  'N' (  45),  'H' (  31),  'Y' (  25),  'S' (  25),  'M' (  22),  'G' (  19),  'B' (  18),  'P' (  13),  'F' (  13),  'L' (  11),  \"'\" (   8),  'C' (   8), '\\n' (   6),  'D' (   5),  'E' (   5),  'U' (   3),  'V' (   1),  'J' (   1)\n",
      "   'Abs':  'o' (   1)\n",
      "   'A g':  'r' (  10),  'o' (   9),  'e' (   8),  'l' (   2),  'h' (   1)\n",
      "   'ALO':  ':' (  37),  'N' (  10)\n",
      "   'ANT':  'O' (  38),  'I' (  19)\n",
      "Cumulative Top Tokens:\n",
      " ' ' (0.61),  'O' (0.06),  'A' (0.05),  'N' (0.04),  ',' (0.04),  'I' (0.04),  'T' (0.04),  'W' (0.02),  'S' (0.02),  ':' (0.01),  'H' (0.01),  'E' (0.01),  'Y' (0.01),  'M' (0.01),  'G' (0.01),  'B' (0.01),  'F' (0.00),  'P' (0.00),  'L' (0.00),  'r' (0.00),  'o' (0.00),  \"'\" (0.00),  'C' (0.00),  'e' (0.00), '\\n' (0.00),  'D' (0.00),  'U' (0.00),  'l' (0.00),  'h' (0.00),  'V' (0.00),  'J' (0.00)\n",
      "\n",
      "Block 5 Proj Outputs\n",
      "--------------------\n",
      "\n",
      "Substrings: 'BAP', 'Bia', 'BIA', 'Bio', 'Din', 'TIA'\n",
      "Top Tokens for each substring:\n",
      "   'BAP':  'T' (  68)\n",
      "   'Bia':  'n' (  37)\n",
      "   'BIA':  'N' (  29)\n",
      "   'Bio':  'n' (  13)\n",
      "   'Din':  'g' (   1),  'e' (   1)\n",
      "   'TIA':  'N' (  42)\n",
      "Cumulative Top Tokens:\n",
      " 'N' (0.37),  'T' (0.36),  'n' (0.26),  'e' (0.01),  'g' (0.01)\n",
      "\n"
     ]
    }
   ],
   "source": [
    "# do it for the proj outputs\n",
    "s = 'BAP'\n",
    "for block_idx in range(n_layer):\n",
    "    title = f'Block {block_idx} Proj Outputs'\n",
    "    print(title)\n",
    "    print(''.join(['-' for _ in range(len(title))]))\n",
    "    print()\n",
    "    clusters, substr_to_cluster = all_kmeans_results_proj_out[block_idx]\n",
    "    cluster = substr_to_cluster[s]\n",
    "    analysis = SubstringFrequencyAnalysis(cluster.substrs, ts.text, tokenizer.vocab_size, tokenizer.itos, tokenizer.stoi)\n",
    "    analysis.print_summary()\n",
    "    print()"
   ]
  },
  {
   "cell_type": "code",
   "execution_count": null,
   "metadata": {},
   "outputs": [
    {
     "name": "stdout",
     "output_type": "stream",
     "text": [
      "Block 0 FFWD Outputs\n",
      "--------------------\n",
      "\n",
      "Substrings: 'BAP', '\\n\\nP'\n",
      "Top Tokens for each substring:\n",
      "   'BAP':  'T' (  68)\n",
      " '\\n\\nP':  'E' ( 198),  'O' ( 117),  'R' ( 113),  'A' (  86),  'r' (  66),  'e' (  20),  'a' (  11),  'o' (   9),  'u' (   3),  'l' (   1),  'H' (   1)\n",
      "Cumulative Top Tokens:\n",
      " 'E' (0.29),  'O' (0.17),  'R' (0.16),  'A' (0.12),  'T' (0.10),  'r' (0.10),  'e' (0.03),  'a' (0.02),  'o' (0.01),  'u' (0.00),  'H' (0.00),  'l' (0.00)\n",
      "\n",
      "Block 1 FFWD Outputs\n",
      "--------------------\n",
      "\n",
      "Substrings: 'ATH', 'RIN', 'TRU', 'UCH', 'BAP', 'IST', 'REM', 'NAT', 'IEL', 'PET', 'ENT', 'CEN', 'TON', 'ERO', 'ROS', 'ALO', 'SEB', 'ANT', 'LON'\n",
      "Top Tokens for each substring:\n",
      "   'ATH':  'A' (  85)\n",
      "   'RIN':  'A' (  82),  'C' (  50)\n",
      "   'TRU':  'C' ( 158)\n",
      "   'UCH':  'I' ( 158),  'E' (  75)\n",
      "   'BAP':  'T' (  68)\n",
      "   'IST':  'A' (  68),  'R' (  15),  'O' (   2)\n",
      "   'REM':  'I' (  58)\n",
      "   'NAT':  'H' (   4)\n",
      "   'IEL':  ':' (  25)\n",
      "   'PET':  'R' ( 158),  'E' (  22)\n",
      "   'ENT':  'I' ( 277),  'L' (   1)\n",
      "   'CEN':  'T' ( 277)\n",
      "   'TON':  'I' (  38),  ':' (   6)\n",
      "   'ERO':  ':' (  63)\n",
      "   'ROS':  'P' (  63),  'S' (  11)\n",
      "   'ALO':  ':' (  37),  'N' (  10)\n",
      "   'SEB':  'A' (  42)\n",
      "   'ANT':  'O' (  38),  'I' (  19)\n",
      "   'LON':  'S' (  10)\n",
      "Cumulative Top Tokens:\n",
      " 'I' (0.29),  'T' (0.18),  'A' (0.14),  'C' (0.11),  'R' (0.09),  ':' (0.07),  'E' (0.05),  'P' (0.03),  'O' (0.02),  'S' (0.01),  'N' (0.01),  'H' (0.00),  'L' (0.00)\n",
      "\n",
      "Block 2 FFWD Outputs\n",
      "--------------------\n",
      "\n",
      "Substrings: 'STA', 'ATH', 'RIN', 'TRU', 'UCH', 'BAP', 'REM', 'd G', 'TRA', 'LUC', 'RUC', 'ETR', 'CEN', 'INA', '\\nPE', 'ERO', 'SPE', '\\nPR', 'ROS', 'ALO', 'NZA'\n",
      "Top Tokens for each substring:\n",
      "   'STA':  ':' (  68),  'N' (  17)\n",
      "   'ATH':  'A' (  85)\n",
      "   'RIN':  'A' (  82),  'C' (  50)\n",
      "   'TRU':  'C' ( 158)\n",
      "   'UCH':  'I' ( 158),  'E' (  75)\n",
      "   'BAP':  'T' (  68)\n",
      "   'REM':  'I' (  58)\n",
      "   'd G':  'e' (  22),  'r' (  14),  'a' (   7),  'o' (   5),  'l' (   4)\n",
      "   'TRA':  'N' (  90)\n",
      "   'LUC':  'I' ( 111),  'E' (  61)\n",
      "   'RUC':  'H' ( 158)\n",
      "   'ETR':  'U' ( 158)\n",
      "   'CEN':  'T' ( 277)\n",
      "   'INA':  ':' ( 141),  'N' (  10),  'L' (   2)\n",
      "  '\\nPE':  'T' ( 173),  'R' (  25)\n",
      "   'ERO':  ':' (  63)\n",
      "   'SPE':  'R' (  63)\n",
      "  '\\nPR':  'O' (  63),  'I' (  50)\n",
      "   'ROS':  'P' (  63),  'S' (  11)\n",
      "   'ALO':  ':' (  37),  'N' (  10)\n",
      "   'NZA':  'L' (  37)\n",
      "Cumulative Top Tokens:\n",
      " 'T' (0.21),  'I' (0.15),  ':' (0.12),  'C' (0.08),  'A' (0.07),  'H' (0.06),  'U' (0.06),  'E' (0.05),  'N' (0.05),  'R' (0.04),  'P' (0.03),  'O' (0.03),  'L' (0.02),  'e' (0.01),  'r' (0.01),  'S' (0.00),  'a' (0.00),  'o' (0.00),  'l' (0.00)\n",
      "\n",
      "Block 3 FFWD Outputs\n",
      "--------------------\n",
      "\n",
      "Substrings: 'ond', '\\nYo', ' wo', \"\\nI'\", 'iss', 'BAP', ' mi', 'irt', '\\nOf', 'tir', ', J', ' yo', 'ANI', \"ta'\", 'all', '\\nOr', 'ing', '\\n\\nP', ' sk', 'RUC', 'son', 'tio', 'ors', 'dau', 'TON', 'inc', 'ati', 'rit', 'ous', 'thi', 'ROS', 'end', 'ALO', 'ONI', 'ort'\n",
      "Top Tokens for each substring:\n",
      "   'ond':  ' ' ( 221),  'e' ( 105),  'o' (  30),  'i' (  21),  'u' (  17),  ',' (  14),  'r' (  10),  'a' (   9),  's' (   7),  '.' (   6),  'l' (   6), '\\n' (   5),  '?' (   2),  ';' (   2),  '!' (   2),  'm' (   1),  \"'\" (   1),  'y' (   1),  'n' (   1),  ':' (   1)\n",
      "  '\\nYo':  'u' ( 500),  'n' (   5),  'r' (   2)\n",
      "   ' wo':  'r' ( 645),  'u' ( 531),  'm' ( 137),  'n' (  85),  'e' (  75),  'o' (  57),  'f' (  14),  'l' (  12),  't' (  12),  'w' (   1)\n",
      "  \"\\nI'\":  'l' ( 171),  ' ' (  21),  'm' (   1),  'v' (   1),  'f' (   1),  'd' (   1)\n",
      "   'iss':  ' ' (  52),  'u' (  43),  'e' (  26),  'i' (  22),  \"'\" (  12),  'o' (  10),  '.' (   7), '\\n' (   6),  ',' (   6),  'a' (   5),  ':' (   3),  ';' (   3),  'h' (   1),  '!' (   1),  'n' (   1)\n",
      "   'BAP':  'T' (  68)\n",
      "   ' mi':  'n' ( 410),  's' ( 187),  'g' ( 136),  'l' (  57),  'd' (  26),  'r' (  17),  'c' (   3),  'x' (   2),  't' (   1)\n",
      "   'irt':  'u' (  74),  'h' (  34),  'y' (   8),  's' (   2),  ' ' (   2), '\\n' (   1),  ';' (   1),  '-' (   1)\n",
      "  '\\nOf':  ' ' ( 229),  'f' (  17),  't' (   2)\n",
      "   'tir':  'e' (  37),  'r' (  13),  ' ' (  12),  ',' (   5),  's' (   4),  '.' (   3),  'p' (   2), '\\n' (   2),  ';' (   2),  '!' (   1),  ':' (   1)\n",
      "   ', J':  'u' (  14),  'o' (   3),  'e' (   3),  'a' (   2)\n",
      "   ' yo':  'u' (4587),  'n' (  28),  'k' (  10)\n",
      "   'ANI':  'O' (  90),  'E' (   4)\n",
      "   \"ta'\":  'e' (  29),  's' (   7)\n",
      "   'all':  ' ' (1676),  ',' (  97),  \"'\" (  62),  '.' (  56),  'o' (  53), '\\n' (  52),  'e' (  51),  's' (  48),  'y' (  38),  'i' (  35),  'a' (  29),  ':' (  20),  ';' (  20),  '-' (   8),  '!' (   5),  '?' (   5)\n",
      "  '\\nOr':  ' ' ( 160),  ',' (  21),  'd' (   1)\n",
      "   'ing':  ' ' (2198),  ',' ( 302),  's' ( 254),  '.' ( 171), '\\n' ( 109),  ':' (  75),  ';' (  71),  'm' (  56),  'l' (  56),  'e' (  52),  'b' (  49),  \"'\" (  47),  '?' (  45),  'h' (  41),  '-' (  37),  '!' (  31),  'd' (  29),  'i' (  10),  'u' (  10),  'r' (   7),  'a' (   5),  'n' (   4),  'o' (   1)\n",
      " '\\n\\nP':  'E' ( 198),  'O' ( 117),  'R' ( 113),  'A' (  86),  'r' (  66),  'e' (  20),  'a' (  11),  'o' (   9),  'u' (   3),  'l' (   1),  'H' (   1)\n",
      "   ' sk':  'i' (  17),  'y' (  10),  'u' (   6),  'e' (   1),  'a' (   1)\n",
      "   'RUC':  'H' ( 158)\n",
      "   'son':  ' ' ( 175),  ',' ( 106),  's' (  65),  '.' (  41),  'e' (  29),  ':' (  28),  \"'\" (  24), '\\n' (  24),  '?' (  21),  '!' (  20),  ';' (  18),  'g' (  12),  'a' (  11),  'm' (  10),  'o' (   4),  '-' (   4)\n",
      "   'tio':  'n' ( 564),  'u' (  18),  '.' (  17),  ' ' (  16),  ',' (  16),  \"'\" (   9),  '?' (   6),  ';' (   5), '\\n' (   3),  '!' (   3),  ':' (   1)\n",
      "   'ors':  'e' ( 160),  ' ' (  45),  'h' (  36),  ',' (  27),  'w' (  26),  't' (  25),  'o' (  11), '\\n' (   8),  'a' (   7),  ':' (   7),  '.' (   6),  '!' (   5),  '?' (   4),  'l' (   2),  'i' (   1),  \"'\" (   1),  ';' (   1),  'p' (   1)\n",
      "   'dau':  'g' ( 141),  'n' (   2),  'b' (   2),  'p' (   1)\n",
      "   'TON':  'I' (  38),  ':' (   6)\n",
      "   'inc':  'e' ( 326),  'l' (  17),  'h' (  16),  'r' (  12),  'o' (  10),  't' (   9),  'i' (   7),  'a' (   5),  'u' (   3)\n",
      "   'ati':  'o' ( 190),  'e' (  84),  's' (  37),  'n' (  32),  'v' (  20),  'c' (  11),  't' (   4),  'a' (   3),  'f' (   2),  'g' (   1)\n",
      "   'rit':  'y' (  73),  'h' (  44),  'e' (  36),  ' ' (  31),  ',' (  21),  's' (  18),  'i' (  17),  't' (  15),  '.' (  10),  'a' (  10), '\\n' (   7),  '!' (   6),  'o' (   6),  ':' (   1),  \"'\" (   1),  'u' (   1),  ';' (   1),  '?' (   1)\n",
      "   'ous':  ' ' ( 429),  'e' ( 184),  'i' ( 103),  'a' (  83),  ',' (  36),  'l' (  20), '\\n' (  18),  '.' (  16),  ';' (  11),  '!' (   7),  ':' (   2),  'n' (   2),  '?' (   2),  'y' (   1),  '-' (   1)\n",
      "   'thi':  's' (1275),  'n' ( 851),  't' (  26),  'r' (  25),  'e' (  24),  'c' (   9),  'l' (   6),  'm' (   2),  'o' (   2),  'g' (   2),  'z' (   1),  'p' (   1),  'a' (   1)\n",
      "   'ROS':  'P' (  63),  'S' (  11)\n",
      "   'end':  ' ' ( 299),  's' ( 197),  'e' ( 124),  ',' (  46),  '.' (  26),  'i' (  25),  'u' (  20), '\\n' (  19),  ';' (  15),  'l' (  14),  'a' (  10),  'o' (   8),  '!' (   6),  ':' (   6),  '?' (   5),  'm' (   2),  \"'\" (   1),  't' (   1)\n",
      "   'ALO':  ':' (  37),  'N' (  10)\n",
      "   'ONI':  'O' (  38)\n",
      "   'ort':  'h' ( 269),  'u' ( 123),  ' ' ( 112),  'e' (  60),  'a' (  50),  ',' (  31),  'i' (  24), '\\n' (  16),  '.' (  16),  'l' (  13),  's' (  13),  ':' (  11),  ';' (   7),  'y' (   7),  'n' (   4),  \"'\" (   4),  '!' (   4),  '?' (   3),  'f' (   2),  'o' (   2),  'c' (   1),  'r' (   1)\n",
      "Cumulative Top Tokens:\n",
      " 'u' (0.25),  ' ' (0.24),  's' (0.09),  'n' (0.08),  'e' (0.06),  'r' (0.03),  ',' (0.03),  'h' (0.02),  'o' (0.02),  'l' (0.02),  '.' (0.02),  'g' (0.01),  'i' (0.01), '\\n' (0.01),  'O' (0.01),  'a' (0.01),  'm' (0.01),  'E' (0.01),  ':' (0.01),  \"'\" (0.01),  'H' (0.01),  ';' (0.01),  'y' (0.01),  'R' (0.00),  't' (0.00),  '?' (0.00),  '!' (0.00),  'A' (0.00),  'T' (0.00),  'P' (0.00),  'd' (0.00),  'b' (0.00),  '-' (0.00),  'I' (0.00),  'f' (0.00),  'w' (0.00),  'c' (0.00),  'v' (0.00),  'S' (0.00),  'k' (0.00),  'N' (0.00),  'p' (0.00),  'x' (0.00),  'z' (0.00)\n",
      "\n",
      "Block 4 FFWD Outputs\n",
      "--------------------\n",
      "\n",
      "Substrings: 'ATH', 'cuf', 'sho', 'TRU', 'UCH', 'hus', 'BAP', 'tak', 'wet', 'aus', 'omi', 'Som', 'REM', 'com', 'cal', 'NAT', 'Kat', ' af', 'ANI', \"ta'\", 'ang', 'mak', 'PET', ' ow', 'ath', 'Bio', 'dou', 'som', 'dau', ' ar', 'tam', 'tim', 'ois', 'ous', 'rom', 'ali', 'SEB', 'ONI', 'ANT'\n",
      "Top Tokens for each substring:\n",
      "   'ATH':  'A' (  85)\n",
      "   'cuf':  'f' (   3)\n",
      "   'sho':  'u' ( 356),  'w' ( 131),  'r' (  63),  'n' (  31),  'p' (  20),  'o' (  11),  'e' (   8),  't' (   7),  'l' (   3),  'c' (   3),  'v' (   1)\n",
      "   'TRU':  'C' ( 158)\n",
      "   'UCH':  'I' ( 158),  'E' (  75)\n",
      "   'hus':  ' ' ( 141),  'b' ( 102),  ',' (  14),  '.' (   9),  ':' (   8),  ';' (   7),  '?' (   6), '\\n' (   4),  'h' (   3),  'e' (   1),  \"'\" (   1),  'k' (   1),  '!' (   1),  '-' (   1)\n",
      "   'BAP':  'T' (  68)\n",
      "   'tak':  'e' ( 310),  'i' (  12)\n",
      "   'wet':  ' ' (   4),  'h' (   3),  ';' (   1)\n",
      "   'aus':  'e' ( 169),  'p' (   3),  't' (   3),  'i' (   1),  ';' (   1)\n",
      "   'omi':  'n' (  70),  's' (  54),  't' (   7),  'c' (   4),  'e' (   1)\n",
      "   'Som':  'e' (  72)\n",
      "   'REM':  'I' (  58)\n",
      "   'com':  'e' ( 707),  'm' ( 186),  'p' ( 151),  'f' (  84),  'i' (  39),  'b' (  16),  'o' (   1)\n",
      "   'cal':  'l' ( 189),  'm' (  12),  'u' (  11),  ' ' (  10),  'e' (   6),  'a' (   5),  's' (   4),  ',' (   3),  'i' (   3),  'f' (   3),  ';' (   3),  ':' (   2), '\\n' (   1),  '.' (   1),  '-' (   1),  'v' (   1),  '!' (   1),  'd' (   1),  'p' (   1)\n",
      "   'NAT':  'H' (   4)\n",
      "   'Kat':  'e' (  65),  'h' (  26)\n",
      "   ' af':  'f' (  90),  't' (  84),  'o' (   8),  'r' (   8),  'e' (   5),  'i' (   2),  'a' (   1)\n",
      "   'ANI':  'O' (  90),  'E' (   4)\n",
      "   \"ta'\":  'e' (  29),  's' (   7)\n",
      "   'ang':  'e' ( 245),  ' ' (  25),  'r' (  25),  'i' (  24),  'l' (  21),  'u' (  18),  's' (   9),  \"'\" (   7),  'm' (   7),  ',' (   3),  '.' (   1),  'o' (   1),  '?' (   1)\n",
      "   'mak':  'e' ( 455),  'i' (  12)\n",
      "   'PET':  'R' ( 158),  'E' (  22)\n",
      "   ' ow':  'n' ( 172),  'e' (  24),  'l' (   3)\n",
      "   'ath':  ' ' ( 591),  'e' ( 521),  ',' ( 118),  '.' (  61), '\\n' (  41),  'a' (  29),  's' (  29),  ';' (  26),  '?' (  24),  ':' (  21),  '!' (  18),  \"'\" (  12),  'i' (   9),  '-' (   8),  'o' (   4),  'w' (   3),  'y' (   2),  'n' (   1),  'f' (   1),  'l' (   1),  'm' (   1)\n",
      "   'Bio':  'n' (  13)\n",
      "   'dou':  'b' (  99),  'g' (   2)\n",
      "   'som':  'e' ( 370),  ' ' (  16),  ',' (  10),  '.' (   6),  's' (   6),  \"'\" (   2),  ';' (   2),  'i' (   2),  ':' (   2),  '?' (   1),  '!' (   1), '\\n' (   1)\n",
      "   'dau':  'g' ( 141),  'n' (   2),  'b' (   2),  'p' (   1)\n",
      "   ' ar':  'e' ( 703),  't' ( 213),  'm' ( 151),  'r' (  36),  'g' (  17),  'i' (   7),  'c' (   5),  'b' (   4)\n",
      "   'tam':  'e' (  16),  'p' (  13),  'i' (   2)\n",
      "   'tim':  'e' ( 386),  'o' (  10),  'a' (   9),  'b' (   1)\n",
      "   'ois':  'o' (  41),  'e' (  30),  't' (  10),  ',' (   2),  ';' (   1)\n",
      "   'ous':  ' ' ( 429),  'e' ( 184),  'i' ( 103),  'a' (  83),  ',' (  36),  'l' (  20), '\\n' (  18),  '.' (  16),  ';' (  11),  '!' (   7),  ':' (   2),  'n' (   2),  '?' (   2),  'y' (   1),  '-' (   1)\n",
      "   'rom':  ' ' ( 614),  'i' (  54), '\\n' (   8),  'p' (   7),  'o' (   5),  \"'\" (   1),  '?' (   1)\n",
      "   'ali':  'a' (  32),  'c' (  22),  'n' (  21),  'v' (  20),  't' (  13),  'k' (  10),  's' (   9),  'b' (   7),  'f' (   5),  'g' (   5),  'o' (   4),  'z' (   4),  'd' (   1)\n",
      "   'SEB':  'A' (  42)\n",
      "   'ONI':  'O' (  38)\n",
      "   'ANT':  'O' (  38),  'I' (  19)\n",
      "Cumulative Top Tokens:\n",
      " 'e' (0.39),  ' ' (0.16),  'u' (0.03),  'm' (0.03),  't' (0.03),  'n' (0.03),  'i' (0.02),  'l' (0.02),  'I' (0.02),  'b' (0.02),  'p' (0.02),  ',' (0.02),  'f' (0.02),  'O' (0.01),  'g' (0.01),  'a' (0.01),  'C' (0.01),  'R' (0.01),  'w' (0.01),  'r' (0.01),  'A' (0.01),  's' (0.01),  'E' (0.01),  '.' (0.01),  'o' (0.01), '\\n' (0.01),  'T' (0.01),  ';' (0.00),  '?' (0.00),  ':' (0.00),  'c' (0.00),  'h' (0.00),  '!' (0.00),  \"'\" (0.00),  'v' (0.00),  'k' (0.00),  '-' (0.00),  'z' (0.00),  'H' (0.00),  'y' (0.00),  'd' (0.00)\n",
      "\n",
      "Block 5 FFWD Outputs\n",
      "--------------------\n",
      "\n",
      "Substrings: 'BAP', 'PET', 'RUC', 'CEN', 'ROS', 'LON'\n",
      "Top Tokens for each substring:\n",
      "   'BAP':  'T' (  68)\n",
      "   'PET':  'R' ( 158),  'E' (  22)\n",
      "   'RUC':  'H' ( 158)\n",
      "   'CEN':  'T' ( 277)\n",
      "   'ROS':  'P' (  63),  'S' (  11)\n",
      "   'LON':  'S' (  10)\n",
      "Cumulative Top Tokens:\n",
      " 'T' (0.45),  'R' (0.21),  'H' (0.21),  'P' (0.08),  'E' (0.03),  'S' (0.03)\n",
      "\n"
     ]
    }
   ],
   "source": [
    "# do it for the ffwd outputs\n",
    "\n",
    "s = 'BAP'\n",
    "for block_idx in range(n_layer):\n",
    "    title = f'Block {block_idx} FFWD Outputs'\n",
    "    print(title)\n",
    "    print(''.join(['-' for _ in range(len(title))]))\n",
    "    print()\n",
    "    clusters, substr_to_cluster = all_kmeans_results_ffwd_out[block_idx]\n",
    "    cluster = substr_to_cluster[s]\n",
    "    analysis = SubstringFrequencyAnalysis(cluster.substrs, ts.text, tokenizer.vocab_size, tokenizer.itos, tokenizer.stoi)\n",
    "    analysis.print_summary()\n",
    "    print()\n"
   ]
  },
  {
   "cell_type": "markdown",
   "metadata": {},
   "source": [
    "## Logit Lens View"
   ]
  },
  {
   "cell_type": "code",
   "execution_count": null,
   "metadata": {},
   "outputs": [
    {
     "data": {
      "image/png": "[encoded data removed]",
      "text/plain": [
       "<Figure size 360x2000 with 2 Axes>"
      ]
     },
     "metadata": {},
     "output_type": "display_data"
    }
   ],
   "source": [
    "logit_lens = LogitLens(encoding_helpers, accessors, 'BAP', 'APT')\n",
    "logit_lens.plot()"
   ]
  },
  {
   "cell_type": "code",
   "execution_count": null,
   "metadata": {},
   "outputs": [
    {
     "name": "stdout",
     "output_type": "stream",
     "text": [
      "'T' 0.376\n",
      "'U' 0.296\n",
      "'H' 0.066\n",
      "':' 0.060\n",
      "'E' 0.030\n",
      "'R' 0.029\n",
      "' ' 0.019\n",
      "'t' 0.017\n",
      "'N' 0.017\n",
      "'C' 0.012\n"
     ]
    }
   ],
   "source": [
    "# Print the probabilities for the next token given a prompt\n",
    "prompt = 'BAP'\n",
    "tokens = encoding_helpers.tokenize_string(prompt)\n",
    "logits, _ = m(tokens)\n",
    "logits = LogitsWrapper(logits.detach(), tokenizer)\n",
    "for token, prob in logits.topk_tokens(k=10)[0][-1]:\n",
    "    print(f'{repr(token)} {prob:.3f}')"
   ]
  },
  {
   "cell_type": "code",
   "execution_count": null,
   "metadata": {},
   "outputs": [
    {
     "data": {
      "image/png": "[encoded data removed]",
      "text/plain": [
       "<Figure size 1200x400 with 1 Axes>"
      ]
     },
     "metadata": {},
     "output_type": "display_data"
    }
   ],
   "source": [
    "# Plot them\n",
    "logits.plot_probs(title=f'Token Probabilities for {repr(prompt)}')"
   ]
  },
  {
   "cell_type": "code",
   "execution_count": null,
   "metadata": {},
   "outputs": [
    {
     "name": "stdout",
     "output_type": "stream",
     "text": [
      "'BAPHAM:\\n'\n",
      "'BAPTIS:\\n'\n",
      "'BAPTIS:\\n'\n",
      "'BAPTIS:\\n'\n",
      "'BAPULET:'\n",
      "'BAPTISTA'\n",
      "'BAPULET:'\n",
      "'BAPULET:'\n",
      "'BAPULET:'\n",
      "'BAPRINCE'\n"
     ]
    }
   ],
   "source": [
    "# See how it plays out in practice. \n",
    "prompt = 'BAP'\n",
    "tokens = encoding_helpers.tokenize_string(prompt)\n",
    "n_runs = 10\n",
    "for _ in range(n_runs):\n",
    "    print(repr(tokenizer.decode(m.generate(tokens, max_new_tokens=5)[0].tolist())))\n"
   ]
  }
 ],
 "metadata": {
  "kernelspec": {
   "display_name": "python3",
   "language": "python",
   "name": "python3"
  }
 },
 "nbformat": 4,
 "nbformat_minor": 2
}
