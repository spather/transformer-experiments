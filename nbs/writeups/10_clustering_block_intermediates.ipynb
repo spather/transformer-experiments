{
 "cells": [
  {
   "cell_type": "markdown",
   "metadata": {},
   "source": [
    "# Interpreting the Projection and Feed-Forward Layers in a Self-Attention Block\n",
    "\n",
    "> A summary of my experiments to understand the projection layer and feed-forward layer of a self-attention block."
   ]
  },
  {
   "cell_type": "code",
   "execution_count": null,
   "metadata": {},
   "outputs": [],
   "source": [
    "# | hide\n",
    "%load_ext autoreload\n",
    "%autoreload 2"
   ]
  },
  {
   "cell_type": "code",
   "execution_count": null,
   "metadata": {},
   "outputs": [],
   "source": [
    "# | hide\n",
    "\n",
    "from pathlib import Path\n",
    "from typing import Dict, Sequence, Tuple"
   ]
  },
  {
   "cell_type": "code",
   "execution_count": null,
   "metadata": {},
   "outputs": [],
   "source": [
    "# | hide\n",
    "\n",
    "from fastcore.test import *\n",
    "import matplotlib.pyplot as plt \n",
    "import numpy as np\n",
    "from sklearn.cluster import KMeans\n",
    "import torch \n",
    "from tqdm.auto import tqdm"
   ]
  },
  {
   "cell_type": "code",
   "execution_count": null,
   "metadata": {},
   "outputs": [],
   "source": [
    "# Set a manual seed so output is deterministic (used same value as @karpathy)\n",
    "_ = torch.manual_seed(1337)"
   ]
  },
  {
   "cell_type": "code",
   "execution_count": null,
   "metadata": {},
   "outputs": [],
   "source": [
    "# | hide\n",
    "\n",
    "from transformer_experiments.common.text_analysis import SubstringFrequencyAnalysis\n",
    "from transformer_experiments.common.utils import aggregate_by_string_key, DataWrapper\n",
    "from transformer_experiments.dataset_split import split_text_dataset\n",
    "from transformer_experiments.datasets.tinyshakespeare import (\n",
    "    TinyShakespeareDataSet,\n",
    ")\n",
    "from transformer_experiments.models.transformer import (\n",
    "    n_layer,\n",
    "    TransformerLanguageModel\n",
    ")\n",
    "from transformer_experiments.models.transformer_helpers import (\n",
    "    EncodingHelpers,\n",
    "    TransformerAccessors\n",
    ")\n",
    "from transformer_experiments.trained_models.tinyshakespeare_transformer import (\n",
    "    create_model_and_tokenizer\n",
    ")\n",
    "from transformer_experiments.experiments.block_internals import (\n",
    "    BlockInternalsExperiment,\n",
    "    BlockInternalsResult,\n",
    ")"
   ]
  },
  {
   "cell_type": "code",
   "execution_count": null,
   "metadata": {},
   "outputs": [],
   "source": [
    "device = 'cuda' if torch.cuda.is_available() else 'cpu'\n",
    "ts = TinyShakespeareDataSet(cache_file='../artifacts/input.txt')\n",
    "m, tokenizer = create_model_and_tokenizer(\n",
    "    saved_model_filename='../artifacts/shakespeare.pt',\n",
    "    dataset=ts,\n",
    "    device=device,\n",
    ")\n",
    "_, val_data = split_text_dataset(ts.text, tokenizer, train_pct=0.9)\n",
    "encoding_helpers = EncodingHelpers(m, tokenizer, device)\n",
    "accessors = TransformerAccessors(m)"
   ]
  },
  {
   "cell_type": "code",
   "execution_count": null,
   "metadata": {},
   "outputs": [
    {
     "name": "stdout",
     "output_type": "stream",
     "text": [
      "device is cpu\n"
     ]
    }
   ],
   "source": [
    "print(f\"device is {device}\")"
   ]
  },
  {
   "cell_type": "code",
   "execution_count": null,
   "metadata": {},
   "outputs": [],
   "source": [
    "# Define an experiment for each block\n",
    "block_internals_exps = [\n",
    "    BlockInternalsExperiment(\n",
    "        eh=encoding_helpers,\n",
    "        accessors=accessors,\n",
    "        block_idx=block_idx,\n",
    "        results_folder=Path('../artifacts//block_internals_results'),\n",
    "    )\n",
    "    for block_idx in range(n_layer)\n",
    "]"
   ]
  },
  {
   "cell_type": "code",
   "execution_count": null,
   "metadata": {},
   "outputs": [],
   "source": [
    "# Aggregate the results for each block\n",
    "block_internals_results = [\n",
    "    aggregate_by_string_key(\n",
    "        items=exp.raw_results(), key=lambda result: result.substring\n",
    "    )\n",
    "    for exp in block_internals_exps\n",
    "]"
   ]
  },
  {
   "cell_type": "code",
   "execution_count": null,
   "metadata": {},
   "outputs": [],
   "source": [
    "#| hide\n",
    "# Sanity check\n",
    "# Get the heads output and proj output manually\n",
    "s = 'BAP'\n",
    "block_idx = 0\n",
    "\n",
    "x = encoding_helpers.embed_string(s)\n",
    "for i in range(block_idx):\n",
    "    x = m.blocks[i](x)\n",
    "\n",
    "# Create a copy of the block we're interested in\n",
    "block, io_accessor = accessors.copy_block_from_model(block_idx=block_idx)\n",
    "_ = block(x)  # Run the block\n",
    "\n",
    "# Get the results from the experiment\n",
    "result_bap = block_internals_results[block_idx]['BAP']\n",
    "\n",
    "test_close(result_bap.heads_output, io_accessor.input('sa.proj')[0][-1])\n",
    "test_close(result_bap.proj_output, io_accessor.output('sa.proj')[0][-1])\n",
    "test_close(result_bap.ffwd_output, io_accessor.output('ffwd')[0][-1])"
   ]
  },
  {
   "cell_type": "markdown",
   "metadata": {},
   "source": [
    "## Clustering the Projection Layer Outputs"
   ]
  },
  {
   "cell_type": "code",
   "execution_count": null,
   "metadata": {},
   "outputs": [
    {
     "data": {
      "application/vnd.jupyter.widget-view+json": {
       "model_id": "933a7005418148829c610f456b1c8c20",
       "version_major": 2,
       "version_minor": 0
      },
      "text/plain": [
       "  0%|          | 0/50 [00:00<?, ?it/s]"
      ]
     },
     "metadata": {},
     "output_type": "display_data"
    },
    {
     "data": {
      "image/png": "[encoded data removed]",
      "text/plain": [
       "<Figure size 640x480 with 1 Axes>"
      ]
     },
     "metadata": {},
     "output_type": "display_data"
    }
   ],
   "source": [
    "#| eval: false\n",
    "# Try kmeans clustering the proj outputs with a range of k values to determine where the inertia levels off\n",
    "block_idx = 0\n",
    "s_len = 3\n",
    "\n",
    "substrs, proj_outputs = zip(*[\n",
    "    (result.substring, result.proj_output)\n",
    "    for result in block_internals_results[block_idx].values()\n",
    "    if len(result.substring) == s_len\n",
    "])\n",
    "\n",
    "inertias = []\n",
    "ks = range(1, 500, 10)\n",
    "for k in tqdm(ks):\n",
    "    kmeans = KMeans(n_clusters=k, random_state=0, n_init='auto').fit(proj_outputs)\n",
    "    inertias.append(kmeans.inertia_)\n",
    "\n",
    "# Plot the intertias\n",
    "plt.plot(ks, inertias, '-o')\n",
    "_ = plt.title(\"Number of clusters vs. inertia for Proj Matrix Outputs\")\n"
   ]
  },
  {
   "cell_type": "markdown",
   "metadata": {},
   "source": [
    "Eyeballing this, it looks like the elbow is around 50 clusters. We'll go with that. "
   ]
  },
  {
   "cell_type": "code",
   "execution_count": null,
   "metadata": {},
   "outputs": [],
   "source": [
    "#| code-fold: true\n",
    "#| code-summary: Helper code for clustering\n",
    "class Cluster:\n",
    "    \"\"\"A cluster of substrings.\"\"\"\n",
    "\n",
    "    def __init__(self, center: torch.Tensor):\n",
    "        self.center = center\n",
    "        self.substrs: Sequence[str] = []\n",
    "\n",
    "    def append(self, substr: str):\n",
    "        self.substrs.append(substr)\n",
    "\n",
    "    def __iter__(self):\n",
    "        return iter(self.substrs)\n",
    "\n",
    "    def __len__(self):\n",
    "        return len(self.substrs)\n",
    "    \n",
    "    def __str__(self):\n",
    "        return f'Cluster(center={self.center}, substrs={self.substrs})'\n",
    "\n",
    "\n",
    "StrToClusterMap = Dict[str, Cluster]  # Map from substring to cluster\n",
    "\n",
    "\n",
    "def cluster_data_for_substrings(\n",
    "    substrs: Sequence[str], data: torch.Tensor, n_clusters: int\n",
    ") -> Tuple[Sequence[Cluster], StrToClusterMap]:\n",
    "    \"\"\"Given a set of substrings and a data tensor in which the element\n",
    "    at index i corresponds to the substring at index i, clusters the data\n",
    "    into `n_clusters` clusters. Returns the clusters and a map from\n",
    "    substrings to clusters.\"\"\"\n",
    "    assert len(substrs) == len(data)\n",
    "\n",
    "    kmeans = KMeans(n_clusters=n_clusters, random_state=0, n_init='auto').fit(data)\n",
    "\n",
    "    clusters = [Cluster(torch.tensor(c)) for c in kmeans.cluster_centers_]\n",
    "    substr_to_cluster = {}\n",
    "    for i, label in enumerate(kmeans.labels_):\n",
    "        cluster = clusters[label]\n",
    "        cluster.append(substrs[i])\n",
    "        substr_to_cluster[substrs[i]] = cluster\n",
    "\n",
    "    # Sort the clusters by length\n",
    "    clusters = sorted(clusters, key=lambda cluster: len(cluster), reverse=True)\n",
    "\n",
    "    return clusters, substr_to_cluster\n"
   ]
  },
  {
   "cell_type": "code",
   "execution_count": null,
   "metadata": {},
   "outputs": [
    {
     "data": {
      "application/vnd.jupyter.widget-view+json": {
       "model_id": "29410713a7df4e54aea8399fe668dd46",
       "version_major": 2,
       "version_minor": 0
      },
      "text/plain": [
       "  0%|          | 0/6 [00:00<?, ?it/s]"
      ]
     },
     "metadata": {},
     "output_type": "display_data"
    }
   ],
   "source": [
    "# Run clustering on the proj outputs for all blocks\n",
    "s_len = 3\n",
    "n_clusters_proj_out = 50 # Based on the elbow analysis above\n",
    "\n",
    "all_kmeans_results_proj_out = []\n",
    "for block_idx in tqdm(range(n_layer)):\n",
    "    substrs, proj_outputs = zip(*[\n",
    "        (result.substring, result.proj_output)\n",
    "        for result in block_internals_results[block_idx].values()\n",
    "        if len(result.substring) == s_len\n",
    "    ])\n",
    "    clusters, substr_to_cluster = cluster_data_for_substrings(\n",
    "        substrs=substrs, data=torch.stack(proj_outputs), n_clusters=n_clusters_proj_out\n",
    "    )\n",
    "    all_kmeans_results_proj_out.append((clusters, substr_to_cluster))\n"
   ]
  },
  {
   "cell_type": "code",
   "execution_count": null,
   "metadata": {},
   "outputs": [],
   "source": [
    "#| code-fold: true\n",
    "#| code-summary: Helper function for getting the all the other strings in a cluster given a string\n",
    "def clusters_for_substring(s: str, str_to_cluster_maps: Sequence[StrToClusterMap]):\n",
    "    return DataWrapper(\n",
    "        data=[\n",
    "            str_to_cluster_maps[block_idx][s]\n",
    "            for block_idx in range(n_layer)\n",
    "        ],\n",
    "        format_item_fn=lambda item: \", \".join([repr(substr) for substr in item]),\n",
    "    )"
   ]
  },
  {
   "cell_type": "code",
   "execution_count": null,
   "metadata": {},
   "outputs": [
    {
     "name": "stdout",
     "output_type": "stream",
     "text": [
      "'hat', ' a ', '\\nAs', ' as', 'ian', 'BAP', 'har', 'fat', 'Was', 'tak', 'ear', 'pav', 'dam', 'mad', 'NA:', 'cal', 'NAT', 'Kat', 'ray', ' af', \"ta'\", 'eat', 'lav', 'way', 'pal', 'mak', 'rav', 'eak', 'hal', 'ran', 'par', ' an', '\\nAn', 'mas', 'say', 'dau', ' ar', 'nap', 'tam', 'cab', 'hav', '-al', 'ead', 'rat', 'may', 'han', 'lab', 'eas', 'lan'\n",
      "'be ', 'ble', 'BAP', 've ', 'ven', 'Bia', 'but', 'bit', 'bli', 'bes', 'bed', 'bet', 'Bio', 'bro', 'blo', 'ver'\n",
      "'BAP', 'Bia', 'BIA', 'Bio', 'BIO'\n",
      "'be ', 'ble', 'BAP', 'Bia', 'but', 'bit', 'bli', 'bes', 'bed', 'bet', 'Bio', 'bro', 'blo'\n",
      "'ARI', 'ATH', 'BAP', 'Ay,', 'ANI', 'And', 'A:\\n', 'Abs', 'A g', 'ALO', 'ANT'\n",
      "'BAP', 'Bia', 'BIA', 'Bio', 'Din', 'TIA'\n"
     ]
    }
   ],
   "source": [
    "# Print proj output clustering\n",
    "clusters_for_substring('BAP', [str_to_cluster for _, str_to_cluster in all_kmeans_results_proj_out]).print()"
   ]
  },
  {
   "cell_type": "markdown",
   "metadata": {},
   "source": [
    "## Clustering the FFWD Layer Outputs"
   ]
  },
  {
   "cell_type": "code",
   "execution_count": null,
   "metadata": {},
   "outputs": [
    {
     "data": {
      "application/vnd.jupyter.widget-view+json": {
       "model_id": "3b111b7de7ef40c69dde17028e640961",
       "version_major": 2,
       "version_minor": 0
      },
      "text/plain": [
       "  0%|          | 0/50 [00:00<?, ?it/s]"
      ]
     },
     "metadata": {},
     "output_type": "display_data"
    },
    {
     "data": {
      "image/png": "[encoded data removed]",
      "text/plain": [
       "<Figure size 640x480 with 1 Axes>"
      ]
     },
     "metadata": {},
     "output_type": "display_data"
    }
   ],
   "source": [
    "#| eval: false\n",
    "# Try kmeans clustering the ffwd outputs with a range of k values to determine where the inertia levels off\n",
    "block_idx = 0\n",
    "s_len = 3\n",
    "\n",
    "substrs, ffwd_outputs = zip(*[\n",
    "    (result.substring, result.ffwd_output)\n",
    "    for result in block_internals_results[block_idx].values()\n",
    "    if len(result.substring) == s_len\n",
    "])\n",
    "\n",
    "inertias = []\n",
    "ks = range(1, 500, 10)\n",
    "for k in tqdm(ks):\n",
    "    kmeans = KMeans(n_clusters=k, random_state=0, n_init='auto').fit(ffwd_outputs)\n",
    "    inertias.append(kmeans.inertia_)\n",
    "\n",
    "# Plot the intertias\n",
    "plt.plot(ks, inertias, '-o')\n",
    "_ = plt.title(\"Number of clusters vs. inertia for FFWD Network Outputs\")\n"
   ]
  },
  {
   "cell_type": "markdown",
   "metadata": {},
   "source": [
    "This one looks like the elbow is a little higher. Let's pick 60."
   ]
  },
  {
   "cell_type": "code",
   "execution_count": null,
   "metadata": {},
   "outputs": [
    {
     "data": {
      "application/vnd.jupyter.widget-view+json": {
       "model_id": "c84f2747723d4fcc8d71cca097cebdd3",
       "version_major": 2,
       "version_minor": 0
      },
      "text/plain": [
       "  0%|          | 0/6 [00:00<?, ?it/s]"
      ]
     },
     "metadata": {},
     "output_type": "display_data"
    }
   ],
   "source": [
    "# Run clustering on the proj outputs for all blocks\n",
    "s_len = 3\n",
    "n_clusters_ffwd_out = 60 # Based on the elbow analysis above\n",
    "\n",
    "all_kmeans_results_ffwd_out = []\n",
    "for block_idx in tqdm(range(n_layer)):\n",
    "    substrs, ffwd_outputs = zip(*[\n",
    "        (result.substring, result.ffwd_output)\n",
    "        for result in block_internals_results[block_idx].values()\n",
    "        if len(result.substring) == s_len\n",
    "    ])\n",
    "    clusters, substr_to_cluster = cluster_data_for_substrings(\n",
    "        substrs=substrs, data=torch.stack(ffwd_outputs), n_clusters=n_clusters_ffwd_out\n",
    "    )\n",
    "    all_kmeans_results_ffwd_out.append((clusters, substr_to_cluster))"
   ]
  },
  {
   "cell_type": "code",
   "execution_count": null,
   "metadata": {},
   "outputs": [
    {
     "name": "stdout",
     "output_type": "stream",
     "text": [
      "'BAP', '\\n\\nP'\n",
      "'ATH', 'RIN', 'TRU', 'UCH', 'BAP', 'IST', 'REM', 'NAT', 'IEL', 'PET', 'ENT', 'CEN', 'TON', 'ERO', 'ROS', 'ALO', 'SEB', 'ANT', 'LON'\n",
      "'STA', 'ATH', 'RIN', 'TRU', 'UCH', 'BAP', 'REM', 'd G', 'TRA', 'LUC', 'RUC', 'ETR', 'CEN', 'INA', '\\nPE', 'ERO', 'SPE', '\\nPR', 'ROS', 'ALO', 'NZA'\n",
      "'ond', '\\nYo', ' wo', \"\\nI'\", 'iss', 'BAP', ' mi', 'irt', '\\nOf', 'tir', ', J', ' yo', 'ANI', \"ta'\", 'all', '\\nOr', 'ing', '\\n\\nP', ' sk', 'RUC', 'son', 'tio', 'ors', 'dau', 'TON', 'inc', 'ati', 'rit', 'ous', 'thi', 'ROS', 'end', 'ALO', 'ONI', 'ort'\n",
      "'ATH', 'cuf', 'sho', 'TRU', 'UCH', 'hus', 'BAP', 'tak', 'wet', 'aus', 'omi', 'Som', 'REM', 'com', 'cal', 'NAT', 'Kat', ' af', 'ANI', \"ta'\", 'ang', 'mak', 'PET', ' ow', 'ath', 'Bio', 'dou', 'som', 'dau', ' ar', 'tam', 'tim', 'ois', 'ous', 'rom', 'ali', 'SEB', 'ONI', 'ANT'\n",
      "'BAP', 'PET', 'RUC', 'CEN', 'ROS', 'LON'\n"
     ]
    }
   ],
   "source": [
    "# Print ffwd output clustering\n",
    "clusters_for_substring('BAP', [str_to_cluster for _, str_to_cluster in all_kmeans_results_ffwd_out]).print()"
   ]
  },
  {
   "cell_type": "markdown",
   "metadata": {},
   "source": [
    "## Frequency analysis\n",
    "Let's see what we can learn about how these clusters relate to the input text. "
   ]
  },
  {
   "cell_type": "code",
   "execution_count": null,
   "metadata": {},
   "outputs": [
    {
     "name": "stdout",
     "output_type": "stream",
     "text": [
      "Substrings: 'BAP', 'Bia', 'BIA', 'Bio', 'Din', 'TIA'\n",
      "Top Tokens for each substring:\n",
      "'BAP': 'T' ( 68)\n",
      "'Bia': 'n' ( 37)\n",
      "'BIA': 'N' ( 29)\n",
      "'Bio': 'n' ( 13)\n",
      "'Din': 'g' (  1), 'e' (  1)\n",
      "'TIA': 'N' ( 42)\n",
      "Cumulative Top Tokens:\n",
      "'N' (0.37), 'T' (0.36), 'n' (0.26), 'e' (0.01), 'g' (0.01)\n"
     ]
    }
   ],
   "source": [
    "# do it for the proj outputs\n",
    "block_idx = 5\n",
    "clusters, substr_to_cluster = all_kmeans_results_proj_out[block_idx]\n",
    "s = 'BAP'\n",
    "cluster = substr_to_cluster[s]\n",
    "analysis = SubstringFrequencyAnalysis(cluster.substrs, ts.text, tokenizer.vocab_size, tokenizer.itos, tokenizer.stoi)\n",
    "analysis.print_summary()"
   ]
  },
  {
   "cell_type": "code",
   "execution_count": null,
   "metadata": {},
   "outputs": [
    {
     "name": "stdout",
     "output_type": "stream",
     "text": [
      "Substrings: 'BAP', 'PET', 'RUC', 'CEN', 'ROS', 'LON'\n",
      "Top Tokens for each substring:\n",
      "'BAP': 'T' ( 68)\n",
      "'PET': 'R' (158), 'E' ( 22)\n",
      "'RUC': 'H' (158)\n",
      "'CEN': 'T' (277)\n",
      "'ROS': 'P' ( 63), 'S' ( 11)\n",
      "'LON': 'S' ( 10)\n",
      "Cumulative Top Tokens:\n",
      "'T' (0.45), 'R' (0.21), 'H' (0.21), 'P' (0.08), 'E' (0.03), 'S' (0.03)\n"
     ]
    }
   ],
   "source": [
    "# do it for the ffwd outputs\n",
    "block_idx = 5\n",
    "clusters, substr_to_cluster = all_kmeans_results_ffwd_out[block_idx]\n",
    "s = 'BAP'\n",
    "cluster = substr_to_cluster[s]\n",
    "analysis = SubstringFrequencyAnalysis(cluster.substrs, ts.text, tokenizer.vocab_size, tokenizer.itos, tokenizer.stoi)\n",
    "analysis.print_summary()\n"
   ]
  }
 ],
 "metadata": {
  "kernelspec": {
   "display_name": "python3",
   "language": "python",
   "name": "python3"
  }
 },
 "nbformat": 4,
 "nbformat_minor": 2
}
